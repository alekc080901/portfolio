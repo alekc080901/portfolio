{
 "cells": [
  {
   "cell_type": "code",
   "execution_count": 1,
   "id": "8f2517b2",
   "metadata": {
    "id": "8f2517b2"
   },
   "outputs": [],
   "source": [
    "from typing import Union\n",
    "import graphviz\n",
    "import os\n",
    "import random\n",
    "import json"
   ]
  },
  {
   "cell_type": "code",
   "execution_count": 2,
   "id": "f0eb9cfe",
   "metadata": {
    "id": "f0eb9cfe"
   },
   "outputs": [],
   "source": [
    "COLORS = ['aqua', 'aquamarine', 'azure', 'beige', 'bisque', 'blanchedalmond',  'blue', 'blueviolet', 'brown',\n",
    "          'burlywood', 'cadetblue', 'chartreuse', 'chocolate', 'coral', 'cornflowerblue',  'cornsilk', 'crimson',\n",
    "          'cyan', 'darkblue', 'darkcyan', 'darkgoldenrod', 'darkgreen',  'darkkhaki', 'darkmagenta', 'darkolivegreen',\n",
    "          'darkorange', 'darkorchid', 'darkred', 'darksalmon',  'darkseagreen', 'darkslateblue', 'darkslategray',\n",
    "          'darkslategrey', 'darkturquoise', 'darkviolet', 'deeppink',  'deepskyblue', 'dimgray', 'dimgrey', 'dodgerblue',\n",
    "          'firebrick', 'forestgreen', 'fuchsia',  'gainsboro', 'gold', 'goldenrod', 'green', 'greenyellow', 'honeydew',\n",
    "          'hotpink',  'indianred', 'indigo', 'khaki', 'lavender', 'lavenderblush', 'lawngreen', 'lemonchiffon',  'lightblue',\n",
    "          'linen', 'magenta', 'maroon', 'mediumaquamarine',  'mediumblue', 'mediumorchid', 'mediumpurple', 'mediumseagreen',\n",
    "          'mediumslateblue', 'mediumspringgreen',  'mediumturquoise', 'mediumvioletred', 'midnightblue', 'mistyrose',\n",
    "          'moccasin',  'navy', 'oldlace', 'olive', 'olivedrab', 'orange', 'orangered', 'orchid', 'palegoldenrod', \n",
    "          'palegreen',  'paleturquoise', 'palevioletred', 'papayawhip', 'peachpuff', 'peru', 'pink', 'plum', 'powderblue',\n",
    "          'purple',  'red', 'rosybrown', 'royalblue', 'saddlebrown', 'salmon', 'sandybrown', 'seagreen', 'seashell',\n",
    "          'sienna',  'silver', 'skyblue', 'slateblue', 'slategray', 'slategrey', 'springgreen', 'steelblue', 'tan', 'teal',\n",
    "          'thistle', 'tomato', 'turquoise', 'violet', 'wheat', 'yellow', 'yellowgreen']\n",
    "random.shuffle(COLORS)"
   ]
  },
  {
   "cell_type": "code",
   "execution_count": 3,
   "id": "aaab2726",
   "metadata": {
    "id": "aaab2726"
   },
   "outputs": [],
   "source": [
    "class Node:\n",
    "\n",
    "    def __init__(self, number, connections=None):\n",
    "        \"\"\"\n",
    "        number – id вершины\n",
    "        connections - список с ссылками на другие вершин\n",
    "        color – название цвета\n",
    "        \"\"\"\n",
    "        if connections is None:\n",
    "            connections = []\n",
    "        self.number: int = number\n",
    "        self.connections: list = connections\n",
    "        self.color: str = 'white'\n",
    "\n",
    "    def connect(self, node):\n",
    "        \"\"\"\n",
    "        Связывает две вершины (и ту, и другую)\n",
    "        \"\"\"\n",
    "        if not isinstance(node, Node):\n",
    "            raise ValueError(\"Подан не тот тип\")\n",
    "\n",
    "        self.connections.append(node)\n",
    "        node.connections.append(self)\n",
    "        \n",
    "    def paint(self, color: Union[int, str]):\n",
    "        \"\"\"\n",
    "        Окрашивает вершину в указанный цвет по его id или названию\n",
    "        \"\"\"\n",
    "        if isinstance(color, int) and 0 <= color <= len(COLORS) - 1:\n",
    "            self.color = COLORS[color]\n",
    "            \n",
    "        elif isinstance(color, str):\n",
    "            self.color = color\n",
    "            \n",
    "        else:\n",
    "            raise ValueError(\"Неверный формат цвета\")"
   ]
  },
  {
   "cell_type": "code",
   "execution_count": 4,
   "id": "fe28965c",
   "metadata": {
    "id": "fe28965c"
   },
   "outputs": [],
   "source": [
    "class Graph:\n",
    "\n",
    "    def __init__(self, nodes_lst=None):\n",
    "        \"\"\"\n",
    "        nodes – список вершин\n",
    "        graph_image – изображение графа\n",
    "        \"\"\"\n",
    "        if nodes_lst is None:\n",
    "            nodes_lst = []\n",
    "        self.nodes: list = nodes_lst\n",
    "\n",
    "        self.n = len(self.nodes)\n",
    "        self.graph_image = graphviz.Graph(\n",
    "            filename=\"Graph\", format='png', \n",
    "            strict=True,\n",
    "            graph_attr={'size': '5!'}\n",
    "        )\n",
    "        \n",
    "\n",
    "    def add_node(self, node):\n",
    "        \"\"\"\n",
    "        Добавляет вершину в граф\n",
    "        \"\"\"\n",
    "        if not isinstance(node, Node):\n",
    "            raise Exception(\"Подан не тот тип\")\n",
    "\n",
    "        self.nodes.append(node)\n",
    "        \n",
    "    def _form_image(self):        \n",
    "        for node in self.nodes:\n",
    "            self.graph_image.node(str(node.number), str(node.number),\n",
    "                                  style='filled', colorscheme=\"SVG\",\n",
    "                                  fillcolor=node.color)\n",
    "\n",
    "        for source in self.nodes:\n",
    "            for dest in source.connections:\n",
    "                self.graph_image.edge(str(source.number), str(dest.number))\n",
    "\n",
    "    def show(self):\n",
    "        \"\"\"\n",
    "        Визуализирует граф\n",
    "        \"\"\"\n",
    "        self._form_image()\n",
    "        return self.graph_image\n",
    "    \n",
    "    def paint(self, colors):\n",
    "        for node, color in zip(self.nodes, colors):\n",
    "            node.paint(color)\n",
    "    \n",
    "    def check_coloring(self):\n",
    "        \"\"\"\n",
    "        Проверяет, правильно ли раскрашен граф\n",
    "        \"\"\"\n",
    "        for node in self.nodes:\n",
    "            for adjacent_node in node.connections:\n",
    "                if node.color == adjacent_node.color:\n",
    "                    return False\n",
    "        return True"
   ]
  },
  {
   "cell_type": "code",
   "execution_count": 5,
   "id": "c7b2d369",
   "metadata": {
    "id": "c7b2d369"
   },
   "outputs": [],
   "source": [
    "def input_int(name='', low=float('-inf'), top=float('inf')):\n",
    "    \"\"\"\n",
    "    Ввод числа через консоль с верхней и нижней границей\n",
    "    \"\"\"\n",
    "    while True:\n",
    "        number = input(name)\n",
    "        try:\n",
    "            int(number)\n",
    "            if int(number) < low:\n",
    "                print(f'Число должно быть больше либо равно {low}')\n",
    "            elif int(number) > top:\n",
    "                print(f'Число должно быть меньше либо равно {top}')\n",
    "            else:\n",
    "                number = int(number)\n",
    "                break\n",
    "        except ValueError:\n",
    "            print('Неверный тип данных')\n",
    "    return number"
   ]
  },
  {
   "cell_type": "code",
   "execution_count": 6,
   "id": "1da1060b",
   "metadata": {
    "id": "1da1060b"
   },
   "outputs": [],
   "source": [
    "def input_several(sep=','):\n",
    "    \"\"\"\n",
    "    Ввод нескольких чисел через разделитель\n",
    "    \"\"\"\n",
    "    while True:\n",
    "        data = input().replace(' ', '')\n",
    "        if data == '':\n",
    "            return []\n",
    "\n",
    "        try:\n",
    "            return list(map(int, data.split(\",\")))\n",
    "        except ValueError:\n",
    "            print(f\"Введите данные корректно (используя '{sep}')!\")"
   ]
  },
  {
   "cell_type": "code",
   "execution_count": 7,
   "id": "39915b48",
   "metadata": {
    "id": "39915b48"
   },
   "outputs": [],
   "source": [
    "def get_default_graph():\n",
    "    n = [Node(i + 1) for i in range(20)]\n",
    "    \n",
    "    n[0].connect(n[1])\n",
    "    n[0].connect(n[2])\n",
    "    n[0].connect(n[5])\n",
    "    n[0].connect(n[9])\n",
    "    n[0].connect(n[19])\n",
    "    n[1].connect(n[16])\n",
    "    n[2].connect(n[11])\n",
    "    n[3].connect(n[13])\n",
    "    n[3].connect(n[14])\n",
    "    n[4].connect(n[15])\n",
    "    n[4].connect(n[7])\n",
    "    n[5].connect(n[10])\n",
    "    n[5].connect(n[8])\n",
    "    n[6].connect(n[16])\n",
    "    n[6].connect(n[13])\n",
    "    n[7].connect(n[10])\n",
    "    n[8].connect(n[11])\n",
    "    n[9].connect(n[12])\n",
    "    n[9].connect(n[17])\n",
    "    n[11].connect(n[14])\n",
    "    n[12].connect(n[18])\n",
    "    n[12].connect(n[19])\n",
    "    n[15].connect(n[19])\n",
    "    n[16].connect(n[17])\n",
    "    \n",
    "    return Graph(n)"
   ]
  },
  {
   "cell_type": "code",
   "execution_count": 8,
   "id": "I97Ww6r45zNW",
   "metadata": {
    "id": "I97Ww6r45zNW"
   },
   "outputs": [],
   "source": [
    "def get_default_graph_3():\n",
    "  n = [Node(i + 1) for i in range(10)]\n",
    "    \n",
    "  n[0].connect(n[1])\n",
    "  n[0].connect(n[2])\n",
    "  n[0].connect(n[3])\n",
    "  n[1].connect(n[4])\n",
    "  n[1].connect(n[8])\n",
    "  n[2].connect(n[6])\n",
    "  n[2].connect(n[7])\n",
    "  n[3].connect(n[5])\n",
    "  n[3].connect(n[9])\n",
    "  n[4].connect(n[5])\n",
    "  n[4].connect(n[7])\n",
    "  n[5].connect(n[6])\n",
    "  n[6].connect(n[8])\n",
    "  n[7].connect(n[8])\n",
    "  n[8].connect(n[9])\n",
    "\n",
    "  return Graph(n)"
   ]
  },
  {
   "cell_type": "code",
   "execution_count": 9,
   "id": "704b9b6b",
   "metadata": {
    "id": "704b9b6b"
   },
   "outputs": [],
   "source": [
    "def graph_create(n: int):\n",
    "    \"\"\"\n",
    "    Ручной ввод графа\n",
    "    \"\"\"\n",
    "    graph = Graph()\n",
    "    nodes = [Node(i + 1) for i in range(n)]\n",
    "    \n",
    "    # Объявление вершин\n",
    "    node_number = 0\n",
    "    for i in range(n):\n",
    "        cur_node = nodes[i]\n",
    "        # Связывание вершин\n",
    "        while i != node_amount - 1:\n",
    "            print(\"Перечислите через запятую вершины, с которыми связана вершина\", node_number + 1)\n",
    "            node_connections = input_several()\n",
    "\n",
    "            if any([conn > node_amount or conn == node_number + 1 for conn in node_connections]) \\\n",
    "                    and node_connections != []:\n",
    "                print(\"Введите корректные вершины!\")\n",
    "                continue\n",
    "\n",
    "            for conn in node_connections:\n",
    "                cur_node.connect(nodes[conn - 1])\n",
    "            break\n",
    "        graph.add_node(cur_node)\n",
    "        node_number += 1\n",
    "\n",
    "    return graph"
   ]
  },
  {
   "cell_type": "markdown",
   "id": "08ad98af",
   "metadata": {
    "id": "08ad98af"
   },
   "source": [
    "Создадим граф"
   ]
  },
  {
   "cell_type": "code",
   "execution_count": 10,
   "id": "7806ccd4",
   "metadata": {
    "colab": {
     "base_uri": "https://localhost:8080/"
    },
    "id": "7806ccd4",
    "outputId": "0aa273ae-009f-4832-c352-a84a44bdefb3",
    "scrolled": true
   },
   "outputs": [
    {
     "name": "stdout",
     "output_type": "stream",
     "text": [
      "Использовать ли граф по умолчанию (0) или ввести вручную (1):\n",
      "0\n"
     ]
    }
   ],
   "source": [
    "default_choice = input_int('Использовать ли граф по умолчанию (0) или ввести вручную (1):\\n', low=0, top=1)"
   ]
  },
  {
   "cell_type": "code",
   "execution_count": 11,
   "id": "ca7e0432",
   "metadata": {
    "id": "ca7e0432",
    "scrolled": true
   },
   "outputs": [],
   "source": [
    "if default_choice:\n",
    "    node_amount = input_int(\"Введите количество вершин графа\\n\", low=1)\n",
    "    graph = graph_create(node_amount)\n",
    "else:\n",
    "    graph = get_default_graph_3()"
   ]
  },
  {
   "cell_type": "markdown",
   "id": "a71d0b23",
   "metadata": {
    "id": "a71d0b23"
   },
   "source": [
    "Наш граф пока выглядит так"
   ]
  },
  {
   "cell_type": "code",
   "execution_count": 12,
   "id": "8d364fc0",
   "metadata": {
    "colab": {
     "base_uri": "https://localhost:8080/",
     "height": 502
    },
    "id": "8d364fc0",
    "outputId": "7f75a775-a139-442c-aacf-e39fa8619417",
    "scrolled": true
   },
   "outputs": [
    {
     "data": {
      "image/svg+xml": [
       "<?xml version=\"1.0\" encoding=\"UTF-8\" standalone=\"no\"?>\r\n",
       "<!DOCTYPE svg PUBLIC \"-//W3C//DTD SVG 1.1//EN\"\r\n",
       " \"http://www.w3.org/Graphics/SVG/1.1/DTD/svg11.dtd\">\r\n",
       "<!-- Generated by graphviz version 2.49.0 (20210828.1703)\r\n",
       " -->\r\n",
       "<!-- Pages: 1 -->\r\n",
       "<svg width=\"195pt\" height=\"360pt\"\r\n",
       " viewBox=\"0.00 0.00 194.57 360.00\" xmlns=\"http://www.w3.org/2000/svg\" xmlns:xlink=\"http://www.w3.org/1999/xlink\">\r\n",
       "<g id=\"graph0\" class=\"graph\" transform=\"scale(0.76 0.76) rotate(0) translate(4 472)\">\r\n",
       "<polygon fill=\"white\" stroke=\"transparent\" points=\"-4,4 -4,-472 253.27,-472 253.27,4 -4,4\"/>\r\n",
       "<!-- 1 -->\r\n",
       "<g id=\"node1\" class=\"node\">\r\n",
       "<title>1</title>\r\n",
       "<ellipse fill=\"white\" stroke=\"black\" cx=\"109\" cy=\"-450\" rx=\"27\" ry=\"18\"/>\r\n",
       "<text text-anchor=\"middle\" x=\"109\" y=\"-446.3\" font-family=\"Times New Roman,serif\" font-size=\"14.00\">1</text>\r\n",
       "</g>\r\n",
       "<!-- 2 -->\r\n",
       "<g id=\"node2\" class=\"node\">\r\n",
       "<title>2</title>\r\n",
       "<ellipse fill=\"white\" stroke=\"black\" cx=\"109\" cy=\"-378\" rx=\"27\" ry=\"18\"/>\r\n",
       "<text text-anchor=\"middle\" x=\"109\" y=\"-374.3\" font-family=\"Times New Roman,serif\" font-size=\"14.00\">2</text>\r\n",
       "</g>\r\n",
       "<!-- 1&#45;&#45;2 -->\r\n",
       "<g id=\"edge1\" class=\"edge\">\r\n",
       "<title>1&#45;&#45;2</title>\r\n",
       "<path fill=\"none\" stroke=\"black\" d=\"M109,-431.7C109,-420.85 109,-406.92 109,-396.1\"/>\r\n",
       "</g>\r\n",
       "<!-- 3 -->\r\n",
       "<g id=\"node3\" class=\"node\">\r\n",
       "<title>3</title>\r\n",
       "<ellipse fill=\"white\" stroke=\"black\" cx=\"209\" cy=\"-306\" rx=\"27\" ry=\"18\"/>\r\n",
       "<text text-anchor=\"middle\" x=\"209\" y=\"-302.3\" font-family=\"Times New Roman,serif\" font-size=\"14.00\">3</text>\r\n",
       "</g>\r\n",
       "<!-- 1&#45;&#45;3 -->\r\n",
       "<g id=\"edge2\" class=\"edge\">\r\n",
       "<title>1&#45;&#45;3</title>\r\n",
       "<path fill=\"none\" stroke=\"black\" d=\"M120.08,-433.26C139.31,-405.97 178.61,-350.15 197.87,-322.81\"/>\r\n",
       "</g>\r\n",
       "<!-- 4 -->\r\n",
       "<g id=\"node4\" class=\"node\">\r\n",
       "<title>4</title>\r\n",
       "<ellipse fill=\"white\" stroke=\"black\" cx=\"27\" cy=\"-306\" rx=\"27\" ry=\"18\"/>\r\n",
       "<text text-anchor=\"middle\" x=\"27\" y=\"-302.3\" font-family=\"Times New Roman,serif\" font-size=\"14.00\">4</text>\r\n",
       "</g>\r\n",
       "<!-- 1&#45;&#45;4 -->\r\n",
       "<g id=\"edge3\" class=\"edge\">\r\n",
       "<title>1&#45;&#45;4</title>\r\n",
       "<path fill=\"none\" stroke=\"black\" d=\"M97.79,-433.55C90.41,-423.15 80.74,-409 73,-396 58.32,-371.34 43.46,-341.49 34.74,-323.39\"/>\r\n",
       "</g>\r\n",
       "<!-- 5 -->\r\n",
       "<g id=\"node5\" class=\"node\">\r\n",
       "<title>5</title>\r\n",
       "<ellipse fill=\"white\" stroke=\"black\" cx=\"137\" cy=\"-306\" rx=\"27\" ry=\"18\"/>\r\n",
       "<text text-anchor=\"middle\" x=\"137\" y=\"-302.3\" font-family=\"Times New Roman,serif\" font-size=\"14.00\">5</text>\r\n",
       "</g>\r\n",
       "<!-- 2&#45;&#45;5 -->\r\n",
       "<g id=\"edge4\" class=\"edge\">\r\n",
       "<title>2&#45;&#45;5</title>\r\n",
       "<path fill=\"none\" stroke=\"black\" d=\"M115.64,-360.41C120.1,-349.25 125.96,-334.6 130.41,-323.47\"/>\r\n",
       "</g>\r\n",
       "<!-- 9 -->\r\n",
       "<g id=\"node9\" class=\"node\">\r\n",
       "<title>9</title>\r\n",
       "<ellipse fill=\"white\" stroke=\"black\" cx=\"101\" cy=\"-90\" rx=\"27\" ry=\"18\"/>\r\n",
       "<text text-anchor=\"middle\" x=\"101\" y=\"-86.3\" font-family=\"Times New Roman,serif\" font-size=\"14.00\">9</text>\r\n",
       "</g>\r\n",
       "<!-- 2&#45;&#45;9 -->\r\n",
       "<g id=\"edge5\" class=\"edge\">\r\n",
       "<title>2&#45;&#45;9</title>\r\n",
       "<path fill=\"none\" stroke=\"black\" d=\"M105.75,-359.89C103.95,-349.54 101.91,-336.06 101,-324 94.96,-243.53 98.33,-146.98 100.12,-108.28\"/>\r\n",
       "</g>\r\n",
       "<!-- 7 -->\r\n",
       "<g id=\"node7\" class=\"node\">\r\n",
       "<title>7</title>\r\n",
       "<ellipse fill=\"white\" stroke=\"black\" cx=\"175\" cy=\"-162\" rx=\"27\" ry=\"18\"/>\r\n",
       "<text text-anchor=\"middle\" x=\"175\" y=\"-158.3\" font-family=\"Times New Roman,serif\" font-size=\"14.00\">7</text>\r\n",
       "</g>\r\n",
       "<!-- 3&#45;&#45;7 -->\r\n",
       "<g id=\"edge6\" class=\"edge\">\r\n",
       "<title>3&#45;&#45;7</title>\r\n",
       "<path fill=\"none\" stroke=\"black\" d=\"M222.73,-290.21C237.6,-272.29 257.61,-241.37 245,-216 235.02,-195.94 213.42,-181.44 196.84,-172.73\"/>\r\n",
       "</g>\r\n",
       "<!-- 8 -->\r\n",
       "<g id=\"node8\" class=\"node\">\r\n",
       "<title>8</title>\r\n",
       "<ellipse fill=\"white\" stroke=\"black\" cx=\"209\" cy=\"-234\" rx=\"27\" ry=\"18\"/>\r\n",
       "<text text-anchor=\"middle\" x=\"209\" y=\"-230.3\" font-family=\"Times New Roman,serif\" font-size=\"14.00\">8</text>\r\n",
       "</g>\r\n",
       "<!-- 3&#45;&#45;8 -->\r\n",
       "<g id=\"edge7\" class=\"edge\">\r\n",
       "<title>3&#45;&#45;8</title>\r\n",
       "<path fill=\"none\" stroke=\"black\" d=\"M209,-287.7C209,-276.85 209,-262.92 209,-252.1\"/>\r\n",
       "</g>\r\n",
       "<!-- 6 -->\r\n",
       "<g id=\"node6\" class=\"node\">\r\n",
       "<title>6</title>\r\n",
       "<ellipse fill=\"white\" stroke=\"black\" cx=\"137\" cy=\"-234\" rx=\"27\" ry=\"18\"/>\r\n",
       "<text text-anchor=\"middle\" x=\"137\" y=\"-230.3\" font-family=\"Times New Roman,serif\" font-size=\"14.00\">6</text>\r\n",
       "</g>\r\n",
       "<!-- 4&#45;&#45;6 -->\r\n",
       "<g id=\"edge8\" class=\"edge\">\r\n",
       "<title>4&#45;&#45;6</title>\r\n",
       "<path fill=\"none\" stroke=\"black\" d=\"M46.16,-292.81C66.35,-279.96 97.95,-259.85 118.06,-247.05\"/>\r\n",
       "</g>\r\n",
       "<!-- 10 -->\r\n",
       "<g id=\"node10\" class=\"node\">\r\n",
       "<title>10</title>\r\n",
       "<ellipse fill=\"white\" stroke=\"black\" cx=\"63\" cy=\"-18\" rx=\"27\" ry=\"18\"/>\r\n",
       "<text text-anchor=\"middle\" x=\"63\" y=\"-14.3\" font-family=\"Times New Roman,serif\" font-size=\"14.00\">10</text>\r\n",
       "</g>\r\n",
       "<!-- 4&#45;&#45;10 -->\r\n",
       "<g id=\"edge9\" class=\"edge\">\r\n",
       "<title>4&#45;&#45;10</title>\r\n",
       "<path fill=\"none\" stroke=\"black\" d=\"M29.14,-287.97C35.55,-237.1 54.48,-86.7 60.87,-35.94\"/>\r\n",
       "</g>\r\n",
       "<!-- 5&#45;&#45;6 -->\r\n",
       "<g id=\"edge10\" class=\"edge\">\r\n",
       "<title>5&#45;&#45;6</title>\r\n",
       "<path fill=\"none\" stroke=\"black\" d=\"M137,-287.7C137,-276.85 137,-262.92 137,-252.1\"/>\r\n",
       "</g>\r\n",
       "<!-- 5&#45;&#45;8 -->\r\n",
       "<g id=\"edge11\" class=\"edge\">\r\n",
       "<title>5&#45;&#45;8</title>\r\n",
       "<path fill=\"none\" stroke=\"black\" d=\"M151.57,-290.83C163.98,-278.77 181.73,-261.51 194.2,-249.38\"/>\r\n",
       "</g>\r\n",
       "<!-- 6&#45;&#45;7 -->\r\n",
       "<g id=\"edge12\" class=\"edge\">\r\n",
       "<title>6&#45;&#45;7</title>\r\n",
       "<path fill=\"none\" stroke=\"black\" d=\"M145.81,-216.76C151.95,-205.46 160.11,-190.44 166.23,-179.15\"/>\r\n",
       "</g>\r\n",
       "<!-- 7&#45;&#45;9 -->\r\n",
       "<g id=\"edge13\" class=\"edge\">\r\n",
       "<title>7&#45;&#45;9</title>\r\n",
       "<path fill=\"none\" stroke=\"black\" d=\"M160.02,-146.83C147.19,-134.69 128.78,-117.28 115.95,-105.14\"/>\r\n",
       "</g>\r\n",
       "<!-- 8&#45;&#45;9 -->\r\n",
       "<g id=\"edge14\" class=\"edge\">\r\n",
       "<title>8&#45;&#45;9</title>\r\n",
       "<path fill=\"none\" stroke=\"black\" d=\"M188.92,-221.77C173.54,-212.31 152.7,-197.54 139,-180 121.73,-157.89 110.82,-126.75 105.32,-107.77\"/>\r\n",
       "</g>\r\n",
       "<!-- 9&#45;&#45;10 -->\r\n",
       "<g id=\"edge15\" class=\"edge\">\r\n",
       "<title>9&#45;&#45;10</title>\r\n",
       "<path fill=\"none\" stroke=\"black\" d=\"M92.19,-72.76C86.05,-61.46 77.89,-46.44 71.77,-35.15\"/>\r\n",
       "</g>\r\n",
       "</g>\r\n",
       "</svg>\r\n"
      ],
      "text/plain": [
       "<graphviz.dot.Graph at 0x1772ae66a30>"
      ]
     },
     "execution_count": 12,
     "metadata": {},
     "output_type": "execute_result"
    }
   ],
   "source": [
    "graph.show()"
   ]
  },
  {
   "cell_type": "markdown",
   "id": "f0f6159f",
   "metadata": {
    "id": "f0f6159f"
   },
   "source": [
    "Окрасим каждую вершину графа в свой цвет"
   ]
  },
  {
   "cell_type": "code",
   "execution_count": 13,
   "id": "e4665cab",
   "metadata": {
    "id": "e4665cab"
   },
   "outputs": [],
   "source": [
    "for color, node in enumerate(graph.nodes):\n",
    "    node.paint(color)"
   ]
  },
  {
   "cell_type": "code",
   "execution_count": 14,
   "id": "a0a3ec52",
   "metadata": {
    "colab": {
     "base_uri": "https://localhost:8080/",
     "height": 502
    },
    "id": "a0a3ec52",
    "outputId": "8151e01f-83ce-47a1-a8dd-705bd8ecd126",
    "scrolled": false
   },
   "outputs": [
    {
     "data": {
      "image/svg+xml": [
       "<?xml version=\"1.0\" encoding=\"UTF-8\" standalone=\"no\"?>\r\n",
       "<!DOCTYPE svg PUBLIC \"-//W3C//DTD SVG 1.1//EN\"\r\n",
       " \"http://www.w3.org/Graphics/SVG/1.1/DTD/svg11.dtd\">\r\n",
       "<!-- Generated by graphviz version 2.49.0 (20210828.1703)\r\n",
       " -->\r\n",
       "<!-- Pages: 1 -->\r\n",
       "<svg width=\"195pt\" height=\"360pt\"\r\n",
       " viewBox=\"0.00 0.00 194.57 360.00\" xmlns=\"http://www.w3.org/2000/svg\" xmlns:xlink=\"http://www.w3.org/1999/xlink\">\r\n",
       "<g id=\"graph0\" class=\"graph\" transform=\"scale(0.76 0.76) rotate(0) translate(4 472)\">\r\n",
       "<polygon fill=\"white\" stroke=\"transparent\" points=\"-4,4 -4,-472 253.27,-472 253.27,4 -4,4\"/>\r\n",
       "<!-- 1 -->\r\n",
       "<g id=\"node1\" class=\"node\">\r\n",
       "<title>1</title>\r\n",
       "<ellipse fill=\"deeppink\" stroke=\"black\" cx=\"109\" cy=\"-450\" rx=\"27\" ry=\"18\"/>\r\n",
       "<text text-anchor=\"middle\" x=\"109\" y=\"-446.3\" font-family=\"Times New Roman,serif\" font-size=\"14.00\">1</text>\r\n",
       "</g>\r\n",
       "<!-- 2 -->\r\n",
       "<g id=\"node2\" class=\"node\">\r\n",
       "<title>2</title>\r\n",
       "<ellipse fill=\"magenta\" stroke=\"black\" cx=\"109\" cy=\"-378\" rx=\"27\" ry=\"18\"/>\r\n",
       "<text text-anchor=\"middle\" x=\"109\" y=\"-374.3\" font-family=\"Times New Roman,serif\" font-size=\"14.00\">2</text>\r\n",
       "</g>\r\n",
       "<!-- 1&#45;&#45;2 -->\r\n",
       "<g id=\"edge1\" class=\"edge\">\r\n",
       "<title>1&#45;&#45;2</title>\r\n",
       "<path fill=\"none\" stroke=\"black\" d=\"M109,-431.7C109,-420.85 109,-406.92 109,-396.1\"/>\r\n",
       "</g>\r\n",
       "<!-- 3 -->\r\n",
       "<g id=\"node3\" class=\"node\">\r\n",
       "<title>3</title>\r\n",
       "<ellipse fill=\"burlywood\" stroke=\"black\" cx=\"209\" cy=\"-306\" rx=\"27\" ry=\"18\"/>\r\n",
       "<text text-anchor=\"middle\" x=\"209\" y=\"-302.3\" font-family=\"Times New Roman,serif\" font-size=\"14.00\">3</text>\r\n",
       "</g>\r\n",
       "<!-- 1&#45;&#45;3 -->\r\n",
       "<g id=\"edge2\" class=\"edge\">\r\n",
       "<title>1&#45;&#45;3</title>\r\n",
       "<path fill=\"none\" stroke=\"black\" d=\"M120.08,-433.26C139.31,-405.97 178.61,-350.15 197.87,-322.81\"/>\r\n",
       "</g>\r\n",
       "<!-- 4 -->\r\n",
       "<g id=\"node4\" class=\"node\">\r\n",
       "<title>4</title>\r\n",
       "<ellipse fill=\"palegoldenrod\" stroke=\"black\" cx=\"27\" cy=\"-306\" rx=\"27\" ry=\"18\"/>\r\n",
       "<text text-anchor=\"middle\" x=\"27\" y=\"-302.3\" font-family=\"Times New Roman,serif\" font-size=\"14.00\">4</text>\r\n",
       "</g>\r\n",
       "<!-- 1&#45;&#45;4 -->\r\n",
       "<g id=\"edge3\" class=\"edge\">\r\n",
       "<title>1&#45;&#45;4</title>\r\n",
       "<path fill=\"none\" stroke=\"black\" d=\"M97.79,-433.55C90.41,-423.15 80.74,-409 73,-396 58.32,-371.34 43.46,-341.49 34.74,-323.39\"/>\r\n",
       "</g>\r\n",
       "<!-- 5 -->\r\n",
       "<g id=\"node5\" class=\"node\">\r\n",
       "<title>5</title>\r\n",
       "<ellipse fill=\"aquamarine\" stroke=\"black\" cx=\"137\" cy=\"-306\" rx=\"27\" ry=\"18\"/>\r\n",
       "<text text-anchor=\"middle\" x=\"137\" y=\"-302.3\" font-family=\"Times New Roman,serif\" font-size=\"14.00\">5</text>\r\n",
       "</g>\r\n",
       "<!-- 2&#45;&#45;5 -->\r\n",
       "<g id=\"edge4\" class=\"edge\">\r\n",
       "<title>2&#45;&#45;5</title>\r\n",
       "<path fill=\"none\" stroke=\"black\" d=\"M115.64,-360.41C120.1,-349.25 125.96,-334.6 130.41,-323.47\"/>\r\n",
       "</g>\r\n",
       "<!-- 9 -->\r\n",
       "<g id=\"node9\" class=\"node\">\r\n",
       "<title>9</title>\r\n",
       "<ellipse fill=\"mediumseagreen\" stroke=\"black\" cx=\"101\" cy=\"-90\" rx=\"27\" ry=\"18\"/>\r\n",
       "<text text-anchor=\"middle\" x=\"101\" y=\"-86.3\" font-family=\"Times New Roman,serif\" font-size=\"14.00\">9</text>\r\n",
       "</g>\r\n",
       "<!-- 2&#45;&#45;9 -->\r\n",
       "<g id=\"edge5\" class=\"edge\">\r\n",
       "<title>2&#45;&#45;9</title>\r\n",
       "<path fill=\"none\" stroke=\"black\" d=\"M105.75,-359.89C103.95,-349.54 101.91,-336.06 101,-324 94.96,-243.53 98.33,-146.98 100.12,-108.28\"/>\r\n",
       "</g>\r\n",
       "<!-- 7 -->\r\n",
       "<g id=\"node7\" class=\"node\">\r\n",
       "<title>7</title>\r\n",
       "<ellipse fill=\"olivedrab\" stroke=\"black\" cx=\"175\" cy=\"-162\" rx=\"27\" ry=\"18\"/>\r\n",
       "<text text-anchor=\"middle\" x=\"175\" y=\"-158.3\" font-family=\"Times New Roman,serif\" font-size=\"14.00\">7</text>\r\n",
       "</g>\r\n",
       "<!-- 3&#45;&#45;7 -->\r\n",
       "<g id=\"edge6\" class=\"edge\">\r\n",
       "<title>3&#45;&#45;7</title>\r\n",
       "<path fill=\"none\" stroke=\"black\" d=\"M222.73,-290.21C237.6,-272.29 257.61,-241.37 245,-216 235.02,-195.94 213.42,-181.44 196.84,-172.73\"/>\r\n",
       "</g>\r\n",
       "<!-- 8 -->\r\n",
       "<g id=\"node8\" class=\"node\">\r\n",
       "<title>8</title>\r\n",
       "<ellipse fill=\"azure\" stroke=\"black\" cx=\"209\" cy=\"-234\" rx=\"27\" ry=\"18\"/>\r\n",
       "<text text-anchor=\"middle\" x=\"209\" y=\"-230.3\" font-family=\"Times New Roman,serif\" font-size=\"14.00\">8</text>\r\n",
       "</g>\r\n",
       "<!-- 3&#45;&#45;8 -->\r\n",
       "<g id=\"edge7\" class=\"edge\">\r\n",
       "<title>3&#45;&#45;8</title>\r\n",
       "<path fill=\"none\" stroke=\"black\" d=\"M209,-287.7C209,-276.85 209,-262.92 209,-252.1\"/>\r\n",
       "</g>\r\n",
       "<!-- 6 -->\r\n",
       "<g id=\"node6\" class=\"node\">\r\n",
       "<title>6</title>\r\n",
       "<ellipse fill=\"darkviolet\" stroke=\"black\" cx=\"137\" cy=\"-234\" rx=\"27\" ry=\"18\"/>\r\n",
       "<text text-anchor=\"middle\" x=\"137\" y=\"-230.3\" font-family=\"Times New Roman,serif\" font-size=\"14.00\">6</text>\r\n",
       "</g>\r\n",
       "<!-- 4&#45;&#45;6 -->\r\n",
       "<g id=\"edge8\" class=\"edge\">\r\n",
       "<title>4&#45;&#45;6</title>\r\n",
       "<path fill=\"none\" stroke=\"black\" d=\"M46.16,-292.81C66.35,-279.96 97.95,-259.85 118.06,-247.05\"/>\r\n",
       "</g>\r\n",
       "<!-- 10 -->\r\n",
       "<g id=\"node10\" class=\"node\">\r\n",
       "<title>10</title>\r\n",
       "<ellipse fill=\"violet\" stroke=\"black\" cx=\"63\" cy=\"-18\" rx=\"27\" ry=\"18\"/>\r\n",
       "<text text-anchor=\"middle\" x=\"63\" y=\"-14.3\" font-family=\"Times New Roman,serif\" font-size=\"14.00\">10</text>\r\n",
       "</g>\r\n",
       "<!-- 4&#45;&#45;10 -->\r\n",
       "<g id=\"edge9\" class=\"edge\">\r\n",
       "<title>4&#45;&#45;10</title>\r\n",
       "<path fill=\"none\" stroke=\"black\" d=\"M29.14,-287.97C35.55,-237.1 54.48,-86.7 60.87,-35.94\"/>\r\n",
       "</g>\r\n",
       "<!-- 5&#45;&#45;6 -->\r\n",
       "<g id=\"edge10\" class=\"edge\">\r\n",
       "<title>5&#45;&#45;6</title>\r\n",
       "<path fill=\"none\" stroke=\"black\" d=\"M137,-287.7C137,-276.85 137,-262.92 137,-252.1\"/>\r\n",
       "</g>\r\n",
       "<!-- 5&#45;&#45;8 -->\r\n",
       "<g id=\"edge11\" class=\"edge\">\r\n",
       "<title>5&#45;&#45;8</title>\r\n",
       "<path fill=\"none\" stroke=\"black\" d=\"M151.57,-290.83C163.98,-278.77 181.73,-261.51 194.2,-249.38\"/>\r\n",
       "</g>\r\n",
       "<!-- 6&#45;&#45;7 -->\r\n",
       "<g id=\"edge12\" class=\"edge\">\r\n",
       "<title>6&#45;&#45;7</title>\r\n",
       "<path fill=\"none\" stroke=\"black\" d=\"M145.81,-216.76C151.95,-205.46 160.11,-190.44 166.23,-179.15\"/>\r\n",
       "</g>\r\n",
       "<!-- 7&#45;&#45;9 -->\r\n",
       "<g id=\"edge13\" class=\"edge\">\r\n",
       "<title>7&#45;&#45;9</title>\r\n",
       "<path fill=\"none\" stroke=\"black\" d=\"M160.02,-146.83C147.19,-134.69 128.78,-117.28 115.95,-105.14\"/>\r\n",
       "</g>\r\n",
       "<!-- 8&#45;&#45;9 -->\r\n",
       "<g id=\"edge14\" class=\"edge\">\r\n",
       "<title>8&#45;&#45;9</title>\r\n",
       "<path fill=\"none\" stroke=\"black\" d=\"M188.92,-221.77C173.54,-212.31 152.7,-197.54 139,-180 121.73,-157.89 110.82,-126.75 105.32,-107.77\"/>\r\n",
       "</g>\r\n",
       "<!-- 9&#45;&#45;10 -->\r\n",
       "<g id=\"edge15\" class=\"edge\">\r\n",
       "<title>9&#45;&#45;10</title>\r\n",
       "<path fill=\"none\" stroke=\"black\" d=\"M92.19,-72.76C86.05,-61.46 77.89,-46.44 71.77,-35.15\"/>\r\n",
       "</g>\r\n",
       "</g>\r\n",
       "</svg>\r\n"
      ],
      "text/plain": [
       "<graphviz.dot.Graph at 0x1772ae66a30>"
      ]
     },
     "execution_count": 14,
     "metadata": {},
     "output_type": "execute_result"
    }
   ],
   "source": [
    "graph.show()"
   ]
  },
  {
   "cell_type": "markdown",
   "id": "ca23bb9d",
   "metadata": {
    "id": "ca23bb9d"
   },
   "source": [
    "Цвета можно легко менять, если надо"
   ]
  },
  {
   "cell_type": "code",
   "execution_count": 15,
   "id": "485a1e99",
   "metadata": {
    "id": "485a1e99"
   },
   "outputs": [],
   "source": [
    "graph.nodes[3].color = 'yellow'"
   ]
  },
  {
   "cell_type": "code",
   "execution_count": 16,
   "id": "15faa59c",
   "metadata": {
    "colab": {
     "base_uri": "https://localhost:8080/",
     "height": 502
    },
    "id": "15faa59c",
    "outputId": "d05913d9-ae1d-4c00-9284-4757ba82477a",
    "scrolled": true
   },
   "outputs": [
    {
     "data": {
      "image/svg+xml": [
       "<?xml version=\"1.0\" encoding=\"UTF-8\" standalone=\"no\"?>\r\n",
       "<!DOCTYPE svg PUBLIC \"-//W3C//DTD SVG 1.1//EN\"\r\n",
       " \"http://www.w3.org/Graphics/SVG/1.1/DTD/svg11.dtd\">\r\n",
       "<!-- Generated by graphviz version 2.49.0 (20210828.1703)\r\n",
       " -->\r\n",
       "<!-- Pages: 1 -->\r\n",
       "<svg width=\"195pt\" height=\"360pt\"\r\n",
       " viewBox=\"0.00 0.00 194.57 360.00\" xmlns=\"http://www.w3.org/2000/svg\" xmlns:xlink=\"http://www.w3.org/1999/xlink\">\r\n",
       "<g id=\"graph0\" class=\"graph\" transform=\"scale(0.76 0.76) rotate(0) translate(4 472)\">\r\n",
       "<polygon fill=\"white\" stroke=\"transparent\" points=\"-4,4 -4,-472 253.27,-472 253.27,4 -4,4\"/>\r\n",
       "<!-- 1 -->\r\n",
       "<g id=\"node1\" class=\"node\">\r\n",
       "<title>1</title>\r\n",
       "<ellipse fill=\"deeppink\" stroke=\"black\" cx=\"109\" cy=\"-450\" rx=\"27\" ry=\"18\"/>\r\n",
       "<text text-anchor=\"middle\" x=\"109\" y=\"-446.3\" font-family=\"Times New Roman,serif\" font-size=\"14.00\">1</text>\r\n",
       "</g>\r\n",
       "<!-- 2 -->\r\n",
       "<g id=\"node2\" class=\"node\">\r\n",
       "<title>2</title>\r\n",
       "<ellipse fill=\"magenta\" stroke=\"black\" cx=\"109\" cy=\"-378\" rx=\"27\" ry=\"18\"/>\r\n",
       "<text text-anchor=\"middle\" x=\"109\" y=\"-374.3\" font-family=\"Times New Roman,serif\" font-size=\"14.00\">2</text>\r\n",
       "</g>\r\n",
       "<!-- 1&#45;&#45;2 -->\r\n",
       "<g id=\"edge1\" class=\"edge\">\r\n",
       "<title>1&#45;&#45;2</title>\r\n",
       "<path fill=\"none\" stroke=\"black\" d=\"M109,-431.7C109,-420.85 109,-406.92 109,-396.1\"/>\r\n",
       "</g>\r\n",
       "<!-- 3 -->\r\n",
       "<g id=\"node3\" class=\"node\">\r\n",
       "<title>3</title>\r\n",
       "<ellipse fill=\"burlywood\" stroke=\"black\" cx=\"209\" cy=\"-306\" rx=\"27\" ry=\"18\"/>\r\n",
       "<text text-anchor=\"middle\" x=\"209\" y=\"-302.3\" font-family=\"Times New Roman,serif\" font-size=\"14.00\">3</text>\r\n",
       "</g>\r\n",
       "<!-- 1&#45;&#45;3 -->\r\n",
       "<g id=\"edge2\" class=\"edge\">\r\n",
       "<title>1&#45;&#45;3</title>\r\n",
       "<path fill=\"none\" stroke=\"black\" d=\"M120.08,-433.26C139.31,-405.97 178.61,-350.15 197.87,-322.81\"/>\r\n",
       "</g>\r\n",
       "<!-- 4 -->\r\n",
       "<g id=\"node4\" class=\"node\">\r\n",
       "<title>4</title>\r\n",
       "<ellipse fill=\"yellow\" stroke=\"black\" cx=\"27\" cy=\"-306\" rx=\"27\" ry=\"18\"/>\r\n",
       "<text text-anchor=\"middle\" x=\"27\" y=\"-302.3\" font-family=\"Times New Roman,serif\" font-size=\"14.00\">4</text>\r\n",
       "</g>\r\n",
       "<!-- 1&#45;&#45;4 -->\r\n",
       "<g id=\"edge3\" class=\"edge\">\r\n",
       "<title>1&#45;&#45;4</title>\r\n",
       "<path fill=\"none\" stroke=\"black\" d=\"M97.79,-433.55C90.41,-423.15 80.74,-409 73,-396 58.32,-371.34 43.46,-341.49 34.74,-323.39\"/>\r\n",
       "</g>\r\n",
       "<!-- 5 -->\r\n",
       "<g id=\"node5\" class=\"node\">\r\n",
       "<title>5</title>\r\n",
       "<ellipse fill=\"aquamarine\" stroke=\"black\" cx=\"137\" cy=\"-306\" rx=\"27\" ry=\"18\"/>\r\n",
       "<text text-anchor=\"middle\" x=\"137\" y=\"-302.3\" font-family=\"Times New Roman,serif\" font-size=\"14.00\">5</text>\r\n",
       "</g>\r\n",
       "<!-- 2&#45;&#45;5 -->\r\n",
       "<g id=\"edge4\" class=\"edge\">\r\n",
       "<title>2&#45;&#45;5</title>\r\n",
       "<path fill=\"none\" stroke=\"black\" d=\"M115.64,-360.41C120.1,-349.25 125.96,-334.6 130.41,-323.47\"/>\r\n",
       "</g>\r\n",
       "<!-- 9 -->\r\n",
       "<g id=\"node9\" class=\"node\">\r\n",
       "<title>9</title>\r\n",
       "<ellipse fill=\"mediumseagreen\" stroke=\"black\" cx=\"101\" cy=\"-90\" rx=\"27\" ry=\"18\"/>\r\n",
       "<text text-anchor=\"middle\" x=\"101\" y=\"-86.3\" font-family=\"Times New Roman,serif\" font-size=\"14.00\">9</text>\r\n",
       "</g>\r\n",
       "<!-- 2&#45;&#45;9 -->\r\n",
       "<g id=\"edge5\" class=\"edge\">\r\n",
       "<title>2&#45;&#45;9</title>\r\n",
       "<path fill=\"none\" stroke=\"black\" d=\"M105.75,-359.89C103.95,-349.54 101.91,-336.06 101,-324 94.96,-243.53 98.33,-146.98 100.12,-108.28\"/>\r\n",
       "</g>\r\n",
       "<!-- 7 -->\r\n",
       "<g id=\"node7\" class=\"node\">\r\n",
       "<title>7</title>\r\n",
       "<ellipse fill=\"olivedrab\" stroke=\"black\" cx=\"175\" cy=\"-162\" rx=\"27\" ry=\"18\"/>\r\n",
       "<text text-anchor=\"middle\" x=\"175\" y=\"-158.3\" font-family=\"Times New Roman,serif\" font-size=\"14.00\">7</text>\r\n",
       "</g>\r\n",
       "<!-- 3&#45;&#45;7 -->\r\n",
       "<g id=\"edge6\" class=\"edge\">\r\n",
       "<title>3&#45;&#45;7</title>\r\n",
       "<path fill=\"none\" stroke=\"black\" d=\"M222.73,-290.21C237.6,-272.29 257.61,-241.37 245,-216 235.02,-195.94 213.42,-181.44 196.84,-172.73\"/>\r\n",
       "</g>\r\n",
       "<!-- 8 -->\r\n",
       "<g id=\"node8\" class=\"node\">\r\n",
       "<title>8</title>\r\n",
       "<ellipse fill=\"azure\" stroke=\"black\" cx=\"209\" cy=\"-234\" rx=\"27\" ry=\"18\"/>\r\n",
       "<text text-anchor=\"middle\" x=\"209\" y=\"-230.3\" font-family=\"Times New Roman,serif\" font-size=\"14.00\">8</text>\r\n",
       "</g>\r\n",
       "<!-- 3&#45;&#45;8 -->\r\n",
       "<g id=\"edge7\" class=\"edge\">\r\n",
       "<title>3&#45;&#45;8</title>\r\n",
       "<path fill=\"none\" stroke=\"black\" d=\"M209,-287.7C209,-276.85 209,-262.92 209,-252.1\"/>\r\n",
       "</g>\r\n",
       "<!-- 6 -->\r\n",
       "<g id=\"node6\" class=\"node\">\r\n",
       "<title>6</title>\r\n",
       "<ellipse fill=\"darkviolet\" stroke=\"black\" cx=\"137\" cy=\"-234\" rx=\"27\" ry=\"18\"/>\r\n",
       "<text text-anchor=\"middle\" x=\"137\" y=\"-230.3\" font-family=\"Times New Roman,serif\" font-size=\"14.00\">6</text>\r\n",
       "</g>\r\n",
       "<!-- 4&#45;&#45;6 -->\r\n",
       "<g id=\"edge8\" class=\"edge\">\r\n",
       "<title>4&#45;&#45;6</title>\r\n",
       "<path fill=\"none\" stroke=\"black\" d=\"M46.16,-292.81C66.35,-279.96 97.95,-259.85 118.06,-247.05\"/>\r\n",
       "</g>\r\n",
       "<!-- 10 -->\r\n",
       "<g id=\"node10\" class=\"node\">\r\n",
       "<title>10</title>\r\n",
       "<ellipse fill=\"violet\" stroke=\"black\" cx=\"63\" cy=\"-18\" rx=\"27\" ry=\"18\"/>\r\n",
       "<text text-anchor=\"middle\" x=\"63\" y=\"-14.3\" font-family=\"Times New Roman,serif\" font-size=\"14.00\">10</text>\r\n",
       "</g>\r\n",
       "<!-- 4&#45;&#45;10 -->\r\n",
       "<g id=\"edge9\" class=\"edge\">\r\n",
       "<title>4&#45;&#45;10</title>\r\n",
       "<path fill=\"none\" stroke=\"black\" d=\"M29.14,-287.97C35.55,-237.1 54.48,-86.7 60.87,-35.94\"/>\r\n",
       "</g>\r\n",
       "<!-- 5&#45;&#45;6 -->\r\n",
       "<g id=\"edge10\" class=\"edge\">\r\n",
       "<title>5&#45;&#45;6</title>\r\n",
       "<path fill=\"none\" stroke=\"black\" d=\"M137,-287.7C137,-276.85 137,-262.92 137,-252.1\"/>\r\n",
       "</g>\r\n",
       "<!-- 5&#45;&#45;8 -->\r\n",
       "<g id=\"edge11\" class=\"edge\">\r\n",
       "<title>5&#45;&#45;8</title>\r\n",
       "<path fill=\"none\" stroke=\"black\" d=\"M151.57,-290.83C163.98,-278.77 181.73,-261.51 194.2,-249.38\"/>\r\n",
       "</g>\r\n",
       "<!-- 6&#45;&#45;7 -->\r\n",
       "<g id=\"edge12\" class=\"edge\">\r\n",
       "<title>6&#45;&#45;7</title>\r\n",
       "<path fill=\"none\" stroke=\"black\" d=\"M145.81,-216.76C151.95,-205.46 160.11,-190.44 166.23,-179.15\"/>\r\n",
       "</g>\r\n",
       "<!-- 7&#45;&#45;9 -->\r\n",
       "<g id=\"edge13\" class=\"edge\">\r\n",
       "<title>7&#45;&#45;9</title>\r\n",
       "<path fill=\"none\" stroke=\"black\" d=\"M160.02,-146.83C147.19,-134.69 128.78,-117.28 115.95,-105.14\"/>\r\n",
       "</g>\r\n",
       "<!-- 8&#45;&#45;9 -->\r\n",
       "<g id=\"edge14\" class=\"edge\">\r\n",
       "<title>8&#45;&#45;9</title>\r\n",
       "<path fill=\"none\" stroke=\"black\" d=\"M188.92,-221.77C173.54,-212.31 152.7,-197.54 139,-180 121.73,-157.89 110.82,-126.75 105.32,-107.77\"/>\r\n",
       "</g>\r\n",
       "<!-- 9&#45;&#45;10 -->\r\n",
       "<g id=\"edge15\" class=\"edge\">\r\n",
       "<title>9&#45;&#45;10</title>\r\n",
       "<path fill=\"none\" stroke=\"black\" d=\"M92.19,-72.76C86.05,-61.46 77.89,-46.44 71.77,-35.15\"/>\r\n",
       "</g>\r\n",
       "</g>\r\n",
       "</svg>\r\n"
      ],
      "text/plain": [
       "<graphviz.dot.Graph at 0x1772ae66a30>"
      ]
     },
     "execution_count": 16,
     "metadata": {},
     "output_type": "execute_result"
    }
   ],
   "source": [
    "graph.show()"
   ]
  },
  {
   "cell_type": "markdown",
   "id": "3605fa5e",
   "metadata": {
    "id": "3605fa5e"
   },
   "source": [
    "Метод check_coloring() проверяет, правильно ли раскрашен граф"
   ]
  },
  {
   "cell_type": "code",
   "execution_count": 17,
   "id": "4249b093",
   "metadata": {
    "colab": {
     "base_uri": "https://localhost:8080/"
    },
    "id": "4249b093",
    "outputId": "c1b127d7-74a1-4bf4-f337-9dbc0a8606da"
   },
   "outputs": [
    {
     "data": {
      "text/plain": [
       "True"
      ]
     },
     "execution_count": 17,
     "metadata": {},
     "output_type": "execute_result"
    }
   ],
   "source": [
    "graph.check_coloring()"
   ]
  },
  {
   "cell_type": "code",
   "execution_count": 18,
   "id": "3ffcb2d6",
   "metadata": {
    "id": "3ffcb2d6"
   },
   "outputs": [],
   "source": [
    "graph.nodes[0].color = 'yellow'"
   ]
  },
  {
   "cell_type": "code",
   "execution_count": 19,
   "id": "e112caed",
   "metadata": {
    "colab": {
     "base_uri": "https://localhost:8080/",
     "height": 502
    },
    "id": "e112caed",
    "outputId": "2ce51204-bc45-47c3-8433-d157e7ccf17d"
   },
   "outputs": [
    {
     "data": {
      "image/svg+xml": [
       "<?xml version=\"1.0\" encoding=\"UTF-8\" standalone=\"no\"?>\r\n",
       "<!DOCTYPE svg PUBLIC \"-//W3C//DTD SVG 1.1//EN\"\r\n",
       " \"http://www.w3.org/Graphics/SVG/1.1/DTD/svg11.dtd\">\r\n",
       "<!-- Generated by graphviz version 2.49.0 (20210828.1703)\r\n",
       " -->\r\n",
       "<!-- Pages: 1 -->\r\n",
       "<svg width=\"195pt\" height=\"360pt\"\r\n",
       " viewBox=\"0.00 0.00 194.57 360.00\" xmlns=\"http://www.w3.org/2000/svg\" xmlns:xlink=\"http://www.w3.org/1999/xlink\">\r\n",
       "<g id=\"graph0\" class=\"graph\" transform=\"scale(0.76 0.76) rotate(0) translate(4 472)\">\r\n",
       "<polygon fill=\"white\" stroke=\"transparent\" points=\"-4,4 -4,-472 253.27,-472 253.27,4 -4,4\"/>\r\n",
       "<!-- 1 -->\r\n",
       "<g id=\"node1\" class=\"node\">\r\n",
       "<title>1</title>\r\n",
       "<ellipse fill=\"yellow\" stroke=\"black\" cx=\"109\" cy=\"-450\" rx=\"27\" ry=\"18\"/>\r\n",
       "<text text-anchor=\"middle\" x=\"109\" y=\"-446.3\" font-family=\"Times New Roman,serif\" font-size=\"14.00\">1</text>\r\n",
       "</g>\r\n",
       "<!-- 2 -->\r\n",
       "<g id=\"node2\" class=\"node\">\r\n",
       "<title>2</title>\r\n",
       "<ellipse fill=\"magenta\" stroke=\"black\" cx=\"109\" cy=\"-378\" rx=\"27\" ry=\"18\"/>\r\n",
       "<text text-anchor=\"middle\" x=\"109\" y=\"-374.3\" font-family=\"Times New Roman,serif\" font-size=\"14.00\">2</text>\r\n",
       "</g>\r\n",
       "<!-- 1&#45;&#45;2 -->\r\n",
       "<g id=\"edge1\" class=\"edge\">\r\n",
       "<title>1&#45;&#45;2</title>\r\n",
       "<path fill=\"none\" stroke=\"black\" d=\"M109,-431.7C109,-420.85 109,-406.92 109,-396.1\"/>\r\n",
       "</g>\r\n",
       "<!-- 3 -->\r\n",
       "<g id=\"node3\" class=\"node\">\r\n",
       "<title>3</title>\r\n",
       "<ellipse fill=\"burlywood\" stroke=\"black\" cx=\"209\" cy=\"-306\" rx=\"27\" ry=\"18\"/>\r\n",
       "<text text-anchor=\"middle\" x=\"209\" y=\"-302.3\" font-family=\"Times New Roman,serif\" font-size=\"14.00\">3</text>\r\n",
       "</g>\r\n",
       "<!-- 1&#45;&#45;3 -->\r\n",
       "<g id=\"edge2\" class=\"edge\">\r\n",
       "<title>1&#45;&#45;3</title>\r\n",
       "<path fill=\"none\" stroke=\"black\" d=\"M120.08,-433.26C139.31,-405.97 178.61,-350.15 197.87,-322.81\"/>\r\n",
       "</g>\r\n",
       "<!-- 4 -->\r\n",
       "<g id=\"node4\" class=\"node\">\r\n",
       "<title>4</title>\r\n",
       "<ellipse fill=\"yellow\" stroke=\"black\" cx=\"27\" cy=\"-306\" rx=\"27\" ry=\"18\"/>\r\n",
       "<text text-anchor=\"middle\" x=\"27\" y=\"-302.3\" font-family=\"Times New Roman,serif\" font-size=\"14.00\">4</text>\r\n",
       "</g>\r\n",
       "<!-- 1&#45;&#45;4 -->\r\n",
       "<g id=\"edge3\" class=\"edge\">\r\n",
       "<title>1&#45;&#45;4</title>\r\n",
       "<path fill=\"none\" stroke=\"black\" d=\"M97.79,-433.55C90.41,-423.15 80.74,-409 73,-396 58.32,-371.34 43.46,-341.49 34.74,-323.39\"/>\r\n",
       "</g>\r\n",
       "<!-- 5 -->\r\n",
       "<g id=\"node5\" class=\"node\">\r\n",
       "<title>5</title>\r\n",
       "<ellipse fill=\"aquamarine\" stroke=\"black\" cx=\"137\" cy=\"-306\" rx=\"27\" ry=\"18\"/>\r\n",
       "<text text-anchor=\"middle\" x=\"137\" y=\"-302.3\" font-family=\"Times New Roman,serif\" font-size=\"14.00\">5</text>\r\n",
       "</g>\r\n",
       "<!-- 2&#45;&#45;5 -->\r\n",
       "<g id=\"edge4\" class=\"edge\">\r\n",
       "<title>2&#45;&#45;5</title>\r\n",
       "<path fill=\"none\" stroke=\"black\" d=\"M115.64,-360.41C120.1,-349.25 125.96,-334.6 130.41,-323.47\"/>\r\n",
       "</g>\r\n",
       "<!-- 9 -->\r\n",
       "<g id=\"node9\" class=\"node\">\r\n",
       "<title>9</title>\r\n",
       "<ellipse fill=\"mediumseagreen\" stroke=\"black\" cx=\"101\" cy=\"-90\" rx=\"27\" ry=\"18\"/>\r\n",
       "<text text-anchor=\"middle\" x=\"101\" y=\"-86.3\" font-family=\"Times New Roman,serif\" font-size=\"14.00\">9</text>\r\n",
       "</g>\r\n",
       "<!-- 2&#45;&#45;9 -->\r\n",
       "<g id=\"edge5\" class=\"edge\">\r\n",
       "<title>2&#45;&#45;9</title>\r\n",
       "<path fill=\"none\" stroke=\"black\" d=\"M105.75,-359.89C103.95,-349.54 101.91,-336.06 101,-324 94.96,-243.53 98.33,-146.98 100.12,-108.28\"/>\r\n",
       "</g>\r\n",
       "<!-- 7 -->\r\n",
       "<g id=\"node7\" class=\"node\">\r\n",
       "<title>7</title>\r\n",
       "<ellipse fill=\"olivedrab\" stroke=\"black\" cx=\"175\" cy=\"-162\" rx=\"27\" ry=\"18\"/>\r\n",
       "<text text-anchor=\"middle\" x=\"175\" y=\"-158.3\" font-family=\"Times New Roman,serif\" font-size=\"14.00\">7</text>\r\n",
       "</g>\r\n",
       "<!-- 3&#45;&#45;7 -->\r\n",
       "<g id=\"edge6\" class=\"edge\">\r\n",
       "<title>3&#45;&#45;7</title>\r\n",
       "<path fill=\"none\" stroke=\"black\" d=\"M222.73,-290.21C237.6,-272.29 257.61,-241.37 245,-216 235.02,-195.94 213.42,-181.44 196.84,-172.73\"/>\r\n",
       "</g>\r\n",
       "<!-- 8 -->\r\n",
       "<g id=\"node8\" class=\"node\">\r\n",
       "<title>8</title>\r\n",
       "<ellipse fill=\"azure\" stroke=\"black\" cx=\"209\" cy=\"-234\" rx=\"27\" ry=\"18\"/>\r\n",
       "<text text-anchor=\"middle\" x=\"209\" y=\"-230.3\" font-family=\"Times New Roman,serif\" font-size=\"14.00\">8</text>\r\n",
       "</g>\r\n",
       "<!-- 3&#45;&#45;8 -->\r\n",
       "<g id=\"edge7\" class=\"edge\">\r\n",
       "<title>3&#45;&#45;8</title>\r\n",
       "<path fill=\"none\" stroke=\"black\" d=\"M209,-287.7C209,-276.85 209,-262.92 209,-252.1\"/>\r\n",
       "</g>\r\n",
       "<!-- 6 -->\r\n",
       "<g id=\"node6\" class=\"node\">\r\n",
       "<title>6</title>\r\n",
       "<ellipse fill=\"darkviolet\" stroke=\"black\" cx=\"137\" cy=\"-234\" rx=\"27\" ry=\"18\"/>\r\n",
       "<text text-anchor=\"middle\" x=\"137\" y=\"-230.3\" font-family=\"Times New Roman,serif\" font-size=\"14.00\">6</text>\r\n",
       "</g>\r\n",
       "<!-- 4&#45;&#45;6 -->\r\n",
       "<g id=\"edge8\" class=\"edge\">\r\n",
       "<title>4&#45;&#45;6</title>\r\n",
       "<path fill=\"none\" stroke=\"black\" d=\"M46.16,-292.81C66.35,-279.96 97.95,-259.85 118.06,-247.05\"/>\r\n",
       "</g>\r\n",
       "<!-- 10 -->\r\n",
       "<g id=\"node10\" class=\"node\">\r\n",
       "<title>10</title>\r\n",
       "<ellipse fill=\"violet\" stroke=\"black\" cx=\"63\" cy=\"-18\" rx=\"27\" ry=\"18\"/>\r\n",
       "<text text-anchor=\"middle\" x=\"63\" y=\"-14.3\" font-family=\"Times New Roman,serif\" font-size=\"14.00\">10</text>\r\n",
       "</g>\r\n",
       "<!-- 4&#45;&#45;10 -->\r\n",
       "<g id=\"edge9\" class=\"edge\">\r\n",
       "<title>4&#45;&#45;10</title>\r\n",
       "<path fill=\"none\" stroke=\"black\" d=\"M29.14,-287.97C35.55,-237.1 54.48,-86.7 60.87,-35.94\"/>\r\n",
       "</g>\r\n",
       "<!-- 5&#45;&#45;6 -->\r\n",
       "<g id=\"edge10\" class=\"edge\">\r\n",
       "<title>5&#45;&#45;6</title>\r\n",
       "<path fill=\"none\" stroke=\"black\" d=\"M137,-287.7C137,-276.85 137,-262.92 137,-252.1\"/>\r\n",
       "</g>\r\n",
       "<!-- 5&#45;&#45;8 -->\r\n",
       "<g id=\"edge11\" class=\"edge\">\r\n",
       "<title>5&#45;&#45;8</title>\r\n",
       "<path fill=\"none\" stroke=\"black\" d=\"M151.57,-290.83C163.98,-278.77 181.73,-261.51 194.2,-249.38\"/>\r\n",
       "</g>\r\n",
       "<!-- 6&#45;&#45;7 -->\r\n",
       "<g id=\"edge12\" class=\"edge\">\r\n",
       "<title>6&#45;&#45;7</title>\r\n",
       "<path fill=\"none\" stroke=\"black\" d=\"M145.81,-216.76C151.95,-205.46 160.11,-190.44 166.23,-179.15\"/>\r\n",
       "</g>\r\n",
       "<!-- 7&#45;&#45;9 -->\r\n",
       "<g id=\"edge13\" class=\"edge\">\r\n",
       "<title>7&#45;&#45;9</title>\r\n",
       "<path fill=\"none\" stroke=\"black\" d=\"M160.02,-146.83C147.19,-134.69 128.78,-117.28 115.95,-105.14\"/>\r\n",
       "</g>\r\n",
       "<!-- 8&#45;&#45;9 -->\r\n",
       "<g id=\"edge14\" class=\"edge\">\r\n",
       "<title>8&#45;&#45;9</title>\r\n",
       "<path fill=\"none\" stroke=\"black\" d=\"M188.92,-221.77C173.54,-212.31 152.7,-197.54 139,-180 121.73,-157.89 110.82,-126.75 105.32,-107.77\"/>\r\n",
       "</g>\r\n",
       "<!-- 9&#45;&#45;10 -->\r\n",
       "<g id=\"edge15\" class=\"edge\">\r\n",
       "<title>9&#45;&#45;10</title>\r\n",
       "<path fill=\"none\" stroke=\"black\" d=\"M92.19,-72.76C86.05,-61.46 77.89,-46.44 71.77,-35.15\"/>\r\n",
       "</g>\r\n",
       "</g>\r\n",
       "</svg>\r\n"
      ],
      "text/plain": [
       "<graphviz.dot.Graph at 0x1772ae66a30>"
      ]
     },
     "execution_count": 19,
     "metadata": {},
     "output_type": "execute_result"
    }
   ],
   "source": [
    "graph.show()"
   ]
  },
  {
   "cell_type": "code",
   "execution_count": 20,
   "id": "1d681759",
   "metadata": {
    "colab": {
     "base_uri": "https://localhost:8080/"
    },
    "id": "1d681759",
    "outputId": "1afd3bef-7ff6-4a78-c2e4-2ded7ebd12a1",
    "scrolled": true
   },
   "outputs": [
    {
     "data": {
      "text/plain": [
       "False"
      ]
     },
     "execution_count": 20,
     "metadata": {},
     "output_type": "execute_result"
    }
   ],
   "source": [
    "graph.check_coloring()"
   ]
  },
  {
   "cell_type": "markdown",
   "id": "bd526611",
   "metadata": {
    "id": "bd526611"
   },
   "source": [
    "Раскраска особи"
   ]
  },
  {
   "cell_type": "code",
   "execution_count": 21,
   "id": "91d2608a",
   "metadata": {
    "colab": {
     "base_uri": "https://localhost:8080/"
    },
    "id": "91d2608a",
    "outputId": "992c17bb-9c80-4b52-d534-02d3e8734ce1"
   },
   "outputs": [
    {
     "data": {
      "text/plain": [
       "[5, 3, 2, 5, 9, 2, 6, 9, 7, 6]"
      ]
     },
     "execution_count": 21,
     "metadata": {},
     "output_type": "execute_result"
    }
   ],
   "source": [
    "colors = [random.randint(0, graph.n - 1) for _ in range(graph.n)]\n",
    "colors"
   ]
  },
  {
   "cell_type": "code",
   "execution_count": 22,
   "id": "078771ce",
   "metadata": {
    "colab": {
     "base_uri": "https://localhost:8080/",
     "height": 502
    },
    "id": "078771ce",
    "outputId": "1766f662-cad9-4aae-cce2-85c0f690ebc4"
   },
   "outputs": [
    {
     "data": {
      "image/svg+xml": [
       "<?xml version=\"1.0\" encoding=\"UTF-8\" standalone=\"no\"?>\r\n",
       "<!DOCTYPE svg PUBLIC \"-//W3C//DTD SVG 1.1//EN\"\r\n",
       " \"http://www.w3.org/Graphics/SVG/1.1/DTD/svg11.dtd\">\r\n",
       "<!-- Generated by graphviz version 2.49.0 (20210828.1703)\r\n",
       " -->\r\n",
       "<!-- Pages: 1 -->\r\n",
       "<svg width=\"195pt\" height=\"360pt\"\r\n",
       " viewBox=\"0.00 0.00 194.57 360.00\" xmlns=\"http://www.w3.org/2000/svg\" xmlns:xlink=\"http://www.w3.org/1999/xlink\">\r\n",
       "<g id=\"graph0\" class=\"graph\" transform=\"scale(0.76 0.76) rotate(0) translate(4 472)\">\r\n",
       "<polygon fill=\"white\" stroke=\"transparent\" points=\"-4,4 -4,-472 253.27,-472 253.27,4 -4,4\"/>\r\n",
       "<!-- 1 -->\r\n",
       "<g id=\"node1\" class=\"node\">\r\n",
       "<title>1</title>\r\n",
       "<ellipse fill=\"darkviolet\" stroke=\"black\" cx=\"109\" cy=\"-450\" rx=\"27\" ry=\"18\"/>\r\n",
       "<text text-anchor=\"middle\" x=\"109\" y=\"-446.3\" font-family=\"Times New Roman,serif\" font-size=\"14.00\">1</text>\r\n",
       "</g>\r\n",
       "<!-- 2 -->\r\n",
       "<g id=\"node2\" class=\"node\">\r\n",
       "<title>2</title>\r\n",
       "<ellipse fill=\"palegoldenrod\" stroke=\"black\" cx=\"109\" cy=\"-378\" rx=\"27\" ry=\"18\"/>\r\n",
       "<text text-anchor=\"middle\" x=\"109\" y=\"-374.3\" font-family=\"Times New Roman,serif\" font-size=\"14.00\">2</text>\r\n",
       "</g>\r\n",
       "<!-- 1&#45;&#45;2 -->\r\n",
       "<g id=\"edge1\" class=\"edge\">\r\n",
       "<title>1&#45;&#45;2</title>\r\n",
       "<path fill=\"none\" stroke=\"black\" d=\"M109,-431.7C109,-420.85 109,-406.92 109,-396.1\"/>\r\n",
       "</g>\r\n",
       "<!-- 3 -->\r\n",
       "<g id=\"node3\" class=\"node\">\r\n",
       "<title>3</title>\r\n",
       "<ellipse fill=\"burlywood\" stroke=\"black\" cx=\"209\" cy=\"-306\" rx=\"27\" ry=\"18\"/>\r\n",
       "<text text-anchor=\"middle\" x=\"209\" y=\"-302.3\" font-family=\"Times New Roman,serif\" font-size=\"14.00\">3</text>\r\n",
       "</g>\r\n",
       "<!-- 1&#45;&#45;3 -->\r\n",
       "<g id=\"edge2\" class=\"edge\">\r\n",
       "<title>1&#45;&#45;3</title>\r\n",
       "<path fill=\"none\" stroke=\"black\" d=\"M120.08,-433.26C139.31,-405.97 178.61,-350.15 197.87,-322.81\"/>\r\n",
       "</g>\r\n",
       "<!-- 4 -->\r\n",
       "<g id=\"node4\" class=\"node\">\r\n",
       "<title>4</title>\r\n",
       "<ellipse fill=\"darkviolet\" stroke=\"black\" cx=\"27\" cy=\"-306\" rx=\"27\" ry=\"18\"/>\r\n",
       "<text text-anchor=\"middle\" x=\"27\" y=\"-302.3\" font-family=\"Times New Roman,serif\" font-size=\"14.00\">4</text>\r\n",
       "</g>\r\n",
       "<!-- 1&#45;&#45;4 -->\r\n",
       "<g id=\"edge3\" class=\"edge\">\r\n",
       "<title>1&#45;&#45;4</title>\r\n",
       "<path fill=\"none\" stroke=\"black\" d=\"M97.79,-433.55C90.41,-423.15 80.74,-409 73,-396 58.32,-371.34 43.46,-341.49 34.74,-323.39\"/>\r\n",
       "</g>\r\n",
       "<!-- 5 -->\r\n",
       "<g id=\"node5\" class=\"node\">\r\n",
       "<title>5</title>\r\n",
       "<ellipse fill=\"violet\" stroke=\"black\" cx=\"137\" cy=\"-306\" rx=\"27\" ry=\"18\"/>\r\n",
       "<text text-anchor=\"middle\" x=\"137\" y=\"-302.3\" font-family=\"Times New Roman,serif\" font-size=\"14.00\">5</text>\r\n",
       "</g>\r\n",
       "<!-- 2&#45;&#45;5 -->\r\n",
       "<g id=\"edge4\" class=\"edge\">\r\n",
       "<title>2&#45;&#45;5</title>\r\n",
       "<path fill=\"none\" stroke=\"black\" d=\"M115.64,-360.41C120.1,-349.25 125.96,-334.6 130.41,-323.47\"/>\r\n",
       "</g>\r\n",
       "<!-- 9 -->\r\n",
       "<g id=\"node9\" class=\"node\">\r\n",
       "<title>9</title>\r\n",
       "<ellipse fill=\"azure\" stroke=\"black\" cx=\"101\" cy=\"-90\" rx=\"27\" ry=\"18\"/>\r\n",
       "<text text-anchor=\"middle\" x=\"101\" y=\"-86.3\" font-family=\"Times New Roman,serif\" font-size=\"14.00\">9</text>\r\n",
       "</g>\r\n",
       "<!-- 2&#45;&#45;9 -->\r\n",
       "<g id=\"edge5\" class=\"edge\">\r\n",
       "<title>2&#45;&#45;9</title>\r\n",
       "<path fill=\"none\" stroke=\"black\" d=\"M105.75,-359.89C103.95,-349.54 101.91,-336.06 101,-324 94.96,-243.53 98.33,-146.98 100.12,-108.28\"/>\r\n",
       "</g>\r\n",
       "<!-- 7 -->\r\n",
       "<g id=\"node7\" class=\"node\">\r\n",
       "<title>7</title>\r\n",
       "<ellipse fill=\"olivedrab\" stroke=\"black\" cx=\"175\" cy=\"-162\" rx=\"27\" ry=\"18\"/>\r\n",
       "<text text-anchor=\"middle\" x=\"175\" y=\"-158.3\" font-family=\"Times New Roman,serif\" font-size=\"14.00\">7</text>\r\n",
       "</g>\r\n",
       "<!-- 3&#45;&#45;7 -->\r\n",
       "<g id=\"edge6\" class=\"edge\">\r\n",
       "<title>3&#45;&#45;7</title>\r\n",
       "<path fill=\"none\" stroke=\"black\" d=\"M222.73,-290.21C237.6,-272.29 257.61,-241.37 245,-216 235.02,-195.94 213.42,-181.44 196.84,-172.73\"/>\r\n",
       "</g>\r\n",
       "<!-- 8 -->\r\n",
       "<g id=\"node8\" class=\"node\">\r\n",
       "<title>8</title>\r\n",
       "<ellipse fill=\"violet\" stroke=\"black\" cx=\"209\" cy=\"-234\" rx=\"27\" ry=\"18\"/>\r\n",
       "<text text-anchor=\"middle\" x=\"209\" y=\"-230.3\" font-family=\"Times New Roman,serif\" font-size=\"14.00\">8</text>\r\n",
       "</g>\r\n",
       "<!-- 3&#45;&#45;8 -->\r\n",
       "<g id=\"edge7\" class=\"edge\">\r\n",
       "<title>3&#45;&#45;8</title>\r\n",
       "<path fill=\"none\" stroke=\"black\" d=\"M209,-287.7C209,-276.85 209,-262.92 209,-252.1\"/>\r\n",
       "</g>\r\n",
       "<!-- 6 -->\r\n",
       "<g id=\"node6\" class=\"node\">\r\n",
       "<title>6</title>\r\n",
       "<ellipse fill=\"burlywood\" stroke=\"black\" cx=\"137\" cy=\"-234\" rx=\"27\" ry=\"18\"/>\r\n",
       "<text text-anchor=\"middle\" x=\"137\" y=\"-230.3\" font-family=\"Times New Roman,serif\" font-size=\"14.00\">6</text>\r\n",
       "</g>\r\n",
       "<!-- 4&#45;&#45;6 -->\r\n",
       "<g id=\"edge8\" class=\"edge\">\r\n",
       "<title>4&#45;&#45;6</title>\r\n",
       "<path fill=\"none\" stroke=\"black\" d=\"M46.16,-292.81C66.35,-279.96 97.95,-259.85 118.06,-247.05\"/>\r\n",
       "</g>\r\n",
       "<!-- 10 -->\r\n",
       "<g id=\"node10\" class=\"node\">\r\n",
       "<title>10</title>\r\n",
       "<ellipse fill=\"olivedrab\" stroke=\"black\" cx=\"63\" cy=\"-18\" rx=\"27\" ry=\"18\"/>\r\n",
       "<text text-anchor=\"middle\" x=\"63\" y=\"-14.3\" font-family=\"Times New Roman,serif\" font-size=\"14.00\">10</text>\r\n",
       "</g>\r\n",
       "<!-- 4&#45;&#45;10 -->\r\n",
       "<g id=\"edge9\" class=\"edge\">\r\n",
       "<title>4&#45;&#45;10</title>\r\n",
       "<path fill=\"none\" stroke=\"black\" d=\"M29.14,-287.97C35.55,-237.1 54.48,-86.7 60.87,-35.94\"/>\r\n",
       "</g>\r\n",
       "<!-- 5&#45;&#45;6 -->\r\n",
       "<g id=\"edge10\" class=\"edge\">\r\n",
       "<title>5&#45;&#45;6</title>\r\n",
       "<path fill=\"none\" stroke=\"black\" d=\"M137,-287.7C137,-276.85 137,-262.92 137,-252.1\"/>\r\n",
       "</g>\r\n",
       "<!-- 5&#45;&#45;8 -->\r\n",
       "<g id=\"edge11\" class=\"edge\">\r\n",
       "<title>5&#45;&#45;8</title>\r\n",
       "<path fill=\"none\" stroke=\"black\" d=\"M151.57,-290.83C163.98,-278.77 181.73,-261.51 194.2,-249.38\"/>\r\n",
       "</g>\r\n",
       "<!-- 6&#45;&#45;7 -->\r\n",
       "<g id=\"edge12\" class=\"edge\">\r\n",
       "<title>6&#45;&#45;7</title>\r\n",
       "<path fill=\"none\" stroke=\"black\" d=\"M145.81,-216.76C151.95,-205.46 160.11,-190.44 166.23,-179.15\"/>\r\n",
       "</g>\r\n",
       "<!-- 7&#45;&#45;9 -->\r\n",
       "<g id=\"edge13\" class=\"edge\">\r\n",
       "<title>7&#45;&#45;9</title>\r\n",
       "<path fill=\"none\" stroke=\"black\" d=\"M160.02,-146.83C147.19,-134.69 128.78,-117.28 115.95,-105.14\"/>\r\n",
       "</g>\r\n",
       "<!-- 8&#45;&#45;9 -->\r\n",
       "<g id=\"edge14\" class=\"edge\">\r\n",
       "<title>8&#45;&#45;9</title>\r\n",
       "<path fill=\"none\" stroke=\"black\" d=\"M188.92,-221.77C173.54,-212.31 152.7,-197.54 139,-180 121.73,-157.89 110.82,-126.75 105.32,-107.77\"/>\r\n",
       "</g>\r\n",
       "<!-- 9&#45;&#45;10 -->\r\n",
       "<g id=\"edge15\" class=\"edge\">\r\n",
       "<title>9&#45;&#45;10</title>\r\n",
       "<path fill=\"none\" stroke=\"black\" d=\"M92.19,-72.76C86.05,-61.46 77.89,-46.44 71.77,-35.15\"/>\r\n",
       "</g>\r\n",
       "</g>\r\n",
       "</svg>\r\n"
      ],
      "text/plain": [
       "<graphviz.dot.Graph at 0x1772ae66a30>"
      ]
     },
     "execution_count": 22,
     "metadata": {},
     "output_type": "execute_result"
    }
   ],
   "source": [
    "graph.paint(colors)\n",
    "graph.show()"
   ]
  },
  {
   "cell_type": "code",
   "execution_count": 23,
   "id": "f2e94d96",
   "metadata": {
    "colab": {
     "base_uri": "https://localhost:8080/"
    },
    "id": "f2e94d96",
    "outputId": "5c66deab-0738-4593-b6e7-e9062d8c5a6d"
   },
   "outputs": [
    {
     "name": "stdout",
     "output_type": "stream",
     "text": [
      "False\n",
      "Количество цветов: 6\n"
     ]
    }
   ],
   "source": [
    "print(graph.check_coloring())\n",
    "print('Количество цветов:', len(set(colors)))"
   ]
  },
  {
   "cell_type": "code",
   "execution_count": null,
   "id": "7af3917e",
   "metadata": {
    "id": "7af3917e"
   },
   "outputs": [],
   "source": []
  },
  {
   "cell_type": "code",
   "execution_count": 26,
   "id": "Ml8CqfoS8Vaj",
   "metadata": {
    "id": "Ml8CqfoS8Vaj"
   },
   "outputs": [],
   "source": [
    "from deap import base, algorithms\n",
    "from deap import creator\n",
    "from deap import tools"
   ]
  },
  {
   "cell_type": "code",
   "execution_count": 27,
   "id": "ZY0Ipm5dNGwm",
   "metadata": {
    "id": "ZY0Ipm5dNGwm"
   },
   "outputs": [],
   "source": [
    "import numpy as np"
   ]
  },
  {
   "cell_type": "code",
   "execution_count": 28,
   "id": "eSNaClNX-LGa",
   "metadata": {
    "id": "eSNaClNX-LGa"
   },
   "outputs": [],
   "source": [
    "LENGTH_CHROM = graph.n    # длина хромосомы, подлежащей оптимизации"
   ]
  },
  {
   "cell_type": "code",
   "execution_count": 29,
   "id": "g_1fNH7d-LXs",
   "metadata": {
    "id": "g_1fNH7d-LXs"
   },
   "outputs": [],
   "source": [
    "# константы генетического алгоритма\n",
    "POPULATION_SIZE = 500   # количество индивидуумов в популяции\n",
    "P_CROSSOVER = 0.9       # вероятность скрещивания\n",
    "P_MUTATION = 0.1        # вероятность мутации индивидуума\n",
    "MAX_GENERATIONS = 30    # максимальное количество поколений\n",
    "HALL_OF_FAME_SIZE = 1"
   ]
  },
  {
   "cell_type": "code",
   "execution_count": 30,
   "id": "v-flxCsQ-Lde",
   "metadata": {
    "id": "v-flxCsQ-Lde"
   },
   "outputs": [],
   "source": [
    "hof = tools.HallOfFame(HALL_OF_FAME_SIZE)\n",
    "\n",
    "RANDOM_SEED = 42\n",
    "random.seed(RANDOM_SEED)"
   ]
  },
  {
   "cell_type": "code",
   "execution_count": 31,
   "id": "wj3wtmO0AODZ",
   "metadata": {
    "id": "wj3wtmO0AODZ"
   },
   "outputs": [],
   "source": [
    "creator.create(\"FitnessMin\", base.Fitness, weights=(-1.0,))\n",
    "creator.create(\"Individual\", list, fitness=creator.FitnessMin)"
   ]
  },
  {
   "cell_type": "code",
   "execution_count": 32,
   "id": "GaL9ehCdAQ_N",
   "metadata": {
    "id": "GaL9ehCdAQ_N"
   },
   "outputs": [],
   "source": [
    "toolbox = base.Toolbox()\n",
    "# ген представляет собой значение индекса цвета из списка COLORS\n",
    "toolbox.register(\"randomOrder\", random.randint, 0, len(COLORS))\n",
    "# индивидуум-хромосома представляет собой последовательность генов (значений цветов) длинной в количесвто вершин\n",
    "toolbox.register(\"individualCreator\", tools.initRepeat, creator.Individual, toolbox.randomOrder, LENGTH_CHROM)\n",
    "# определение популяции (количесвто индивидуумов задается чуть ниже)\n",
    "toolbox.register(\"populationCreator\", tools.initRepeat, list, toolbox.individualCreator)"
   ]
  },
  {
   "cell_type": "code",
   "execution_count": 33,
   "id": "hrmI2u-MAS1t",
   "metadata": {
    "id": "hrmI2u-MAS1t"
   },
   "outputs": [],
   "source": [
    "# создание популяции с n индивидуумами\n",
    "population = toolbox.populationCreator(n=POPULATION_SIZE)"
   ]
  },
  {
   "cell_type": "code",
   "execution_count": 34,
   "id": "HhSCLyXEEZWU",
   "metadata": {
    "id": "HhSCLyXEEZWU"
   },
   "outputs": [],
   "source": [
    "def dikstryFitness(individual):\n",
    "  graph.paint(individual)\n",
    "  if graph.check_coloring():\n",
    "    return len(set(individual)),\n",
    "  else:\n",
    "    return 100,"
   ]
  },
  {
   "cell_type": "code",
   "execution_count": 35,
   "id": "hL6M1xSPJS5O",
   "metadata": {
    "id": "hL6M1xSPJS5O"
   },
   "outputs": [],
   "source": [
    "toolbox.register(\"evaluate\", dikstryFitness)\n",
    "# селекция с помощью турнирного отбора\n",
    "toolbox.register(\"select\", tools.selTournament, tournsize=3)\n",
    "# скрещивание одноточечное\n",
    "toolbox.register(\"mate\", tools.cxOrdered)\n",
    "# мутация перетасовкой\n",
    "toolbox.register(\"mutate\", tools.mutShuffleIndexes, indpb=1.0/LENGTH_CHROM/10)"
   ]
  },
  {
   "cell_type": "code",
   "execution_count": 36,
   "id": "3om4aWvHM9hb",
   "metadata": {
    "id": "3om4aWvHM9hb"
   },
   "outputs": [],
   "source": [
    "stats = tools.Statistics(lambda ind: ind.fitness.values)\n",
    "stats.register(\"min\", np.min)\n",
    "stats.register(\"avg\", np.mean)"
   ]
  },
  {
   "cell_type": "code",
   "execution_count": 37,
   "id": "xcGlHJYPNDUC",
   "metadata": {
    "colab": {
     "base_uri": "https://localhost:8080/",
     "height": 656
    },
    "id": "xcGlHJYPNDUC",
    "outputId": "4a97c5d0-a592-4eb7-9e16-05775a66441c"
   },
   "outputs": [
    {
     "name": "stdout",
     "output_type": "stream",
     "text": [
      "[81, 14, 3, 94, 35, 31, 28, 17, 94, 13]\n",
      "[86, 94, 114, 69, 11, 75, 54, 4, 3, 11]\n",
      "[27, 29, 64, 77, 3, 71, 25, 91, 83, 89]\n",
      "[69, 53, 28, 57, 75, 35, 103, 111, 0, 97]\n",
      "[103, 20, 89, 54, 43, 35, 19, 27, 97, 43]\n",
      "[13, 11, 48, 12, 45, 108, 44, 77, 33, 103]\n",
      "[5, 93, 58, 68, 15, 48, 10, 70, 37, 106]\n",
      "[80, 79, 113, 110, 46, 73, 24, 90, 8, 5]\n",
      "[84, 29, 98, 37, 10, 109, 29, 110, 12, 48]\n",
      "[35, 58, 81, 106, 46, 20, 47, 45, 26, 85]\n",
      "[34, 89, 87, 82, 9, 77, 81, 21, 68, 93]\n",
      "[31, 20, 59, 48, 34, 81, 88, 71, 28, 87]\n",
      "[41, 107, 98, 99, 7, 29, 105, 4, 103, 40]\n",
      "[51, 34, 8, 27, 116, 72, 112, 91, 40, 27]\n"
     ]
    },
    {
     "ename": "ValueError",
     "evalue": "Неверный формат цвета",
     "output_type": "error",
     "traceback": [
      "\u001b[1;31m---------------------------------------------------------------------------\u001b[0m",
      "\u001b[1;31mValueError\u001b[0m                                Traceback (most recent call last)",
      "\u001b[1;32m~\\AppData\\Local\\Temp/ipykernel_14364/1682186006.py\u001b[0m in \u001b[0;36m<module>\u001b[1;34m\u001b[0m\n\u001b[1;32m----> 1\u001b[1;33m population, logbook = algorithms.eaSimple(population, toolbox,\n\u001b[0m\u001b[0;32m      2\u001b[0m                                         \u001b[0mcxpb\u001b[0m\u001b[1;33m=\u001b[0m\u001b[0mP_CROSSOVER\u001b[0m\u001b[1;33m,\u001b[0m\u001b[1;33m\u001b[0m\u001b[1;33m\u001b[0m\u001b[0m\n\u001b[0;32m      3\u001b[0m                                         \u001b[0mmutpb\u001b[0m\u001b[1;33m=\u001b[0m\u001b[0mP_MUTATION\u001b[0m\u001b[1;33m,\u001b[0m\u001b[1;33m\u001b[0m\u001b[1;33m\u001b[0m\u001b[0m\n\u001b[0;32m      4\u001b[0m                                         \u001b[0mngen\u001b[0m\u001b[1;33m=\u001b[0m\u001b[0mMAX_GENERATIONS\u001b[0m\u001b[1;33m,\u001b[0m\u001b[1;33m\u001b[0m\u001b[1;33m\u001b[0m\u001b[0m\n\u001b[0;32m      5\u001b[0m                                         \u001b[0mhalloffame\u001b[0m\u001b[1;33m=\u001b[0m\u001b[0mhof\u001b[0m\u001b[1;33m,\u001b[0m\u001b[1;33m\u001b[0m\u001b[1;33m\u001b[0m\u001b[0m\n",
      "\u001b[1;32mc:\\users\\alekc\\appdata\\local\\programs\\python\\python38\\lib\\site-packages\\deap\\algorithms.py\u001b[0m in \u001b[0;36meaSimple\u001b[1;34m(population, toolbox, cxpb, mutpb, ngen, stats, halloffame, verbose)\u001b[0m\n\u001b[0;32m    149\u001b[0m     \u001b[0minvalid_ind\u001b[0m \u001b[1;33m=\u001b[0m \u001b[1;33m[\u001b[0m\u001b[0mind\u001b[0m \u001b[1;32mfor\u001b[0m \u001b[0mind\u001b[0m \u001b[1;32min\u001b[0m \u001b[0mpopulation\u001b[0m \u001b[1;32mif\u001b[0m \u001b[1;32mnot\u001b[0m \u001b[0mind\u001b[0m\u001b[1;33m.\u001b[0m\u001b[0mfitness\u001b[0m\u001b[1;33m.\u001b[0m\u001b[0mvalid\u001b[0m\u001b[1;33m]\u001b[0m\u001b[1;33m\u001b[0m\u001b[1;33m\u001b[0m\u001b[0m\n\u001b[0;32m    150\u001b[0m     \u001b[0mfitnesses\u001b[0m \u001b[1;33m=\u001b[0m \u001b[0mtoolbox\u001b[0m\u001b[1;33m.\u001b[0m\u001b[0mmap\u001b[0m\u001b[1;33m(\u001b[0m\u001b[0mtoolbox\u001b[0m\u001b[1;33m.\u001b[0m\u001b[0mevaluate\u001b[0m\u001b[1;33m,\u001b[0m \u001b[0minvalid_ind\u001b[0m\u001b[1;33m)\u001b[0m\u001b[1;33m\u001b[0m\u001b[1;33m\u001b[0m\u001b[0m\n\u001b[1;32m--> 151\u001b[1;33m     \u001b[1;32mfor\u001b[0m \u001b[0mind\u001b[0m\u001b[1;33m,\u001b[0m \u001b[0mfit\u001b[0m \u001b[1;32min\u001b[0m \u001b[0mzip\u001b[0m\u001b[1;33m(\u001b[0m\u001b[0minvalid_ind\u001b[0m\u001b[1;33m,\u001b[0m \u001b[0mfitnesses\u001b[0m\u001b[1;33m)\u001b[0m\u001b[1;33m:\u001b[0m\u001b[1;33m\u001b[0m\u001b[1;33m\u001b[0m\u001b[0m\n\u001b[0m\u001b[0;32m    152\u001b[0m         \u001b[0mind\u001b[0m\u001b[1;33m.\u001b[0m\u001b[0mfitness\u001b[0m\u001b[1;33m.\u001b[0m\u001b[0mvalues\u001b[0m \u001b[1;33m=\u001b[0m \u001b[0mfit\u001b[0m\u001b[1;33m\u001b[0m\u001b[1;33m\u001b[0m\u001b[0m\n\u001b[0;32m    153\u001b[0m \u001b[1;33m\u001b[0m\u001b[0m\n",
      "\u001b[1;32m~\\AppData\\Local\\Temp/ipykernel_14364/848592033.py\u001b[0m in \u001b[0;36mdikstryFitness\u001b[1;34m(individual)\u001b[0m\n\u001b[0;32m      1\u001b[0m \u001b[1;32mdef\u001b[0m \u001b[0mdikstryFitness\u001b[0m\u001b[1;33m(\u001b[0m\u001b[0mindividual\u001b[0m\u001b[1;33m)\u001b[0m\u001b[1;33m:\u001b[0m\u001b[1;33m\u001b[0m\u001b[1;33m\u001b[0m\u001b[0m\n\u001b[0;32m      2\u001b[0m   \u001b[0mprint\u001b[0m\u001b[1;33m(\u001b[0m\u001b[0mindividual\u001b[0m\u001b[1;33m)\u001b[0m\u001b[1;33m\u001b[0m\u001b[1;33m\u001b[0m\u001b[0m\n\u001b[1;32m----> 3\u001b[1;33m   \u001b[0mgraph\u001b[0m\u001b[1;33m.\u001b[0m\u001b[0mpaint\u001b[0m\u001b[1;33m(\u001b[0m\u001b[0mindividual\u001b[0m\u001b[1;33m)\u001b[0m\u001b[1;33m\u001b[0m\u001b[1;33m\u001b[0m\u001b[0m\n\u001b[0m\u001b[0;32m      4\u001b[0m   \u001b[1;32mif\u001b[0m \u001b[0mgraph\u001b[0m\u001b[1;33m.\u001b[0m\u001b[0mcheck_coloring\u001b[0m\u001b[1;33m(\u001b[0m\u001b[1;33m)\u001b[0m\u001b[1;33m:\u001b[0m\u001b[1;33m\u001b[0m\u001b[1;33m\u001b[0m\u001b[0m\n\u001b[0;32m      5\u001b[0m     \u001b[1;32mreturn\u001b[0m \u001b[0mlen\u001b[0m\u001b[1;33m(\u001b[0m\u001b[0mset\u001b[0m\u001b[1;33m(\u001b[0m\u001b[0mindividual\u001b[0m\u001b[1;33m)\u001b[0m\u001b[1;33m)\u001b[0m\u001b[1;33m,\u001b[0m\u001b[1;33m\u001b[0m\u001b[1;33m\u001b[0m\u001b[0m\n",
      "\u001b[1;32m~\\AppData\\Local\\Temp/ipykernel_14364/2687991374.py\u001b[0m in \u001b[0;36mpaint\u001b[1;34m(self, colors)\u001b[0m\n\u001b[0;32m     46\u001b[0m     \u001b[1;32mdef\u001b[0m \u001b[0mpaint\u001b[0m\u001b[1;33m(\u001b[0m\u001b[0mself\u001b[0m\u001b[1;33m,\u001b[0m \u001b[0mcolors\u001b[0m\u001b[1;33m)\u001b[0m\u001b[1;33m:\u001b[0m\u001b[1;33m\u001b[0m\u001b[1;33m\u001b[0m\u001b[0m\n\u001b[0;32m     47\u001b[0m         \u001b[1;32mfor\u001b[0m \u001b[0mnode\u001b[0m\u001b[1;33m,\u001b[0m \u001b[0mcolor\u001b[0m \u001b[1;32min\u001b[0m \u001b[0mzip\u001b[0m\u001b[1;33m(\u001b[0m\u001b[0mself\u001b[0m\u001b[1;33m.\u001b[0m\u001b[0mnodes\u001b[0m\u001b[1;33m,\u001b[0m \u001b[0mcolors\u001b[0m\u001b[1;33m)\u001b[0m\u001b[1;33m:\u001b[0m\u001b[1;33m\u001b[0m\u001b[1;33m\u001b[0m\u001b[0m\n\u001b[1;32m---> 48\u001b[1;33m             \u001b[0mnode\u001b[0m\u001b[1;33m.\u001b[0m\u001b[0mpaint\u001b[0m\u001b[1;33m(\u001b[0m\u001b[0mcolor\u001b[0m\u001b[1;33m)\u001b[0m\u001b[1;33m\u001b[0m\u001b[1;33m\u001b[0m\u001b[0m\n\u001b[0m\u001b[0;32m     49\u001b[0m \u001b[1;33m\u001b[0m\u001b[0m\n\u001b[0;32m     50\u001b[0m     \u001b[1;32mdef\u001b[0m \u001b[0mcheck_coloring\u001b[0m\u001b[1;33m(\u001b[0m\u001b[0mself\u001b[0m\u001b[1;33m)\u001b[0m\u001b[1;33m:\u001b[0m\u001b[1;33m\u001b[0m\u001b[1;33m\u001b[0m\u001b[0m\n",
      "\u001b[1;32m~\\AppData\\Local\\Temp/ipykernel_14364/4035237747.py\u001b[0m in \u001b[0;36mpaint\u001b[1;34m(self, color)\u001b[0m\n\u001b[0;32m     34\u001b[0m \u001b[1;33m\u001b[0m\u001b[0m\n\u001b[0;32m     35\u001b[0m         \u001b[1;32melse\u001b[0m\u001b[1;33m:\u001b[0m\u001b[1;33m\u001b[0m\u001b[1;33m\u001b[0m\u001b[0m\n\u001b[1;32m---> 36\u001b[1;33m             \u001b[1;32mraise\u001b[0m \u001b[0mValueError\u001b[0m\u001b[1;33m(\u001b[0m\u001b[1;34m\"Неверный формат цвета\"\u001b[0m\u001b[1;33m)\u001b[0m\u001b[1;33m\u001b[0m\u001b[1;33m\u001b[0m\u001b[0m\n\u001b[0m",
      "\u001b[1;31mValueError\u001b[0m: Неверный формат цвета"
     ]
    }
   ],
   "source": [
    "population, logbook = algorithms.eaSimple(population, toolbox,\n",
    "                                        cxpb=P_CROSSOVER,\n",
    "                                        mutpb=P_MUTATION,\n",
    "                                        ngen=MAX_GENERATIONS,\n",
    "                                        halloffame=hof,\n",
    "                                        stats=stats,\n",
    "                                        verbose=True)"
   ]
  },
  {
   "cell_type": "code",
   "execution_count": null,
   "id": "AU7E_93FNR4C",
   "metadata": {
    "id": "AU7E_93FNR4C"
   },
   "outputs": [],
   "source": []
  }
 ],
 "metadata": {
  "colab": {
   "collapsed_sections": [],
   "name": "Генетика.ipynb",
   "provenance": []
  },
  "kernelspec": {
   "display_name": "Python 3 (ipykernel)",
   "language": "python",
   "name": "python3"
  },
  "language_info": {
   "codemirror_mode": {
    "name": "ipython",
    "version": 3
   },
   "file_extension": ".py",
   "mimetype": "text/x-python",
   "name": "python",
   "nbconvert_exporter": "python",
   "pygments_lexer": "ipython3",
   "version": "3.8.6"
  }
 },
 "nbformat": 4,
 "nbformat_minor": 5
}
