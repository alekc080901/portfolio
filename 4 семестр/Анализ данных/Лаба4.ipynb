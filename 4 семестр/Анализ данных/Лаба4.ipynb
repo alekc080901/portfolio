{
 "cells": [
  {
   "cell_type": "code",
   "execution_count": 1,
   "id": "southeast-disposition",
   "metadata": {},
   "outputs": [],
   "source": [
    "import pandas as pd\n",
    "import matplotlib.pyplot as plt\n",
    "import numpy as np\n",
    "import seaborn as sns"
   ]
  },
  {
   "cell_type": "markdown",
   "id": "induced-scope",
   "metadata": {},
   "source": [
    "# Считывание тренировочной и тестовой выборок"
   ]
  },
  {
   "cell_type": "code",
   "execution_count": 2,
   "id": "adjusted-windsor",
   "metadata": {},
   "outputs": [],
   "source": [
    "train = pd.read_csv(\"train.csv\")\n",
    "test = pd.read_csv(\"test.csv\")"
   ]
  },
  {
   "cell_type": "code",
   "execution_count": 3,
   "id": "digital-hindu",
   "metadata": {
    "scrolled": true
   },
   "outputs": [
    {
     "data": {
      "text/html": [
       "<div>\n",
       "<style scoped>\n",
       "    .dataframe tbody tr th:only-of-type {\n",
       "        vertical-align: middle;\n",
       "    }\n",
       "\n",
       "    .dataframe tbody tr th {\n",
       "        vertical-align: top;\n",
       "    }\n",
       "\n",
       "    .dataframe thead th {\n",
       "        text-align: right;\n",
       "    }\n",
       "</style>\n",
       "<table border=\"1\" class=\"dataframe\">\n",
       "  <thead>\n",
       "    <tr style=\"text-align: right;\">\n",
       "      <th></th>\n",
       "      <th>id</th>\n",
       "      <th>Количество.комнат</th>\n",
       "      <th>Студия</th>\n",
       "      <th>Общая.площадь</th>\n",
       "      <th>Этаж</th>\n",
       "      <th>Этажей.в.доме</th>\n",
       "      <th>Парковка</th>\n",
       "      <th>Без.ремонта</th>\n",
       "      <th>Дизайнерский</th>\n",
       "      <th>Евроремонт</th>\n",
       "      <th>...</th>\n",
       "      <th>Одежда..1000</th>\n",
       "      <th>Супер3кет.1000</th>\n",
       "      <th>Кинотеатр.1000</th>\n",
       "      <th>Кафе.1000</th>\n",
       "      <th>АЗС.1000</th>\n",
       "      <th>Детский.сад.1000</th>\n",
       "      <th>Бар.1000</th>\n",
       "      <th>Банк.1000</th>\n",
       "      <th>Аптека.1000</th>\n",
       "      <th>Цена</th>\n",
       "    </tr>\n",
       "  </thead>\n",
       "  <tbody>\n",
       "    <tr>\n",
       "      <th>0</th>\n",
       "      <td>1122</td>\n",
       "      <td>1</td>\n",
       "      <td>0</td>\n",
       "      <td>33.6</td>\n",
       "      <td>5</td>\n",
       "      <td>9</td>\n",
       "      <td>0</td>\n",
       "      <td>0</td>\n",
       "      <td>0</td>\n",
       "      <td>0</td>\n",
       "      <td>...</td>\n",
       "      <td>1</td>\n",
       "      <td>8</td>\n",
       "      <td>0</td>\n",
       "      <td>6</td>\n",
       "      <td>1</td>\n",
       "      <td>12</td>\n",
       "      <td>5</td>\n",
       "      <td>2</td>\n",
       "      <td>12</td>\n",
       "      <td>2030000.0</td>\n",
       "    </tr>\n",
       "    <tr>\n",
       "      <th>1</th>\n",
       "      <td>1369</td>\n",
       "      <td>1</td>\n",
       "      <td>0</td>\n",
       "      <td>32.0</td>\n",
       "      <td>2</td>\n",
       "      <td>5</td>\n",
       "      <td>0</td>\n",
       "      <td>0</td>\n",
       "      <td>0</td>\n",
       "      <td>0</td>\n",
       "      <td>...</td>\n",
       "      <td>5</td>\n",
       "      <td>2</td>\n",
       "      <td>0</td>\n",
       "      <td>6</td>\n",
       "      <td>2</td>\n",
       "      <td>5</td>\n",
       "      <td>1</td>\n",
       "      <td>5</td>\n",
       "      <td>14</td>\n",
       "      <td>1400000.0</td>\n",
       "    </tr>\n",
       "    <tr>\n",
       "      <th>2</th>\n",
       "      <td>901</td>\n",
       "      <td>2</td>\n",
       "      <td>0</td>\n",
       "      <td>48.3</td>\n",
       "      <td>2</td>\n",
       "      <td>14</td>\n",
       "      <td>0</td>\n",
       "      <td>0</td>\n",
       "      <td>0</td>\n",
       "      <td>1</td>\n",
       "      <td>...</td>\n",
       "      <td>5</td>\n",
       "      <td>4</td>\n",
       "      <td>0</td>\n",
       "      <td>8</td>\n",
       "      <td>1</td>\n",
       "      <td>23</td>\n",
       "      <td>5</td>\n",
       "      <td>10</td>\n",
       "      <td>23</td>\n",
       "      <td>2950000.0</td>\n",
       "    </tr>\n",
       "    <tr>\n",
       "      <th>3</th>\n",
       "      <td>379</td>\n",
       "      <td>3</td>\n",
       "      <td>0</td>\n",
       "      <td>86.0</td>\n",
       "      <td>7</td>\n",
       "      <td>15</td>\n",
       "      <td>0</td>\n",
       "      <td>0</td>\n",
       "      <td>0</td>\n",
       "      <td>1</td>\n",
       "      <td>...</td>\n",
       "      <td>1</td>\n",
       "      <td>8</td>\n",
       "      <td>0</td>\n",
       "      <td>6</td>\n",
       "      <td>0</td>\n",
       "      <td>11</td>\n",
       "      <td>5</td>\n",
       "      <td>1</td>\n",
       "      <td>12</td>\n",
       "      <td>5250000.0</td>\n",
       "    </tr>\n",
       "    <tr>\n",
       "      <th>4</th>\n",
       "      <td>162</td>\n",
       "      <td>1</td>\n",
       "      <td>1</td>\n",
       "      <td>18.0</td>\n",
       "      <td>1</td>\n",
       "      <td>5</td>\n",
       "      <td>0</td>\n",
       "      <td>0</td>\n",
       "      <td>0</td>\n",
       "      <td>0</td>\n",
       "      <td>...</td>\n",
       "      <td>0</td>\n",
       "      <td>2</td>\n",
       "      <td>0</td>\n",
       "      <td>1</td>\n",
       "      <td>3</td>\n",
       "      <td>4</td>\n",
       "      <td>3</td>\n",
       "      <td>0</td>\n",
       "      <td>9</td>\n",
       "      <td>1080000.0</td>\n",
       "    </tr>\n",
       "    <tr>\n",
       "      <th>...</th>\n",
       "      <td>...</td>\n",
       "      <td>...</td>\n",
       "      <td>...</td>\n",
       "      <td>...</td>\n",
       "      <td>...</td>\n",
       "      <td>...</td>\n",
       "      <td>...</td>\n",
       "      <td>...</td>\n",
       "      <td>...</td>\n",
       "      <td>...</td>\n",
       "      <td>...</td>\n",
       "      <td>...</td>\n",
       "      <td>...</td>\n",
       "      <td>...</td>\n",
       "      <td>...</td>\n",
       "      <td>...</td>\n",
       "      <td>...</td>\n",
       "      <td>...</td>\n",
       "      <td>...</td>\n",
       "      <td>...</td>\n",
       "      <td>...</td>\n",
       "    </tr>\n",
       "    <tr>\n",
       "      <th>797</th>\n",
       "      <td>318</td>\n",
       "      <td>2</td>\n",
       "      <td>0</td>\n",
       "      <td>45.0</td>\n",
       "      <td>1</td>\n",
       "      <td>5</td>\n",
       "      <td>0</td>\n",
       "      <td>0</td>\n",
       "      <td>0</td>\n",
       "      <td>0</td>\n",
       "      <td>...</td>\n",
       "      <td>3</td>\n",
       "      <td>5</td>\n",
       "      <td>0</td>\n",
       "      <td>7</td>\n",
       "      <td>2</td>\n",
       "      <td>11</td>\n",
       "      <td>2</td>\n",
       "      <td>8</td>\n",
       "      <td>9</td>\n",
       "      <td>2100000.0</td>\n",
       "    </tr>\n",
       "    <tr>\n",
       "      <th>798</th>\n",
       "      <td>1373</td>\n",
       "      <td>2</td>\n",
       "      <td>0</td>\n",
       "      <td>49.0</td>\n",
       "      <td>2</td>\n",
       "      <td>5</td>\n",
       "      <td>0</td>\n",
       "      <td>0</td>\n",
       "      <td>0</td>\n",
       "      <td>0</td>\n",
       "      <td>...</td>\n",
       "      <td>5</td>\n",
       "      <td>2</td>\n",
       "      <td>0</td>\n",
       "      <td>6</td>\n",
       "      <td>3</td>\n",
       "      <td>4</td>\n",
       "      <td>1</td>\n",
       "      <td>5</td>\n",
       "      <td>13</td>\n",
       "      <td>3000000.0</td>\n",
       "    </tr>\n",
       "    <tr>\n",
       "      <th>799</th>\n",
       "      <td>499</td>\n",
       "      <td>2</td>\n",
       "      <td>0</td>\n",
       "      <td>39.0</td>\n",
       "      <td>2</td>\n",
       "      <td>12</td>\n",
       "      <td>0</td>\n",
       "      <td>0</td>\n",
       "      <td>0</td>\n",
       "      <td>0</td>\n",
       "      <td>...</td>\n",
       "      <td>5</td>\n",
       "      <td>11</td>\n",
       "      <td>0</td>\n",
       "      <td>5</td>\n",
       "      <td>1</td>\n",
       "      <td>22</td>\n",
       "      <td>4</td>\n",
       "      <td>8</td>\n",
       "      <td>18</td>\n",
       "      <td>2450000.0</td>\n",
       "    </tr>\n",
       "    <tr>\n",
       "      <th>800</th>\n",
       "      <td>1375</td>\n",
       "      <td>1</td>\n",
       "      <td>1</td>\n",
       "      <td>21.0</td>\n",
       "      <td>3</td>\n",
       "      <td>5</td>\n",
       "      <td>1</td>\n",
       "      <td>0</td>\n",
       "      <td>0</td>\n",
       "      <td>0</td>\n",
       "      <td>...</td>\n",
       "      <td>5</td>\n",
       "      <td>1</td>\n",
       "      <td>0</td>\n",
       "      <td>2</td>\n",
       "      <td>3</td>\n",
       "      <td>5</td>\n",
       "      <td>0</td>\n",
       "      <td>4</td>\n",
       "      <td>9</td>\n",
       "      <td>1300000.0</td>\n",
       "    </tr>\n",
       "    <tr>\n",
       "      <th>801</th>\n",
       "      <td>1128</td>\n",
       "      <td>2</td>\n",
       "      <td>0</td>\n",
       "      <td>49.0</td>\n",
       "      <td>5</td>\n",
       "      <td>5</td>\n",
       "      <td>0</td>\n",
       "      <td>0</td>\n",
       "      <td>0</td>\n",
       "      <td>0</td>\n",
       "      <td>...</td>\n",
       "      <td>6</td>\n",
       "      <td>4</td>\n",
       "      <td>1</td>\n",
       "      <td>2</td>\n",
       "      <td>6</td>\n",
       "      <td>4</td>\n",
       "      <td>1</td>\n",
       "      <td>1</td>\n",
       "      <td>6</td>\n",
       "      <td>2100000.0</td>\n",
       "    </tr>\n",
       "  </tbody>\n",
       "</table>\n",
       "<p>802 rows × 48 columns</p>\n",
       "</div>"
      ],
      "text/plain": [
       "       id  Количество.комнат  Студия  Общая.площадь  Этаж  Этажей.в.доме  \\\n",
       "0    1122                  1       0           33.6     5              9   \n",
       "1    1369                  1       0           32.0     2              5   \n",
       "2     901                  2       0           48.3     2             14   \n",
       "3     379                  3       0           86.0     7             15   \n",
       "4     162                  1       1           18.0     1              5   \n",
       "..    ...                ...     ...            ...   ...            ...   \n",
       "797   318                  2       0           45.0     1              5   \n",
       "798  1373                  2       0           49.0     2              5   \n",
       "799   499                  2       0           39.0     2             12   \n",
       "800  1375                  1       1           21.0     3              5   \n",
       "801  1128                  2       0           49.0     5              5   \n",
       "\n",
       "     Парковка  Без.ремонта  Дизайнерский  Евроремонт  ...  Одежда..1000  \\\n",
       "0           0            0             0           0  ...             1   \n",
       "1           0            0             0           0  ...             5   \n",
       "2           0            0             0           1  ...             5   \n",
       "3           0            0             0           1  ...             1   \n",
       "4           0            0             0           0  ...             0   \n",
       "..        ...          ...           ...         ...  ...           ...   \n",
       "797         0            0             0           0  ...             3   \n",
       "798         0            0             0           0  ...             5   \n",
       "799         0            0             0           0  ...             5   \n",
       "800         1            0             0           0  ...             5   \n",
       "801         0            0             0           0  ...             6   \n",
       "\n",
       "     Супер3кет.1000  Кинотеатр.1000  Кафе.1000  АЗС.1000  Детский.сад.1000  \\\n",
       "0                 8               0          6         1                12   \n",
       "1                 2               0          6         2                 5   \n",
       "2                 4               0          8         1                23   \n",
       "3                 8               0          6         0                11   \n",
       "4                 2               0          1         3                 4   \n",
       "..              ...             ...        ...       ...               ...   \n",
       "797               5               0          7         2                11   \n",
       "798               2               0          6         3                 4   \n",
       "799              11               0          5         1                22   \n",
       "800               1               0          2         3                 5   \n",
       "801               4               1          2         6                 4   \n",
       "\n",
       "     Бар.1000  Банк.1000  Аптека.1000       Цена  \n",
       "0           5          2           12  2030000.0  \n",
       "1           1          5           14  1400000.0  \n",
       "2           5         10           23  2950000.0  \n",
       "3           5          1           12  5250000.0  \n",
       "4           3          0            9  1080000.0  \n",
       "..        ...        ...          ...        ...  \n",
       "797         2          8            9  2100000.0  \n",
       "798         1          5           13  3000000.0  \n",
       "799         4          8           18  2450000.0  \n",
       "800         0          4            9  1300000.0  \n",
       "801         1          1            6  2100000.0  \n",
       "\n",
       "[802 rows x 48 columns]"
      ]
     },
     "execution_count": 3,
     "metadata": {},
     "output_type": "execute_result"
    }
   ],
   "source": [
    "train"
   ]
  },
  {
   "cell_type": "code",
   "execution_count": 4,
   "id": "a97d2478",
   "metadata": {},
   "outputs": [],
   "source": [
    "del train['id']"
   ]
  },
  {
   "cell_type": "code",
   "execution_count": 5,
   "id": "b3b3d508",
   "metadata": {},
   "outputs": [
    {
     "data": {
      "text/plain": [
       "<AxesSubplot:>"
      ]
     },
     "execution_count": 5,
     "metadata": {},
     "output_type": "execute_result"
    },
    {
     "data": {
      "image/png": "[encoded data removed]",
      "text/plain": [
       "<Figure size 1440x1152 with 2 Axes>"
      ]
     },
     "metadata": {
      "needs_background": "light"
     },
     "output_type": "display_data"
    }
   ],
   "source": [
    "f, ax = plt.subplots(figsize =(20, 16))\n",
    "\n",
    "sns.heatmap(train.corr(), ax = ax, vmin = -1, vmax = 1, center = 0, cmap = 'coolwarm')"
   ]
  },
  {
   "cell_type": "code",
   "execution_count": 6,
   "id": "27deef00",
   "metadata": {},
   "outputs": [
    {
     "data": {
      "text/plain": [
       "<AxesSubplot:>"
      ]
     },
     "execution_count": 6,
     "metadata": {},
     "output_type": "execute_result"
    },
    {
     "data": {
      "image/png": "[encoded data removed]",
      "text/plain": [
       "<Figure size 144x1440 with 2 Axes>"
      ]
     },
     "metadata": {
      "needs_background": "light"
     },
     "output_type": "display_data"
    }
   ],
   "source": [
    "f, ax = plt.subplots(figsize =(2, 20))\n",
    "\n",
    "sns.heatmap(train.corr()[['Цена']], ax = ax, vmin = -1, vmax = 1, center = 0, cmap = 'coolwarm', annot = True)"
   ]
  },
  {
   "cell_type": "markdown",
   "id": "4d5a5fa2",
   "metadata": {},
   "source": [
    "# Предобработка данных"
   ]
  },
  {
   "cell_type": "code",
   "execution_count": 7,
   "id": "c65a341c",
   "metadata": {
    "scrolled": true
   },
   "outputs": [
    {
     "data": {
      "text/html": [
       "<div>\n",
       "<style scoped>\n",
       "    .dataframe tbody tr th:only-of-type {\n",
       "        vertical-align: middle;\n",
       "    }\n",
       "\n",
       "    .dataframe tbody tr th {\n",
       "        vertical-align: top;\n",
       "    }\n",
       "\n",
       "    .dataframe thead th {\n",
       "        text-align: right;\n",
       "    }\n",
       "</style>\n",
       "<table border=\"1\" class=\"dataframe\">\n",
       "  <thead>\n",
       "    <tr style=\"text-align: right;\">\n",
       "      <th></th>\n",
       "      <th>Количество.комнат</th>\n",
       "      <th>Студия</th>\n",
       "      <th>Общая.площадь</th>\n",
       "      <th>Этаж</th>\n",
       "      <th>Этажей.в.доме</th>\n",
       "      <th>Парковка</th>\n",
       "      <th>Без.ремонта</th>\n",
       "      <th>Дизайнерский</th>\n",
       "      <th>Евроремонт</th>\n",
       "      <th>Косметический</th>\n",
       "      <th>...</th>\n",
       "      <th>Одежда..1000</th>\n",
       "      <th>Супер3кет.1000</th>\n",
       "      <th>Кинотеатр.1000</th>\n",
       "      <th>Кафе.1000</th>\n",
       "      <th>АЗС.1000</th>\n",
       "      <th>Детский.сад.1000</th>\n",
       "      <th>Бар.1000</th>\n",
       "      <th>Банк.1000</th>\n",
       "      <th>Аптека.1000</th>\n",
       "      <th>Цена</th>\n",
       "    </tr>\n",
       "  </thead>\n",
       "  <tbody>\n",
       "    <tr>\n",
       "      <th>0</th>\n",
       "      <td>1</td>\n",
       "      <td>0</td>\n",
       "      <td>33.6</td>\n",
       "      <td>5</td>\n",
       "      <td>9</td>\n",
       "      <td>0</td>\n",
       "      <td>0</td>\n",
       "      <td>0</td>\n",
       "      <td>0</td>\n",
       "      <td>1</td>\n",
       "      <td>...</td>\n",
       "      <td>1</td>\n",
       "      <td>8</td>\n",
       "      <td>0</td>\n",
       "      <td>6</td>\n",
       "      <td>1</td>\n",
       "      <td>12</td>\n",
       "      <td>5</td>\n",
       "      <td>2</td>\n",
       "      <td>12</td>\n",
       "      <td>2030000.0</td>\n",
       "    </tr>\n",
       "    <tr>\n",
       "      <th>1</th>\n",
       "      <td>1</td>\n",
       "      <td>0</td>\n",
       "      <td>32.0</td>\n",
       "      <td>2</td>\n",
       "      <td>5</td>\n",
       "      <td>0</td>\n",
       "      <td>0</td>\n",
       "      <td>0</td>\n",
       "      <td>0</td>\n",
       "      <td>1</td>\n",
       "      <td>...</td>\n",
       "      <td>5</td>\n",
       "      <td>2</td>\n",
       "      <td>0</td>\n",
       "      <td>6</td>\n",
       "      <td>2</td>\n",
       "      <td>5</td>\n",
       "      <td>1</td>\n",
       "      <td>5</td>\n",
       "      <td>14</td>\n",
       "      <td>1400000.0</td>\n",
       "    </tr>\n",
       "    <tr>\n",
       "      <th>2</th>\n",
       "      <td>2</td>\n",
       "      <td>0</td>\n",
       "      <td>48.3</td>\n",
       "      <td>2</td>\n",
       "      <td>14</td>\n",
       "      <td>0</td>\n",
       "      <td>0</td>\n",
       "      <td>0</td>\n",
       "      <td>1</td>\n",
       "      <td>0</td>\n",
       "      <td>...</td>\n",
       "      <td>5</td>\n",
       "      <td>4</td>\n",
       "      <td>0</td>\n",
       "      <td>8</td>\n",
       "      <td>1</td>\n",
       "      <td>23</td>\n",
       "      <td>5</td>\n",
       "      <td>10</td>\n",
       "      <td>23</td>\n",
       "      <td>2950000.0</td>\n",
       "    </tr>\n",
       "    <tr>\n",
       "      <th>3</th>\n",
       "      <td>3</td>\n",
       "      <td>0</td>\n",
       "      <td>86.0</td>\n",
       "      <td>7</td>\n",
       "      <td>15</td>\n",
       "      <td>0</td>\n",
       "      <td>0</td>\n",
       "      <td>0</td>\n",
       "      <td>1</td>\n",
       "      <td>0</td>\n",
       "      <td>...</td>\n",
       "      <td>1</td>\n",
       "      <td>8</td>\n",
       "      <td>0</td>\n",
       "      <td>6</td>\n",
       "      <td>0</td>\n",
       "      <td>11</td>\n",
       "      <td>5</td>\n",
       "      <td>1</td>\n",
       "      <td>12</td>\n",
       "      <td>5250000.0</td>\n",
       "    </tr>\n",
       "    <tr>\n",
       "      <th>4</th>\n",
       "      <td>1</td>\n",
       "      <td>1</td>\n",
       "      <td>18.0</td>\n",
       "      <td>1</td>\n",
       "      <td>5</td>\n",
       "      <td>0</td>\n",
       "      <td>0</td>\n",
       "      <td>0</td>\n",
       "      <td>0</td>\n",
       "      <td>1</td>\n",
       "      <td>...</td>\n",
       "      <td>0</td>\n",
       "      <td>2</td>\n",
       "      <td>0</td>\n",
       "      <td>1</td>\n",
       "      <td>3</td>\n",
       "      <td>4</td>\n",
       "      <td>3</td>\n",
       "      <td>0</td>\n",
       "      <td>9</td>\n",
       "      <td>1080000.0</td>\n",
       "    </tr>\n",
       "    <tr>\n",
       "      <th>...</th>\n",
       "      <td>...</td>\n",
       "      <td>...</td>\n",
       "      <td>...</td>\n",
       "      <td>...</td>\n",
       "      <td>...</td>\n",
       "      <td>...</td>\n",
       "      <td>...</td>\n",
       "      <td>...</td>\n",
       "      <td>...</td>\n",
       "      <td>...</td>\n",
       "      <td>...</td>\n",
       "      <td>...</td>\n",
       "      <td>...</td>\n",
       "      <td>...</td>\n",
       "      <td>...</td>\n",
       "      <td>...</td>\n",
       "      <td>...</td>\n",
       "      <td>...</td>\n",
       "      <td>...</td>\n",
       "      <td>...</td>\n",
       "      <td>...</td>\n",
       "    </tr>\n",
       "    <tr>\n",
       "      <th>797</th>\n",
       "      <td>2</td>\n",
       "      <td>0</td>\n",
       "      <td>45.0</td>\n",
       "      <td>1</td>\n",
       "      <td>5</td>\n",
       "      <td>0</td>\n",
       "      <td>0</td>\n",
       "      <td>0</td>\n",
       "      <td>0</td>\n",
       "      <td>1</td>\n",
       "      <td>...</td>\n",
       "      <td>3</td>\n",
       "      <td>5</td>\n",
       "      <td>0</td>\n",
       "      <td>7</td>\n",
       "      <td>2</td>\n",
       "      <td>11</td>\n",
       "      <td>2</td>\n",
       "      <td>8</td>\n",
       "      <td>9</td>\n",
       "      <td>2100000.0</td>\n",
       "    </tr>\n",
       "    <tr>\n",
       "      <th>798</th>\n",
       "      <td>2</td>\n",
       "      <td>0</td>\n",
       "      <td>49.0</td>\n",
       "      <td>2</td>\n",
       "      <td>5</td>\n",
       "      <td>0</td>\n",
       "      <td>0</td>\n",
       "      <td>0</td>\n",
       "      <td>0</td>\n",
       "      <td>1</td>\n",
       "      <td>...</td>\n",
       "      <td>5</td>\n",
       "      <td>2</td>\n",
       "      <td>0</td>\n",
       "      <td>6</td>\n",
       "      <td>3</td>\n",
       "      <td>4</td>\n",
       "      <td>1</td>\n",
       "      <td>5</td>\n",
       "      <td>13</td>\n",
       "      <td>3000000.0</td>\n",
       "    </tr>\n",
       "    <tr>\n",
       "      <th>799</th>\n",
       "      <td>2</td>\n",
       "      <td>0</td>\n",
       "      <td>39.0</td>\n",
       "      <td>2</td>\n",
       "      <td>12</td>\n",
       "      <td>0</td>\n",
       "      <td>0</td>\n",
       "      <td>0</td>\n",
       "      <td>0</td>\n",
       "      <td>1</td>\n",
       "      <td>...</td>\n",
       "      <td>5</td>\n",
       "      <td>11</td>\n",
       "      <td>0</td>\n",
       "      <td>5</td>\n",
       "      <td>1</td>\n",
       "      <td>22</td>\n",
       "      <td>4</td>\n",
       "      <td>8</td>\n",
       "      <td>18</td>\n",
       "      <td>2450000.0</td>\n",
       "    </tr>\n",
       "    <tr>\n",
       "      <th>800</th>\n",
       "      <td>1</td>\n",
       "      <td>1</td>\n",
       "      <td>21.0</td>\n",
       "      <td>3</td>\n",
       "      <td>5</td>\n",
       "      <td>1</td>\n",
       "      <td>0</td>\n",
       "      <td>0</td>\n",
       "      <td>0</td>\n",
       "      <td>1</td>\n",
       "      <td>...</td>\n",
       "      <td>5</td>\n",
       "      <td>1</td>\n",
       "      <td>0</td>\n",
       "      <td>2</td>\n",
       "      <td>3</td>\n",
       "      <td>5</td>\n",
       "      <td>0</td>\n",
       "      <td>4</td>\n",
       "      <td>9</td>\n",
       "      <td>1300000.0</td>\n",
       "    </tr>\n",
       "    <tr>\n",
       "      <th>801</th>\n",
       "      <td>2</td>\n",
       "      <td>0</td>\n",
       "      <td>49.0</td>\n",
       "      <td>5</td>\n",
       "      <td>5</td>\n",
       "      <td>0</td>\n",
       "      <td>0</td>\n",
       "      <td>0</td>\n",
       "      <td>0</td>\n",
       "      <td>1</td>\n",
       "      <td>...</td>\n",
       "      <td>6</td>\n",
       "      <td>4</td>\n",
       "      <td>1</td>\n",
       "      <td>2</td>\n",
       "      <td>6</td>\n",
       "      <td>4</td>\n",
       "      <td>1</td>\n",
       "      <td>1</td>\n",
       "      <td>6</td>\n",
       "      <td>2100000.0</td>\n",
       "    </tr>\n",
       "  </tbody>\n",
       "</table>\n",
       "<p>802 rows × 47 columns</p>\n",
       "</div>"
      ],
      "text/plain": [
       "     Количество.комнат  Студия  Общая.площадь  Этаж  Этажей.в.доме  Парковка  \\\n",
       "0                    1       0           33.6     5              9         0   \n",
       "1                    1       0           32.0     2              5         0   \n",
       "2                    2       0           48.3     2             14         0   \n",
       "3                    3       0           86.0     7             15         0   \n",
       "4                    1       1           18.0     1              5         0   \n",
       "..                 ...     ...            ...   ...            ...       ...   \n",
       "797                  2       0           45.0     1              5         0   \n",
       "798                  2       0           49.0     2              5         0   \n",
       "799                  2       0           39.0     2             12         0   \n",
       "800                  1       1           21.0     3              5         1   \n",
       "801                  2       0           49.0     5              5         0   \n",
       "\n",
       "     Без.ремонта  Дизайнерский  Евроремонт  Косметический  ...  Одежда..1000  \\\n",
       "0              0             0           0              1  ...             1   \n",
       "1              0             0           0              1  ...             5   \n",
       "2              0             0           1              0  ...             5   \n",
       "3              0             0           1              0  ...             1   \n",
       "4              0             0           0              1  ...             0   \n",
       "..           ...           ...         ...            ...  ...           ...   \n",
       "797            0             0           0              1  ...             3   \n",
       "798            0             0           0              1  ...             5   \n",
       "799            0             0           0              1  ...             5   \n",
       "800            0             0           0              1  ...             5   \n",
       "801            0             0           0              1  ...             6   \n",
       "\n",
       "     Супер3кет.1000  Кинотеатр.1000  Кафе.1000  АЗС.1000  Детский.сад.1000  \\\n",
       "0                 8               0          6         1                12   \n",
       "1                 2               0          6         2                 5   \n",
       "2                 4               0          8         1                23   \n",
       "3                 8               0          6         0                11   \n",
       "4                 2               0          1         3                 4   \n",
       "..              ...             ...        ...       ...               ...   \n",
       "797               5               0          7         2                11   \n",
       "798               2               0          6         3                 4   \n",
       "799              11               0          5         1                22   \n",
       "800               1               0          2         3                 5   \n",
       "801               4               1          2         6                 4   \n",
       "\n",
       "     Бар.1000  Банк.1000  Аптека.1000       Цена  \n",
       "0           5          2           12  2030000.0  \n",
       "1           1          5           14  1400000.0  \n",
       "2           5         10           23  2950000.0  \n",
       "3           5          1           12  5250000.0  \n",
       "4           3          0            9  1080000.0  \n",
       "..        ...        ...          ...        ...  \n",
       "797         2          8            9  2100000.0  \n",
       "798         1          5           13  3000000.0  \n",
       "799         4          8           18  2450000.0  \n",
       "800         0          4            9  1300000.0  \n",
       "801         1          1            6  2100000.0  \n",
       "\n",
       "[802 rows x 47 columns]"
      ]
     },
     "execution_count": 7,
     "metadata": {},
     "output_type": "execute_result"
    }
   ],
   "source": [
    "train"
   ]
  },
  {
   "cell_type": "code",
   "execution_count": 8,
   "id": "48029a13",
   "metadata": {},
   "outputs": [],
   "source": [
    "def split_floors(floor):\n",
    "    if floor == 1:\n",
    "        return '1 этаж'\n",
    "    elif 2 < floor < 10:\n",
    "        return '2-10 этаж'\n",
    "    else:\n",
    "        return 'Высокий этаж'"
   ]
  },
  {
   "cell_type": "code",
   "execution_count": 9,
   "id": "7bd89aaa",
   "metadata": {},
   "outputs": [],
   "source": [
    "def process(df):\n",
    "    categorial_floors = df['Этаж'].apply(split_floors)\n",
    "    df = df.join(pd.get_dummies(categorial_floors))\n",
    "    del df['Этаж']\n",
    "    return df"
   ]
  },
  {
   "cell_type": "code",
   "execution_count": 10,
   "id": "c4d32a0f",
   "metadata": {},
   "outputs": [],
   "source": [
    "train = process(train)"
   ]
  },
  {
   "cell_type": "code",
   "execution_count": 11,
   "id": "fe92ebc7",
   "metadata": {},
   "outputs": [],
   "source": [
    "def find_correlated(df):\n",
    "    price_corr = df.corr()['Цена']\n",
    "    return price_corr[abs(price_corr) > 0.05].index"
   ]
  },
  {
   "cell_type": "code",
   "execution_count": 12,
   "id": "0c9ac044",
   "metadata": {},
   "outputs": [],
   "source": [
    "# redunant_cols = find_correlated(train)\n",
    "# train = train[redunant_cols]\n",
    "# train"
   ]
  },
  {
   "cell_type": "markdown",
   "id": "e5547572",
   "metadata": {},
   "source": [
    "Также выделим колонку Цены в отдельный датафрейм"
   ]
  },
  {
   "cell_type": "code",
   "execution_count": 13,
   "id": "e6de3b11",
   "metadata": {},
   "outputs": [],
   "source": [
    "price_col = train.pop('Цена')"
   ]
  },
  {
   "cell_type": "markdown",
   "id": "biological-rider",
   "metadata": {},
   "source": [
    "# Алгоритмы регрессии"
   ]
  },
  {
   "cell_type": "markdown",
   "id": "peaceful-channel",
   "metadata": {},
   "source": [
    "Разделяем выборку на тренировочную и тестовую"
   ]
  },
  {
   "cell_type": "code",
   "execution_count": 14,
   "id": "jewish-forth",
   "metadata": {},
   "outputs": [],
   "source": [
    "from sklearn.model_selection import train_test_split"
   ]
  },
  {
   "cell_type": "code",
   "execution_count": 15,
   "id": "aboriginal-cotton",
   "metadata": {},
   "outputs": [],
   "source": [
    "X_train, X_val, y_train, y_val = train_test_split(train, price_col, train_size=0.7, random_state=42000)"
   ]
  },
  {
   "cell_type": "markdown",
   "id": "eed6ec61",
   "metadata": {},
   "source": [
    "### Функция оценки качества обучения модели"
   ]
  },
  {
   "cell_type": "code",
   "execution_count": 16,
   "id": "a361200d",
   "metadata": {},
   "outputs": [],
   "source": [
    "from sklearn.metrics import mean_squared_error, r2_score"
   ]
  },
  {
   "cell_type": "code",
   "execution_count": 17,
   "id": "b83459d1",
   "metadata": {},
   "outputs": [],
   "source": [
    "def assess(fitted_regression_model, train_data, val_data, train_real, val_real):\n",
    "    train_pred = fitted_regression_model.predict(train_data)\n",
    "    val_pred = fitted_regression_model.predict(val_data)\n",
    "    \n",
    "    print('MSE train: {:.4f}, test: {:.4f}'.format(\n",
    "        mean_squared_error(train_real, train_pred),\n",
    "        mean_squared_error(val_real, val_pred)))\n",
    "    print('R^2 train: {:.4f}, test: {:.4f}'.format(\n",
    "        r2_score(train_real, train_pred),\n",
    "        r2_score(val_real, val_pred)))"
   ]
  },
  {
   "cell_type": "markdown",
   "id": "built-russia",
   "metadata": {},
   "source": [
    "### Линейная регрессия"
   ]
  },
  {
   "cell_type": "code",
   "execution_count": 18,
   "id": "secondary-cuisine",
   "metadata": {},
   "outputs": [],
   "source": [
    "from sklearn.linear_model import LinearRegression"
   ]
  },
  {
   "cell_type": "code",
   "execution_count": 19,
   "id": "funny-collar",
   "metadata": {
    "scrolled": true
   },
   "outputs": [
    {
     "name": "stdout",
     "output_type": "stream",
     "text": [
      "MSE train: 76601915771.9342, test: 93033794217.5306\n",
      "R^2 train: 0.9354, test: 0.9188\n"
     ]
    }
   ],
   "source": [
    "lr = LinearRegression()\n",
    "lr.fit(X_train, y_train)\n",
    "assess(lr, X_train, X_val, y_train, y_val)"
   ]
  },
  {
   "cell_type": "markdown",
   "id": "b04b4c80",
   "metadata": {},
   "source": [
    "### Лассо регрессия"
   ]
  },
  {
   "cell_type": "code",
   "execution_count": 20,
   "id": "b71a0095",
   "metadata": {},
   "outputs": [],
   "source": [
    "from sklearn.linear_model import Lasso"
   ]
  },
  {
   "cell_type": "code",
   "execution_count": 21,
   "id": "a9112dd7",
   "metadata": {},
   "outputs": [
    {
     "name": "stdout",
     "output_type": "stream",
     "text": [
      "MSE train: 76602024252.8584, test: 93011547719.9585\n",
      "R^2 train: 0.9354, test: 0.9188\n"
     ]
    }
   ],
   "source": [
    "lasso = Lasso(normalize=True)\n",
    "lasso.fit(X_train, y_train)\n",
    "assess(lasso, X_train, X_val, y_train, y_val)"
   ]
  },
  {
   "cell_type": "markdown",
   "id": "c1d8454b",
   "metadata": {},
   "source": [
    "### Гребневая регрессия"
   ]
  },
  {
   "cell_type": "code",
   "execution_count": 22,
   "id": "4df6cea3",
   "metadata": {},
   "outputs": [],
   "source": [
    "from sklearn.linear_model import RidgeCV"
   ]
  },
  {
   "cell_type": "code",
   "execution_count": 23,
   "id": "24f81d00",
   "metadata": {},
   "outputs": [
    {
     "name": "stdout",
     "output_type": "stream",
     "text": [
      "MSE train: 79051601896.8443, test: 83934702168.5222\n",
      "R^2 train: 0.9333, test: 0.9267\n"
     ]
    }
   ],
   "source": [
    "ridge = RidgeCV(np.arange(0.1, 1000, 0.2))\n",
    "ridge.fit(X_train, y_train)\n",
    "assess(ridge, X_train, X_val, y_train, y_val)"
   ]
  },
  {
   "cell_type": "markdown",
   "id": "1d2a404f",
   "metadata": {},
   "source": [
    "### Elastic-Net"
   ]
  },
  {
   "cell_type": "code",
   "execution_count": 24,
   "id": "0199493d",
   "metadata": {},
   "outputs": [],
   "source": [
    "from sklearn.linear_model import ElasticNet"
   ]
  },
  {
   "cell_type": "code",
   "execution_count": 25,
   "id": "0ff87d33",
   "metadata": {},
   "outputs": [
    {
     "name": "stdout",
     "output_type": "stream",
     "text": [
      "MSE train: 87849802945.4107, test: 84248442371.5274\n",
      "R^2 train: 0.9259, test: 0.9264\n"
     ]
    }
   ],
   "source": [
    "en = ElasticNet()\n",
    "en.fit(X_train, y_train)\n",
    "assess(en, X_train, X_val, y_train, y_val)"
   ]
  },
  {
   "cell_type": "markdown",
   "id": "261e971b",
   "metadata": {},
   "source": [
    "### Метод наименьших углов"
   ]
  },
  {
   "cell_type": "code",
   "execution_count": 26,
   "id": "3d493adf",
   "metadata": {},
   "outputs": [],
   "source": [
    "from sklearn.linear_model import Lars"
   ]
  },
  {
   "cell_type": "code",
   "execution_count": 27,
   "id": "12a688b8",
   "metadata": {},
   "outputs": [
    {
     "name": "stdout",
     "output_type": "stream",
     "text": [
      "MSE train: 109913633652.4807, test: 123385590153.4718\n",
      "R^2 train: 0.9073, test: 0.8923\n"
     ]
    },
    {
     "name": "stderr",
     "output_type": "stream",
     "text": [
      "c:\\users\\alekc\\appdata\\local\\programs\\python\\python39\\lib\\site-packages\\sklearn\\linear_model\\_least_angle.py:615: ConvergenceWarning: Regressors in active set degenerate. Dropping a regressor, after 45 iterations, i.e. alpha=4.929e+00, with an active set of 44 regressors, and the smallest cholesky pivot element being 4.344e-08. Reduce max_iter or increase eps parameters.\n",
      "  warnings.warn('Regressors in active set degenerate. '\n",
      "c:\\users\\alekc\\appdata\\local\\programs\\python\\python39\\lib\\site-packages\\sklearn\\linear_model\\_least_angle.py:615: ConvergenceWarning: Regressors in active set degenerate. Dropping a regressor, after 45 iterations, i.e. alpha=3.498e+00, with an active set of 44 regressors, and the smallest cholesky pivot element being 5.771e-08. Reduce max_iter or increase eps parameters.\n",
      "  warnings.warn('Regressors in active set degenerate. '\n",
      "c:\\users\\alekc\\appdata\\local\\programs\\python\\python39\\lib\\site-packages\\sklearn\\linear_model\\_least_angle.py:615: ConvergenceWarning: Regressors in active set degenerate. Dropping a regressor, after 45 iterations, i.e. alpha=2.086e+00, with an active set of 44 regressors, and the smallest cholesky pivot element being 5.373e-08. Reduce max_iter or increase eps parameters.\n",
      "  warnings.warn('Regressors in active set degenerate. '\n",
      "c:\\users\\alekc\\appdata\\local\\programs\\python\\python39\\lib\\site-packages\\sklearn\\linear_model\\_least_angle.py:615: ConvergenceWarning: Regressors in active set degenerate. Dropping a regressor, after 45 iterations, i.e. alpha=6.410e-01, with an active set of 44 regressors, and the smallest cholesky pivot element being 5.373e-08. Reduce max_iter or increase eps parameters.\n",
      "  warnings.warn('Regressors in active set degenerate. '\n"
     ]
    }
   ],
   "source": [
    "lars = Lars(fit_intercept=0.2220446049250313)\n",
    "lars.fit(X_train, y_train)\n",
    "assess(lars, X_train, X_val, y_train, y_val)"
   ]
  },
  {
   "cell_type": "markdown",
   "id": "4074f7e4",
   "metadata": {},
   "source": [
    "### Байесовская регрессия"
   ]
  },
  {
   "cell_type": "code",
   "execution_count": 28,
   "id": "b4e30eb6",
   "metadata": {},
   "outputs": [],
   "source": [
    "from sklearn.linear_model import BayesianRidge"
   ]
  },
  {
   "cell_type": "code",
   "execution_count": 29,
   "id": "ae2be7c4",
   "metadata": {},
   "outputs": [
    {
     "name": "stdout",
     "output_type": "stream",
     "text": [
      "MSE train: 81962422350.3500, test: 82962945026.9029\n",
      "R^2 train: 0.9309, test: 0.9276\n"
     ]
    }
   ],
   "source": [
    "br = BayesianRidge()\n",
    "br.fit(X_train, y_train)\n",
    "assess(br, X_train, X_val, y_train, y_val)"
   ]
  },
  {
   "cell_type": "markdown",
   "id": "59043ae8",
   "metadata": {},
   "source": [
    "### Обобщенная линейная регрессия"
   ]
  },
  {
   "cell_type": "code",
   "execution_count": 30,
   "id": "e47ff7f8",
   "metadata": {},
   "outputs": [],
   "source": [
    "from sklearn.linear_model import GammaRegressor"
   ]
  },
  {
   "cell_type": "code",
   "execution_count": 31,
   "id": "c0d92338",
   "metadata": {
    "scrolled": true
   },
   "outputs": [
    {
     "name": "stdout",
     "output_type": "stream",
     "text": [
      "MSE train: 259467678182.6939, test: 199633408809.0421\n",
      "R^2 train: 0.7812, test: 0.8257\n"
     ]
    },
    {
     "name": "stderr",
     "output_type": "stream",
     "text": [
      "c:\\users\\alekc\\appdata\\local\\programs\\python\\python39\\lib\\site-packages\\sklearn\\_loss\\glm_distribution.py:246: RuntimeWarning: overflow encountered in power\n",
      "  return np.power(y_pred, self.power)\n",
      "c:\\users\\alekc\\appdata\\local\\programs\\python\\python39\\lib\\site-packages\\sklearn\\linear_model\\_glm\\glm.py:287: ConvergenceWarning: lbfgs failed to converge (status=1):\n",
      "STOP: TOTAL NO. of ITERATIONS REACHED LIMIT.\n",
      "\n",
      "Increase the number of iterations (max_iter) or scale the data as shown in:\n",
      "    https://scikit-learn.org/stable/modules/preprocessing.html\n",
      "  self.n_iter_ = _check_optimize_result(\"lbfgs\", opt_res)\n"
     ]
    }
   ],
   "source": [
    "gr = GammaRegressor(max_iter=100)\n",
    "gr.fit(X_train, y_train)\n",
    "assess(gr, X_train, X_val, y_train, y_val)"
   ]
  },
  {
   "cell_type": "markdown",
   "id": "a604a719",
   "metadata": {},
   "source": [
    "### Полиномиальная регрессия"
   ]
  },
  {
   "cell_type": "code",
   "execution_count": 34,
   "id": "9bb3d67b",
   "metadata": {},
   "outputs": [],
   "source": [
    "from sklearn.preprocessing import PolynomialFeatures"
   ]
  },
  {
   "cell_type": "code",
   "execution_count": 35,
   "id": "949e13e3",
   "metadata": {},
   "outputs": [
    {
     "name": "stdout",
     "output_type": "stream",
     "text": [
      "MSE train: 9269162.2103, test: 1187597514861.2737\n",
      "R^2 train: 1.0000, test: -0.0370\n"
     ]
    }
   ],
   "source": [
    "pf = PolynomialFeatures(degree=3)\n",
    "poly_X_train = pf.fit_transform(X_train)\n",
    "poly_X_val = pf.fit_transform(X_val)\n",
    "\n",
    "pr = LinearRegression()\n",
    "pr.fit(poly_X_train, y_train)\n",
    "assess(pr, poly_X_train, poly_X_val, y_train, y_val)"
   ]
  },
  {
   "cell_type": "markdown",
   "id": "9e55145b",
   "metadata": {},
   "source": [
    "### Деревья решений"
   ]
  },
  {
   "cell_type": "code",
   "execution_count": 36,
   "id": "b204b06b",
   "metadata": {},
   "outputs": [],
   "source": [
    "from sklearn.ensemble import RandomForestRegressor "
   ]
  },
  {
   "cell_type": "code",
   "execution_count": 37,
   "id": "ef1ea9df",
   "metadata": {},
   "outputs": [
    {
     "name": "stdout",
     "output_type": "stream",
     "text": [
      "MSE train: 47767671626.4814, test: 88134050494.5157\n",
      "R^2 train: 0.9597, test: 0.9230\n"
     ]
    }
   ],
   "source": [
    "rfr = RandomForestRegressor(n_estimators=100, max_depth=80, min_samples_split=12, min_samples_leaf=6)\n",
    "rfr.fit(X_train, y_train)\n",
    "assess(rfr, X_train, X_val, y_train, y_val)"
   ]
  },
  {
   "cell_type": "code",
   "execution_count": 44,
   "id": "60ab8c5f",
   "metadata": {},
   "outputs": [],
   "source": [
    "from sklearn.tree import DecisionTreeRegressor"
   ]
  },
  {
   "cell_type": "code",
   "execution_count": 75,
   "id": "3623dc44",
   "metadata": {},
   "outputs": [
    {
     "name": "stdout",
     "output_type": "stream",
     "text": [
      "MSE train: 35090301559.6879, test: 120935899232.7106\n",
      "R^2 train: 0.9704, test: 0.8944\n"
     ]
    }
   ],
   "source": [
    "dtr = DecisionTreeRegressor(max_depth=10, min_samples_leaf=5, min_samples_split=6)\n",
    "dtr.fit(X_train, y_train)\n",
    "assess(dtr, X_train, X_val, y_train, y_val)"
   ]
  },
  {
   "cell_type": "markdown",
   "id": "similar-fashion",
   "metadata": {},
   "source": [
    "# Отправка данных с ответами"
   ]
  },
  {
   "cell_type": "code",
   "execution_count": 38,
   "id": "elect-tunisia",
   "metadata": {},
   "outputs": [],
   "source": [
    "id = test.pop('id')\n",
    "# test = test[redunant_cols[0:-1]]\n",
    "test = process(test)\n",
    "price_prediction = ridge.predict(test)"
   ]
  },
  {
   "cell_type": "code",
   "execution_count": 39,
   "id": "sufficient-clinton",
   "metadata": {},
   "outputs": [],
   "source": [
    "def create_submission(id_col, y_pred):\n",
    "    submission = pd.DataFrame({\n",
    "        'id': id_col,\n",
    "        'Цена': y_pred\n",
    "    })\n",
    "    return submission"
   ]
  },
  {
   "cell_type": "code",
   "execution_count": 40,
   "id": "verified-backup",
   "metadata": {},
   "outputs": [],
   "source": [
    "sub = create_submission(id, price_prediction)"
   ]
  },
  {
   "cell_type": "code",
   "execution_count": 41,
   "id": "informative-membership",
   "metadata": {},
   "outputs": [
    {
     "data": {
      "text/html": [
       "<div>\n",
       "<style scoped>\n",
       "    .dataframe tbody tr th:only-of-type {\n",
       "        vertical-align: middle;\n",
       "    }\n",
       "\n",
       "    .dataframe tbody tr th {\n",
       "        vertical-align: top;\n",
       "    }\n",
       "\n",
       "    .dataframe thead th {\n",
       "        text-align: right;\n",
       "    }\n",
       "</style>\n",
       "<table border=\"1\" class=\"dataframe\">\n",
       "  <thead>\n",
       "    <tr style=\"text-align: right;\">\n",
       "      <th></th>\n",
       "      <th>id</th>\n",
       "      <th>Цена</th>\n",
       "    </tr>\n",
       "  </thead>\n",
       "  <tbody>\n",
       "    <tr>\n",
       "      <th>0</th>\n",
       "      <td>747</td>\n",
       "      <td>2.392792e+06</td>\n",
       "    </tr>\n",
       "    <tr>\n",
       "      <th>1</th>\n",
       "      <td>962</td>\n",
       "      <td>1.606740e+06</td>\n",
       "    </tr>\n",
       "    <tr>\n",
       "      <th>2</th>\n",
       "      <td>1105</td>\n",
       "      <td>2.233915e+06</td>\n",
       "    </tr>\n",
       "    <tr>\n",
       "      <th>3</th>\n",
       "      <td>795</td>\n",
       "      <td>4.350097e+06</td>\n",
       "    </tr>\n",
       "    <tr>\n",
       "      <th>4</th>\n",
       "      <td>390</td>\n",
       "      <td>2.823974e+06</td>\n",
       "    </tr>\n",
       "    <tr>\n",
       "      <th>...</th>\n",
       "      <td>...</td>\n",
       "      <td>...</td>\n",
       "    </tr>\n",
       "    <tr>\n",
       "      <th>778</th>\n",
       "      <td>1060</td>\n",
       "      <td>2.490937e+06</td>\n",
       "    </tr>\n",
       "    <tr>\n",
       "      <th>779</th>\n",
       "      <td>67</td>\n",
       "      <td>4.831654e+06</td>\n",
       "    </tr>\n",
       "    <tr>\n",
       "      <th>780</th>\n",
       "      <td>754</td>\n",
       "      <td>2.106875e+06</td>\n",
       "    </tr>\n",
       "    <tr>\n",
       "      <th>781</th>\n",
       "      <td>1077</td>\n",
       "      <td>2.758897e+06</td>\n",
       "    </tr>\n",
       "    <tr>\n",
       "      <th>782</th>\n",
       "      <td>1253</td>\n",
       "      <td>2.264470e+06</td>\n",
       "    </tr>\n",
       "  </tbody>\n",
       "</table>\n",
       "<p>783 rows × 2 columns</p>\n",
       "</div>"
      ],
      "text/plain": [
       "       id          Цена\n",
       "0     747  2.392792e+06\n",
       "1     962  1.606740e+06\n",
       "2    1105  2.233915e+06\n",
       "3     795  4.350097e+06\n",
       "4     390  2.823974e+06\n",
       "..    ...           ...\n",
       "778  1060  2.490937e+06\n",
       "779    67  4.831654e+06\n",
       "780   754  2.106875e+06\n",
       "781  1077  2.758897e+06\n",
       "782  1253  2.264470e+06\n",
       "\n",
       "[783 rows x 2 columns]"
      ]
     },
     "execution_count": 41,
     "metadata": {},
     "output_type": "execute_result"
    }
   ],
   "source": [
    "sub"
   ]
  },
  {
   "cell_type": "code",
   "execution_count": 42,
   "id": "naked-helicopter",
   "metadata": {},
   "outputs": [],
   "source": [
    "sub.to_csv(\"sub4.csv\", index=False)"
   ]
  }
 ],
 "metadata": {
  "kernelspec": {
   "display_name": "Python 3 (ipykernel)",
   "language": "python",
   "name": "python3"
  },
  "language_info": {
   "codemirror_mode": {
    "name": "ipython",
    "version": 3
   },
   "file_extension": ".py",
   "mimetype": "text/x-python",
   "name": "python",
   "nbconvert_exporter": "python",
   "pygments_lexer": "ipython3",
   "version": "3.8.6"
  }
 },
 "nbformat": 4,
 "nbformat_minor": 5
}
