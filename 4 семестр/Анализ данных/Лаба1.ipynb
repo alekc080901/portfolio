{
 "cells": [
  {
   "cell_type": "code",
   "execution_count": 1,
   "metadata": {
    "scrolled": false
   },
   "outputs": [
    {
     "name": "stdout",
     "output_type": "stream",
     "text": [
      "Requirement already satisfied: matplotlib in c:\\python38\\lib\\site-packages (3.3.4)\n",
      "Requirement already satisfied: numpy in c:\\python38\\lib\\site-packages (1.19.1)\n",
      "Requirement already satisfied: pandas in c:\\python38\\lib\\site-packages (1.2.2)\n",
      "Requirement already satisfied: sklearn in c:\\python38\\lib\\site-packages (0.0)\n",
      "Requirement already satisfied: scipy in c:\\python38\\lib\\site-packages (1.6.0)\n",
      "Requirement already satisfied: seaborn in c:\\python38\\lib\\site-packages (0.11.1)\n",
      "Requirement already satisfied: cycler>=0.10 in c:\\python38\\lib\\site-packages (from matplotlib) (0.10.0)\n",
      "Requirement already satisfied: pillow>=6.2.0 in c:\\python38\\lib\\site-packages (from matplotlib) (8.1.0)\n",
      "Requirement already satisfied: python-dateutil>=2.1 in c:\\python38\\lib\\site-packages (from matplotlib) (2.8.1)\n",
      "Requirement already satisfied: kiwisolver>=1.0.1 in c:\\python38\\lib\\site-packages (from matplotlib) (1.3.1)\n",
      "Requirement already satisfied: pyparsing!=2.0.4,!=2.1.2,!=2.1.6,>=2.0.3 in c:\\python38\\lib\\site-packages (from matplotlib) (2.4.7)\n",
      "Requirement already satisfied: six in c:\\python38\\lib\\site-packages (from cycler>=0.10->matplotlib) (1.15.0)\n",
      "Requirement already satisfied: pytz>=2017.3 in c:\\python38\\lib\\site-packages (from pandas) (2021.1)\n",
      "Requirement already satisfied: scikit-learn in c:\\python38\\lib\\site-packages (from sklearn) (0.24.1)\n",
      "Requirement already satisfied: joblib>=0.11 in c:\\python38\\lib\\site-packages (from scikit-learn->sklearn) (1.0.1)\n",
      "Requirement already satisfied: threadpoolctl>=2.0.0 in c:\\python38\\lib\\site-packages (from scikit-learn->sklearn) (2.1.0)\n"
     ]
    }
   ],
   "source": [
    "! pip install matplotlib numpy pandas sklearn scipy seaborn"
   ]
  },
  {
   "cell_type": "code",
   "execution_count": 4,
   "metadata": {},
   "outputs": [
    {
     "name": "stdout",
     "output_type": "stream",
     "text": [
      "Collecting openpyxl\n",
      "  Downloading openpyxl-3.0.7-py2.py3-none-any.whl (243 kB)\n",
      "Collecting et-xmlfile\n",
      "  Downloading et_xmlfile-1.1.0-py3-none-any.whl (4.7 kB)\n",
      "Installing collected packages: et-xmlfile, openpyxl\n",
      "Successfully installed et-xmlfile-1.1.0 openpyxl-3.0.7\n"
     ]
    }
   ],
   "source": [
    "!pip install openpyxl"
   ]
  },
  {
   "cell_type": "code",
   "execution_count": 1,
   "metadata": {
    "scrolled": true
   },
   "outputs": [],
   "source": [
    "import matplotlib.pyplot as plt\n",
    "import numpy as np\n",
    "import pandas\n",
    "import seaborn as sns\n",
    "import math\n",
    "from sklearn.impute import KNNImputer\n",
    "from sklearn import preprocessing\n",
    "from scipy.stats import sigmaclip"
   ]
  },
  {
   "cell_type": "code",
   "execution_count": 7,
   "metadata": {},
   "outputs": [
    {
     "data": {
      "text/plain": [
       "'C:\\\\Users\\\\alekc\\\\Desktop\\\\Learning\\\\Archive\\\\4 семестр\\\\Анализ'"
      ]
     },
     "execution_count": 7,
     "metadata": {},
     "output_type": "execute_result"
    }
   ],
   "source": [
    "import os\n",
    "os.getcwd()"
   ]
  },
  {
   "cell_type": "markdown",
   "metadata": {},
   "source": [
    "## Считывание даных под вариант"
   ]
  },
  {
   "cell_type": "code",
   "execution_count": 9,
   "metadata": {},
   "outputs": [],
   "source": [
    "data_frame: pandas.DataFrame = pandas.ExcelFile('first_practice_dataframe.xlsx').parse('Sheet1')\n",
    "data = data_frame[['cat8_motivesForTravelling', 'cat6_brandOfSoaps', 'num1_16', 'num2_16', 'num3_16']]"
   ]
  },
  {
   "cell_type": "code",
   "execution_count": 10,
   "metadata": {},
   "outputs": [
    {
     "data": {
      "text/html": [
       "<div>\n",
       "<style scoped>\n",
       "    .dataframe tbody tr th:only-of-type {\n",
       "        vertical-align: middle;\n",
       "    }\n",
       "\n",
       "    .dataframe tbody tr th {\n",
       "        vertical-align: top;\n",
       "    }\n",
       "\n",
       "    .dataframe thead th {\n",
       "        text-align: right;\n",
       "    }\n",
       "</style>\n",
       "<table border=\"1\" class=\"dataframe\">\n",
       "  <thead>\n",
       "    <tr style=\"text-align: right;\">\n",
       "      <th></th>\n",
       "      <th>cat8_motivesForTravelling</th>\n",
       "      <th>cat6_brandOfSoaps</th>\n",
       "      <th>num1_16</th>\n",
       "      <th>num2_16</th>\n",
       "      <th>num3_16</th>\n",
       "    </tr>\n",
       "  </thead>\n",
       "  <tbody>\n",
       "    <tr>\n",
       "      <th>0</th>\n",
       "      <td>Health</td>\n",
       "      <td>lux</td>\n",
       "      <td>873.769790</td>\n",
       "      <td>483.814054</td>\n",
       "      <td>116.806927</td>\n",
       "    </tr>\n",
       "    <tr>\n",
       "      <th>1</th>\n",
       "      <td>Study</td>\n",
       "      <td>NaN</td>\n",
       "      <td>720.562227</td>\n",
       "      <td>211.321139</td>\n",
       "      <td>98.26433</td>\n",
       "    </tr>\n",
       "    <tr>\n",
       "      <th>2</th>\n",
       "      <td>Family</td>\n",
       "      <td>Lux</td>\n",
       "      <td>1039.114671</td>\n",
       "      <td>244.149817</td>\n",
       "      <td>NaN</td>\n",
       "    </tr>\n",
       "    <tr>\n",
       "      <th>3</th>\n",
       "      <td>Health</td>\n",
       "      <td>lux</td>\n",
       "      <td>712.038677</td>\n",
       "      <td>82.090022</td>\n",
       "      <td>116.613291</td>\n",
       "    </tr>\n",
       "    <tr>\n",
       "      <th>4</th>\n",
       "      <td>Health</td>\n",
       "      <td>Dove</td>\n",
       "      <td>864.677412</td>\n",
       "      <td>NaN</td>\n",
       "      <td>146.187875</td>\n",
       "    </tr>\n",
       "    <tr>\n",
       "      <th>...</th>\n",
       "      <td>...</td>\n",
       "      <td>...</td>\n",
       "      <td>...</td>\n",
       "      <td>...</td>\n",
       "      <td>...</td>\n",
       "    </tr>\n",
       "    <tr>\n",
       "      <th>995</th>\n",
       "      <td>Leisure</td>\n",
       "      <td>Dove</td>\n",
       "      <td>678.416987</td>\n",
       "      <td>NaN</td>\n",
       "      <td>94.634025</td>\n",
       "    </tr>\n",
       "    <tr>\n",
       "      <th>996</th>\n",
       "      <td>Health</td>\n",
       "      <td>lux</td>\n",
       "      <td>974.740058</td>\n",
       "      <td>259.813573</td>\n",
       "      <td>140.970704</td>\n",
       "    </tr>\n",
       "    <tr>\n",
       "      <th>997</th>\n",
       "      <td>Study</td>\n",
       "      <td>Dove</td>\n",
       "      <td>752.479092</td>\n",
       "      <td>87.352380</td>\n",
       "      <td>120.055689</td>\n",
       "    </tr>\n",
       "    <tr>\n",
       "      <th>998</th>\n",
       "      <td>Health</td>\n",
       "      <td>Lux</td>\n",
       "      <td>847.430677</td>\n",
       "      <td>296.909229</td>\n",
       "      <td>NaN</td>\n",
       "    </tr>\n",
       "    <tr>\n",
       "      <th>999</th>\n",
       "      <td>Family</td>\n",
       "      <td>Lux</td>\n",
       "      <td>671.570314</td>\n",
       "      <td>NaN</td>\n",
       "      <td>135.994887</td>\n",
       "    </tr>\n",
       "  </tbody>\n",
       "</table>\n",
       "<p>1000 rows × 5 columns</p>\n",
       "</div>"
      ],
      "text/plain": [
       "    cat8_motivesForTravelling cat6_brandOfSoaps      num1_16     num2_16  \\\n",
       "0                      Health               lux   873.769790  483.814054   \n",
       "1                       Study               NaN   720.562227  211.321139   \n",
       "2                      Family               Lux  1039.114671  244.149817   \n",
       "3                      Health               lux   712.038677   82.090022   \n",
       "4                      Health              Dove   864.677412         NaN   \n",
       "..                        ...               ...          ...         ...   \n",
       "995                   Leisure              Dove   678.416987         NaN   \n",
       "996                    Health               lux   974.740058  259.813573   \n",
       "997                     Study              Dove   752.479092   87.352380   \n",
       "998                    Health               Lux   847.430677  296.909229   \n",
       "999                    Family               Lux   671.570314         NaN   \n",
       "\n",
       "        num3_16  \n",
       "0    116.806927  \n",
       "1      98.26433  \n",
       "2           NaN  \n",
       "3    116.613291  \n",
       "4    146.187875  \n",
       "..          ...  \n",
       "995   94.634025  \n",
       "996  140.970704  \n",
       "997  120.055689  \n",
       "998         NaN  \n",
       "999  135.994887  \n",
       "\n",
       "[1000 rows x 5 columns]"
      ]
     },
     "execution_count": 10,
     "metadata": {},
     "output_type": "execute_result"
    }
   ],
   "source": [
    "data"
   ]
  },
  {
   "cell_type": "markdown",
   "metadata": {},
   "source": [
    "## Визуализация количественных признаков"
   ]
  },
  {
   "cell_type": "code",
   "execution_count": 11,
   "metadata": {},
   "outputs": [],
   "source": [
    "def illustrate_quantity_series(info: pandas.Series, bins_number=40):\n",
    "    f, axes = plt.subplots(1, 2, figsize=(16, 6))\n",
    "    sns.histplot(data=info, bins=bins_number, kde=True, ax=axes[0], color='salmon')\n",
    "\n",
    "    sns_plot = sns.boxplot(info, ax=axes[1], color='orange')"
   ]
  },
  {
   "cell_type": "code",
   "execution_count": 12,
   "metadata": {},
   "outputs": [
    {
     "name": "stderr",
     "output_type": "stream",
     "text": [
      "c:\\users\\alekc\\appdata\\local\\programs\\python\\python38\\lib\\site-packages\\seaborn\\_decorators.py:36: FutureWarning: Pass the following variable as a keyword arg: x. From version 0.12, the only valid positional argument will be `data`, and passing other arguments without an explicit keyword will result in an error or misinterpretation.\n",
      "  warnings.warn(\n"
     ]
    },
    {
     "data": {
      "image/png": "[encoded data removed]",
      "text/plain": [
       "<Figure size 1152x432 with 2 Axes>"
      ]
     },
     "metadata": {
      "needs_background": "light"
     },
     "output_type": "display_data"
    }
   ],
   "source": [
    "illustrate_quantity_series(data['num1_16'], bins_number=40)"
   ]
  },
  {
   "cell_type": "code",
   "execution_count": 13,
   "metadata": {
    "scrolled": true
   },
   "outputs": [
    {
     "name": "stderr",
     "output_type": "stream",
     "text": [
      "c:\\users\\alekc\\appdata\\local\\programs\\python\\python38\\lib\\site-packages\\seaborn\\_decorators.py:36: FutureWarning: Pass the following variable as a keyword arg: x. From version 0.12, the only valid positional argument will be `data`, and passing other arguments without an explicit keyword will result in an error or misinterpretation.\n",
      "  warnings.warn(\n"
     ]
    },
    {
     "data": {
      "image/png": "[encoded data removed]",
      "text/plain": [
       "<Figure size 1152x432 with 2 Axes>"
      ]
     },
     "metadata": {
      "needs_background": "light"
     },
     "output_type": "display_data"
    }
   ],
   "source": [
    "illustrate_quantity_series(data['num2_16'], bins_number=40)"
   ]
  },
  {
   "cell_type": "markdown",
   "metadata": {},
   "source": [
    "Сейчас будет ошибка"
   ]
  },
  {
   "cell_type": "code",
   "execution_count": 14,
   "metadata": {},
   "outputs": [
    {
     "ename": "ValueError",
     "evalue": "Unable to parse string \"-\" at position 7",
     "output_type": "error",
     "traceback": [
      "\u001b[1;31m---------------------------------------------------------------------------\u001b[0m",
      "\u001b[1;31mValueError\u001b[0m                                Traceback (most recent call last)",
      "\u001b[1;32mc:\\users\\alekc\\appdata\\local\\programs\\python\\python38\\lib\\site-packages\\pandas\\_libs\\lib.pyx\u001b[0m in \u001b[0;36mpandas._libs.lib.maybe_convert_numeric\u001b[1;34m()\u001b[0m\n",
      "\u001b[1;31mValueError\u001b[0m: Unable to parse string \"-\"",
      "\nDuring handling of the above exception, another exception occurred:\n",
      "\u001b[1;31mValueError\u001b[0m                                Traceback (most recent call last)",
      "\u001b[1;32m~\\AppData\\Local\\Temp/ipykernel_13364/2451932613.py\u001b[0m in \u001b[0;36m<module>\u001b[1;34m\u001b[0m\n\u001b[1;32m----> 1\u001b[1;33m \u001b[0millustrate_quantity_series\u001b[0m\u001b[1;33m(\u001b[0m\u001b[0mdata\u001b[0m\u001b[1;33m[\u001b[0m\u001b[1;34m'num3_16'\u001b[0m\u001b[1;33m]\u001b[0m\u001b[1;33m,\u001b[0m \u001b[0mbins_number\u001b[0m\u001b[1;33m=\u001b[0m\u001b[1;36m40\u001b[0m\u001b[1;33m)\u001b[0m\u001b[1;33m\u001b[0m\u001b[1;33m\u001b[0m\u001b[0m\n\u001b[0m",
      "\u001b[1;32m~\\AppData\\Local\\Temp/ipykernel_13364/2826276699.py\u001b[0m in \u001b[0;36millustrate_quantity_series\u001b[1;34m(info, bins_number)\u001b[0m\n\u001b[0;32m      1\u001b[0m \u001b[1;32mdef\u001b[0m \u001b[0millustrate_quantity_series\u001b[0m\u001b[1;33m(\u001b[0m\u001b[0minfo\u001b[0m\u001b[1;33m:\u001b[0m \u001b[0mpandas\u001b[0m\u001b[1;33m.\u001b[0m\u001b[0mSeries\u001b[0m\u001b[1;33m,\u001b[0m \u001b[0mbins_number\u001b[0m\u001b[1;33m=\u001b[0m\u001b[1;36m40\u001b[0m\u001b[1;33m)\u001b[0m\u001b[1;33m:\u001b[0m\u001b[1;33m\u001b[0m\u001b[1;33m\u001b[0m\u001b[0m\n\u001b[0;32m      2\u001b[0m     \u001b[0mf\u001b[0m\u001b[1;33m,\u001b[0m \u001b[0maxes\u001b[0m \u001b[1;33m=\u001b[0m \u001b[0mplt\u001b[0m\u001b[1;33m.\u001b[0m\u001b[0msubplots\u001b[0m\u001b[1;33m(\u001b[0m\u001b[1;36m1\u001b[0m\u001b[1;33m,\u001b[0m \u001b[1;36m2\u001b[0m\u001b[1;33m,\u001b[0m \u001b[0mfigsize\u001b[0m\u001b[1;33m=\u001b[0m\u001b[1;33m(\u001b[0m\u001b[1;36m16\u001b[0m\u001b[1;33m,\u001b[0m \u001b[1;36m6\u001b[0m\u001b[1;33m)\u001b[0m\u001b[1;33m)\u001b[0m\u001b[1;33m\u001b[0m\u001b[1;33m\u001b[0m\u001b[0m\n\u001b[1;32m----> 3\u001b[1;33m     \u001b[0msns\u001b[0m\u001b[1;33m.\u001b[0m\u001b[0mhistplot\u001b[0m\u001b[1;33m(\u001b[0m\u001b[0mdata\u001b[0m\u001b[1;33m=\u001b[0m\u001b[0minfo\u001b[0m\u001b[1;33m,\u001b[0m \u001b[0mbins\u001b[0m\u001b[1;33m=\u001b[0m\u001b[0mbins_number\u001b[0m\u001b[1;33m,\u001b[0m \u001b[0mkde\u001b[0m\u001b[1;33m=\u001b[0m\u001b[1;32mTrue\u001b[0m\u001b[1;33m,\u001b[0m \u001b[0max\u001b[0m\u001b[1;33m=\u001b[0m\u001b[0maxes\u001b[0m\u001b[1;33m[\u001b[0m\u001b[1;36m0\u001b[0m\u001b[1;33m]\u001b[0m\u001b[1;33m,\u001b[0m \u001b[0mcolor\u001b[0m\u001b[1;33m=\u001b[0m\u001b[1;34m'salmon'\u001b[0m\u001b[1;33m)\u001b[0m\u001b[1;33m\u001b[0m\u001b[1;33m\u001b[0m\u001b[0m\n\u001b[0m\u001b[0;32m      4\u001b[0m \u001b[1;33m\u001b[0m\u001b[0m\n\u001b[0;32m      5\u001b[0m     \u001b[0msns_plot\u001b[0m \u001b[1;33m=\u001b[0m \u001b[0msns\u001b[0m\u001b[1;33m.\u001b[0m\u001b[0mboxplot\u001b[0m\u001b[1;33m(\u001b[0m\u001b[0minfo\u001b[0m\u001b[1;33m,\u001b[0m \u001b[0max\u001b[0m\u001b[1;33m=\u001b[0m\u001b[0maxes\u001b[0m\u001b[1;33m[\u001b[0m\u001b[1;36m1\u001b[0m\u001b[1;33m]\u001b[0m\u001b[1;33m,\u001b[0m \u001b[0mcolor\u001b[0m\u001b[1;33m=\u001b[0m\u001b[1;34m'orange'\u001b[0m\u001b[1;33m)\u001b[0m\u001b[1;33m\u001b[0m\u001b[1;33m\u001b[0m\u001b[0m\n",
      "\u001b[1;32mc:\\users\\alekc\\appdata\\local\\programs\\python\\python38\\lib\\site-packages\\seaborn\\distributions.py\u001b[0m in \u001b[0;36mhistplot\u001b[1;34m(data, x, y, hue, weights, stat, bins, binwidth, binrange, discrete, cumulative, common_bins, common_norm, multiple, element, fill, shrink, kde, kde_kws, line_kws, thresh, pthresh, pmax, cbar, cbar_ax, cbar_kws, palette, hue_order, hue_norm, color, log_scale, legend, ax, **kwargs)\u001b[0m\n\u001b[0;32m   1460\u001b[0m     \u001b[1;32mif\u001b[0m \u001b[0mp\u001b[0m\u001b[1;33m.\u001b[0m\u001b[0munivariate\u001b[0m\u001b[1;33m:\u001b[0m\u001b[1;33m\u001b[0m\u001b[1;33m\u001b[0m\u001b[0m\n\u001b[0;32m   1461\u001b[0m \u001b[1;33m\u001b[0m\u001b[0m\n\u001b[1;32m-> 1462\u001b[1;33m         p.plot_univariate_histogram(\n\u001b[0m\u001b[0;32m   1463\u001b[0m             \u001b[0mmultiple\u001b[0m\u001b[1;33m=\u001b[0m\u001b[0mmultiple\u001b[0m\u001b[1;33m,\u001b[0m\u001b[1;33m\u001b[0m\u001b[1;33m\u001b[0m\u001b[0m\n\u001b[0;32m   1464\u001b[0m             \u001b[0melement\u001b[0m\u001b[1;33m=\u001b[0m\u001b[0melement\u001b[0m\u001b[1;33m,\u001b[0m\u001b[1;33m\u001b[0m\u001b[1;33m\u001b[0m\u001b[0m\n",
      "\u001b[1;32mc:\\users\\alekc\\appdata\\local\\programs\\python\\python38\\lib\\site-packages\\seaborn\\distributions.py\u001b[0m in \u001b[0;36mplot_univariate_histogram\u001b[1;34m(self, multiple, element, fill, common_norm, common_bins, shrink, kde, kde_kws, color, legend, line_kws, estimate_kws, **plot_kws)\u001b[0m\n\u001b[0;32m    416\u001b[0m             \u001b[0mkde_kws\u001b[0m\u001b[1;33m[\u001b[0m\u001b[1;34m\"cumulative\"\u001b[0m\u001b[1;33m]\u001b[0m \u001b[1;33m=\u001b[0m \u001b[0mestimate_kws\u001b[0m\u001b[1;33m[\u001b[0m\u001b[1;34m\"cumulative\"\u001b[0m\u001b[1;33m]\u001b[0m\u001b[1;33m\u001b[0m\u001b[1;33m\u001b[0m\u001b[0m\n\u001b[0;32m    417\u001b[0m             \u001b[0mlog_scale\u001b[0m \u001b[1;33m=\u001b[0m \u001b[0mself\u001b[0m\u001b[1;33m.\u001b[0m\u001b[0m_log_scaled\u001b[0m\u001b[1;33m(\u001b[0m\u001b[0mself\u001b[0m\u001b[1;33m.\u001b[0m\u001b[0mdata_variable\u001b[0m\u001b[1;33m)\u001b[0m\u001b[1;33m\u001b[0m\u001b[1;33m\u001b[0m\u001b[0m\n\u001b[1;32m--> 418\u001b[1;33m             densities = self._compute_univariate_density(\n\u001b[0m\u001b[0;32m    419\u001b[0m                 \u001b[0mself\u001b[0m\u001b[1;33m.\u001b[0m\u001b[0mdata_variable\u001b[0m\u001b[1;33m,\u001b[0m\u001b[1;33m\u001b[0m\u001b[1;33m\u001b[0m\u001b[0m\n\u001b[0;32m    420\u001b[0m                 \u001b[0mcommon_norm\u001b[0m\u001b[1;33m,\u001b[0m\u001b[1;33m\u001b[0m\u001b[1;33m\u001b[0m\u001b[0m\n",
      "\u001b[1;32mc:\\users\\alekc\\appdata\\local\\programs\\python\\python38\\lib\\site-packages\\seaborn\\distributions.py\u001b[0m in \u001b[0;36m_compute_univariate_density\u001b[1;34m(self, data_variable, common_norm, common_grid, estimate_kws, log_scale, warn_singular)\u001b[0m\n\u001b[0;32m    301\u001b[0m         \u001b[0mdensities\u001b[0m \u001b[1;33m=\u001b[0m \u001b[1;33m{\u001b[0m\u001b[1;33m}\u001b[0m\u001b[1;33m\u001b[0m\u001b[1;33m\u001b[0m\u001b[0m\n\u001b[0;32m    302\u001b[0m \u001b[1;33m\u001b[0m\u001b[0m\n\u001b[1;32m--> 303\u001b[1;33m         \u001b[1;32mfor\u001b[0m \u001b[0msub_vars\u001b[0m\u001b[1;33m,\u001b[0m \u001b[0msub_data\u001b[0m \u001b[1;32min\u001b[0m \u001b[0mself\u001b[0m\u001b[1;33m.\u001b[0m\u001b[0miter_data\u001b[0m\u001b[1;33m(\u001b[0m\u001b[1;34m\"hue\"\u001b[0m\u001b[1;33m,\u001b[0m \u001b[0mfrom_comp_data\u001b[0m\u001b[1;33m=\u001b[0m\u001b[1;32mTrue\u001b[0m\u001b[1;33m)\u001b[0m\u001b[1;33m:\u001b[0m\u001b[1;33m\u001b[0m\u001b[1;33m\u001b[0m\u001b[0m\n\u001b[0m\u001b[0;32m    304\u001b[0m \u001b[1;33m\u001b[0m\u001b[0m\n\u001b[0;32m    305\u001b[0m             \u001b[1;31m# Extract the data points from this sub set and remove nulls\u001b[0m\u001b[1;33m\u001b[0m\u001b[1;33m\u001b[0m\u001b[1;33m\u001b[0m\u001b[0m\n",
      "\u001b[1;32mc:\\users\\alekc\\appdata\\local\\programs\\python\\python38\\lib\\site-packages\\seaborn\\_core.py\u001b[0m in \u001b[0;36miter_data\u001b[1;34m(self, grouping_vars, reverse, from_comp_data)\u001b[0m\n\u001b[0;32m    981\u001b[0m \u001b[1;33m\u001b[0m\u001b[0m\n\u001b[0;32m    982\u001b[0m         \u001b[1;32mif\u001b[0m \u001b[0mfrom_comp_data\u001b[0m\u001b[1;33m:\u001b[0m\u001b[1;33m\u001b[0m\u001b[1;33m\u001b[0m\u001b[0m\n\u001b[1;32m--> 983\u001b[1;33m             \u001b[0mdata\u001b[0m \u001b[1;33m=\u001b[0m \u001b[0mself\u001b[0m\u001b[1;33m.\u001b[0m\u001b[0mcomp_data\u001b[0m\u001b[1;33m\u001b[0m\u001b[1;33m\u001b[0m\u001b[0m\n\u001b[0m\u001b[0;32m    984\u001b[0m         \u001b[1;32melse\u001b[0m\u001b[1;33m:\u001b[0m\u001b[1;33m\u001b[0m\u001b[1;33m\u001b[0m\u001b[0m\n\u001b[0;32m    985\u001b[0m             \u001b[0mdata\u001b[0m \u001b[1;33m=\u001b[0m \u001b[0mself\u001b[0m\u001b[1;33m.\u001b[0m\u001b[0mplot_data\u001b[0m\u001b[1;33m\u001b[0m\u001b[1;33m\u001b[0m\u001b[0m\n",
      "\u001b[1;32mc:\\users\\alekc\\appdata\\local\\programs\\python\\python38\\lib\\site-packages\\seaborn\\_core.py\u001b[0m in \u001b[0;36mcomp_data\u001b[1;34m(self)\u001b[0m\n\u001b[0;32m   1055\u001b[0m                     \u001b[0morig\u001b[0m \u001b[1;33m=\u001b[0m \u001b[0mself\u001b[0m\u001b[1;33m.\u001b[0m\u001b[0mplot_data\u001b[0m\u001b[1;33m[\u001b[0m\u001b[0mvar\u001b[0m\u001b[1;33m]\u001b[0m\u001b[1;33m.\u001b[0m\u001b[0mdropna\u001b[0m\u001b[1;33m(\u001b[0m\u001b[1;33m)\u001b[0m\u001b[1;33m\u001b[0m\u001b[1;33m\u001b[0m\u001b[0m\n\u001b[0;32m   1056\u001b[0m                 \u001b[0mcomp_col\u001b[0m \u001b[1;33m=\u001b[0m \u001b[0mpd\u001b[0m\u001b[1;33m.\u001b[0m\u001b[0mSeries\u001b[0m\u001b[1;33m(\u001b[0m\u001b[0mindex\u001b[0m\u001b[1;33m=\u001b[0m\u001b[0morig\u001b[0m\u001b[1;33m.\u001b[0m\u001b[0mindex\u001b[0m\u001b[1;33m,\u001b[0m \u001b[0mdtype\u001b[0m\u001b[1;33m=\u001b[0m\u001b[0mfloat\u001b[0m\u001b[1;33m,\u001b[0m \u001b[0mname\u001b[0m\u001b[1;33m=\u001b[0m\u001b[0mvar\u001b[0m\u001b[1;33m)\u001b[0m\u001b[1;33m\u001b[0m\u001b[1;33m\u001b[0m\u001b[0m\n\u001b[1;32m-> 1057\u001b[1;33m                 \u001b[0mcomp_col\u001b[0m\u001b[1;33m.\u001b[0m\u001b[0mloc\u001b[0m\u001b[1;33m[\u001b[0m\u001b[0morig\u001b[0m\u001b[1;33m.\u001b[0m\u001b[0mindex\u001b[0m\u001b[1;33m]\u001b[0m \u001b[1;33m=\u001b[0m \u001b[0mpd\u001b[0m\u001b[1;33m.\u001b[0m\u001b[0mto_numeric\u001b[0m\u001b[1;33m(\u001b[0m\u001b[0maxis\u001b[0m\u001b[1;33m.\u001b[0m\u001b[0mconvert_units\u001b[0m\u001b[1;33m(\u001b[0m\u001b[0morig\u001b[0m\u001b[1;33m)\u001b[0m\u001b[1;33m)\u001b[0m\u001b[1;33m\u001b[0m\u001b[1;33m\u001b[0m\u001b[0m\n\u001b[0m\u001b[0;32m   1058\u001b[0m \u001b[1;33m\u001b[0m\u001b[0m\n\u001b[0;32m   1059\u001b[0m                 \u001b[1;32mif\u001b[0m \u001b[0maxis\u001b[0m\u001b[1;33m.\u001b[0m\u001b[0mget_scale\u001b[0m\u001b[1;33m(\u001b[0m\u001b[1;33m)\u001b[0m \u001b[1;33m==\u001b[0m \u001b[1;34m\"log\"\u001b[0m\u001b[1;33m:\u001b[0m\u001b[1;33m\u001b[0m\u001b[1;33m\u001b[0m\u001b[0m\n",
      "\u001b[1;32mc:\\users\\alekc\\appdata\\local\\programs\\python\\python38\\lib\\site-packages\\pandas\\core\\tools\\numeric.py\u001b[0m in \u001b[0;36mto_numeric\u001b[1;34m(arg, errors, downcast)\u001b[0m\n\u001b[0;32m    181\u001b[0m         \u001b[0mcoerce_numeric\u001b[0m \u001b[1;33m=\u001b[0m \u001b[0merrors\u001b[0m \u001b[1;32mnot\u001b[0m \u001b[1;32min\u001b[0m \u001b[1;33m(\u001b[0m\u001b[1;34m\"ignore\"\u001b[0m\u001b[1;33m,\u001b[0m \u001b[1;34m\"raise\"\u001b[0m\u001b[1;33m)\u001b[0m\u001b[1;33m\u001b[0m\u001b[1;33m\u001b[0m\u001b[0m\n\u001b[0;32m    182\u001b[0m         \u001b[1;32mtry\u001b[0m\u001b[1;33m:\u001b[0m\u001b[1;33m\u001b[0m\u001b[1;33m\u001b[0m\u001b[0m\n\u001b[1;32m--> 183\u001b[1;33m             values, _ = lib.maybe_convert_numeric(\n\u001b[0m\u001b[0;32m    184\u001b[0m                 \u001b[0mvalues\u001b[0m\u001b[1;33m,\u001b[0m \u001b[0mset\u001b[0m\u001b[1;33m(\u001b[0m\u001b[1;33m)\u001b[0m\u001b[1;33m,\u001b[0m \u001b[0mcoerce_numeric\u001b[0m\u001b[1;33m=\u001b[0m\u001b[0mcoerce_numeric\u001b[0m\u001b[1;33m\u001b[0m\u001b[1;33m\u001b[0m\u001b[0m\n\u001b[0;32m    185\u001b[0m             )\n",
      "\u001b[1;32mc:\\users\\alekc\\appdata\\local\\programs\\python\\python38\\lib\\site-packages\\pandas\\_libs\\lib.pyx\u001b[0m in \u001b[0;36mpandas._libs.lib.maybe_convert_numeric\u001b[1;34m()\u001b[0m\n",
      "\u001b[1;31mValueError\u001b[0m: Unable to parse string \"-\" at position 7"
     ]
    },
    {
     "data": {
      "image/png": "[encoded data removed]",
      "text/plain": [
       "<Figure size 1152x432 with 2 Axes>"
      ]
     },
     "metadata": {
      "needs_background": "light"
     },
     "output_type": "display_data"
    }
   ],
   "source": [
    "illustrate_quantity_series(data['num3_16'], bins_number=40)"
   ]
  },
  {
   "cell_type": "markdown",
   "metadata": {},
   "source": [
    "## Визуализация качественных признаков"
   ]
  },
  {
   "cell_type": "code",
   "execution_count": 15,
   "metadata": {},
   "outputs": [],
   "source": [
    "def illustrate_qualitative_series(info: pandas.Series):\n",
    "    values_frequency = info.value_counts(sort=False)\n",
    "\n",
    "    numbers = values_frequency.to_list()\n",
    "    names = values_frequency.index.to_list()\n",
    "\n",
    "    f, axes = plt.subplots(1, 2, figsize=(16, 6))\n",
    "\n",
    "    axes[0].pie(numbers, labels=names, autopct='%1.1f%%')\n",
    "\n",
    "    axes[1].bar(names, numbers, facecolor='salmon')\n",
    "\n",
    "    plt.show()"
   ]
  },
  {
   "cell_type": "code",
   "execution_count": 16,
   "metadata": {},
   "outputs": [
    {
     "data": {
      "image/png": "[encoded data removed]",
      "text/plain": [
       "<Figure size 1152x432 with 2 Axes>"
      ]
     },
     "metadata": {
      "needs_background": "light"
     },
     "output_type": "display_data"
    }
   ],
   "source": [
    "illustrate_qualitative_series(data['cat8_motivesForTravelling'])"
   ]
  },
  {
   "cell_type": "code",
   "execution_count": 17,
   "metadata": {},
   "outputs": [
    {
     "data": {
      "image/png": "[encoded data removed]",
      "text/plain": [
       "<Figure size 1152x432 with 2 Axes>"
      ]
     },
     "metadata": {
      "needs_background": "light"
     },
     "output_type": "display_data"
    }
   ],
   "source": [
    "illustrate_qualitative_series(data['cat6_brandOfSoaps'])"
   ]
  },
  {
   "cell_type": "markdown",
   "metadata": {},
   "source": [
    "## Проверка правдоподобности качественных признаков\n",
    "Происходит проверка типов данных содержимого столбцов. Для количественных признаков типы данных \"не строка\" ненормальны."
   ]
  },
  {
   "cell_type": "code",
   "execution_count": 29,
   "metadata": {},
   "outputs": [
    {
     "data": {
      "text/plain": [
       "{float, str}"
      ]
     },
     "execution_count": 29,
     "metadata": {},
     "output_type": "execute_result"
    }
   ],
   "source": [
    "set(data['cat8_motivesForTravelling'].apply(type))"
   ]
  },
  {
   "cell_type": "code",
   "execution_count": 30,
   "metadata": {},
   "outputs": [
    {
     "data": {
      "text/plain": [
       "{float, str}"
      ]
     },
     "execution_count": 30,
     "metadata": {},
     "output_type": "execute_result"
    }
   ],
   "source": [
    "set(data['cat6_brandOfSoaps'].apply(type))"
   ]
  },
  {
   "cell_type": "markdown",
   "metadata": {},
   "source": [
    "Посмотрим, что именно является типа float"
   ]
  },
  {
   "cell_type": "code",
   "execution_count": 31,
   "metadata": {},
   "outputs": [
    {
     "data": {
      "text/html": [
       "<div>\n",
       "<style scoped>\n",
       "    .dataframe tbody tr th:only-of-type {\n",
       "        vertical-align: middle;\n",
       "    }\n",
       "\n",
       "    .dataframe tbody tr th {\n",
       "        vertical-align: top;\n",
       "    }\n",
       "\n",
       "    .dataframe thead th {\n",
       "        text-align: right;\n",
       "    }\n",
       "</style>\n",
       "<table border=\"1\" class=\"dataframe\">\n",
       "  <thead>\n",
       "    <tr style=\"text-align: right;\">\n",
       "      <th></th>\n",
       "      <th>cat8_motivesForTravelling</th>\n",
       "      <th>cat6_brandOfSoaps</th>\n",
       "      <th>num1_16</th>\n",
       "      <th>num2_16</th>\n",
       "      <th>num3_16</th>\n",
       "    </tr>\n",
       "  </thead>\n",
       "  <tbody>\n",
       "    <tr>\n",
       "      <th>81</th>\n",
       "      <td>NaN</td>\n",
       "      <td>Lux</td>\n",
       "      <td>585.301618</td>\n",
       "      <td>405.403835</td>\n",
       "      <td>116.31763</td>\n",
       "    </tr>\n",
       "    <tr>\n",
       "      <th>167</th>\n",
       "      <td>NaN</td>\n",
       "      <td>Dove</td>\n",
       "      <td>970.481588</td>\n",
       "      <td>NaN</td>\n",
       "      <td>98.781643</td>\n",
       "    </tr>\n",
       "    <tr>\n",
       "      <th>266</th>\n",
       "      <td>NaN</td>\n",
       "      <td>lux</td>\n",
       "      <td>991.491399</td>\n",
       "      <td>117.047388</td>\n",
       "      <td>123.439059</td>\n",
       "    </tr>\n",
       "    <tr>\n",
       "      <th>281</th>\n",
       "      <td>NaN</td>\n",
       "      <td>Olay</td>\n",
       "      <td>874.856641</td>\n",
       "      <td>135.033585</td>\n",
       "      <td>108.37574</td>\n",
       "    </tr>\n",
       "    <tr>\n",
       "      <th>285</th>\n",
       "      <td>NaN</td>\n",
       "      <td>Olay</td>\n",
       "      <td>773.759593</td>\n",
       "      <td>241.117750</td>\n",
       "      <td>104.16894</td>\n",
       "    </tr>\n",
       "    <tr>\n",
       "      <th>325</th>\n",
       "      <td>NaN</td>\n",
       "      <td>Dove</td>\n",
       "      <td>734.947639</td>\n",
       "      <td>486.293544</td>\n",
       "      <td>146.334279</td>\n",
       "    </tr>\n",
       "    <tr>\n",
       "      <th>395</th>\n",
       "      <td>NaN</td>\n",
       "      <td>olay</td>\n",
       "      <td>568.263886</td>\n",
       "      <td>-444.495952</td>\n",
       "      <td>119.936667</td>\n",
       "    </tr>\n",
       "    <tr>\n",
       "      <th>450</th>\n",
       "      <td>NaN</td>\n",
       "      <td>lux</td>\n",
       "      <td>1039.176332</td>\n",
       "      <td>53.374521</td>\n",
       "      <td>112.307951</td>\n",
       "    </tr>\n",
       "    <tr>\n",
       "      <th>548</th>\n",
       "      <td>NaN</td>\n",
       "      <td>Dove</td>\n",
       "      <td>748.488634</td>\n",
       "      <td>78.657205</td>\n",
       "      <td>125.045162</td>\n",
       "    </tr>\n",
       "    <tr>\n",
       "      <th>566</th>\n",
       "      <td>NaN</td>\n",
       "      <td>Dove</td>\n",
       "      <td>837.262125</td>\n",
       "      <td>237.519419</td>\n",
       "      <td>125.616384</td>\n",
       "    </tr>\n",
       "    <tr>\n",
       "      <th>589</th>\n",
       "      <td>NaN</td>\n",
       "      <td>lux</td>\n",
       "      <td>599.925532</td>\n",
       "      <td>429.097823</td>\n",
       "      <td>135.887629</td>\n",
       "    </tr>\n",
       "    <tr>\n",
       "      <th>590</th>\n",
       "      <td>NaN</td>\n",
       "      <td></td>\n",
       "      <td>960.136322</td>\n",
       "      <td>250.554807</td>\n",
       "      <td>150.518252</td>\n",
       "    </tr>\n",
       "    <tr>\n",
       "      <th>621</th>\n",
       "      <td>NaN</td>\n",
       "      <td>Lux</td>\n",
       "      <td>850.943789</td>\n",
       "      <td>294.823687</td>\n",
       "      <td>119.933249</td>\n",
       "    </tr>\n",
       "    <tr>\n",
       "      <th>642</th>\n",
       "      <td>NaN</td>\n",
       "      <td>Dove</td>\n",
       "      <td>688.465532</td>\n",
       "      <td>270.360983</td>\n",
       "      <td>117.548662</td>\n",
       "    </tr>\n",
       "    <tr>\n",
       "      <th>697</th>\n",
       "      <td>NaN</td>\n",
       "      <td>Dove</td>\n",
       "      <td>839.852697</td>\n",
       "      <td>600.721895</td>\n",
       "      <td>125.862153</td>\n",
       "    </tr>\n",
       "    <tr>\n",
       "      <th>717</th>\n",
       "      <td>NaN</td>\n",
       "      <td>Olay</td>\n",
       "      <td>873.066555</td>\n",
       "      <td>65.375517</td>\n",
       "      <td>104.12193</td>\n",
       "    </tr>\n",
       "    <tr>\n",
       "      <th>816</th>\n",
       "      <td>NaN</td>\n",
       "      <td>Lux</td>\n",
       "      <td>618.710673</td>\n",
       "      <td>681.346042</td>\n",
       "      <td>132.37929</td>\n",
       "    </tr>\n",
       "    <tr>\n",
       "      <th>842</th>\n",
       "      <td>NaN</td>\n",
       "      <td>olay</td>\n",
       "      <td>1004.823589</td>\n",
       "      <td>342.244735</td>\n",
       "      <td>-</td>\n",
       "    </tr>\n",
       "    <tr>\n",
       "      <th>877</th>\n",
       "      <td>NaN</td>\n",
       "      <td>lux</td>\n",
       "      <td>771.744008</td>\n",
       "      <td>364.146114</td>\n",
       "      <td>104.870658</td>\n",
       "    </tr>\n",
       "    <tr>\n",
       "      <th>891</th>\n",
       "      <td>NaN</td>\n",
       "      <td>Olay</td>\n",
       "      <td>778.194226</td>\n",
       "      <td>571.921464</td>\n",
       "      <td>94.402518</td>\n",
       "    </tr>\n",
       "  </tbody>\n",
       "</table>\n",
       "</div>"
      ],
      "text/plain": [
       "    cat8_motivesForTravelling cat6_brandOfSoaps      num1_16     num2_16  \\\n",
       "81                        NaN               Lux   585.301618  405.403835   \n",
       "167                       NaN              Dove   970.481588         NaN   \n",
       "266                       NaN               lux   991.491399  117.047388   \n",
       "281                       NaN              Olay   874.856641  135.033585   \n",
       "285                       NaN              Olay   773.759593  241.117750   \n",
       "325                       NaN              Dove   734.947639  486.293544   \n",
       "395                       NaN              olay   568.263886 -444.495952   \n",
       "450                       NaN               lux  1039.176332   53.374521   \n",
       "548                       NaN              Dove   748.488634   78.657205   \n",
       "566                       NaN              Dove   837.262125  237.519419   \n",
       "589                       NaN               lux   599.925532  429.097823   \n",
       "590                       NaN                     960.136322  250.554807   \n",
       "621                       NaN               Lux   850.943789  294.823687   \n",
       "642                       NaN              Dove   688.465532  270.360983   \n",
       "697                       NaN              Dove   839.852697  600.721895   \n",
       "717                       NaN              Olay   873.066555   65.375517   \n",
       "816                       NaN               Lux   618.710673  681.346042   \n",
       "842                       NaN              olay  1004.823589  342.244735   \n",
       "877                       NaN               lux   771.744008  364.146114   \n",
       "891                       NaN              Olay   778.194226  571.921464   \n",
       "\n",
       "        num3_16  \n",
       "81    116.31763  \n",
       "167   98.781643  \n",
       "266  123.439059  \n",
       "281   108.37574  \n",
       "285   104.16894  \n",
       "325  146.334279  \n",
       "395  119.936667  \n",
       "450  112.307951  \n",
       "548  125.045162  \n",
       "566  125.616384  \n",
       "589  135.887629  \n",
       "590  150.518252  \n",
       "621  119.933249  \n",
       "642  117.548662  \n",
       "697  125.862153  \n",
       "717   104.12193  \n",
       "816   132.37929  \n",
       "842           -  \n",
       "877  104.870658  \n",
       "891   94.402518  "
      ]
     },
     "execution_count": 31,
     "metadata": {},
     "output_type": "execute_result"
    }
   ],
   "source": [
    "data.loc[map(lambda x: type(x) == float, data['cat8_motivesForTravelling'])]"
   ]
  },
  {
   "cell_type": "code",
   "execution_count": 32,
   "metadata": {},
   "outputs": [
    {
     "data": {
      "text/html": [
       "<div>\n",
       "<style scoped>\n",
       "    .dataframe tbody tr th:only-of-type {\n",
       "        vertical-align: middle;\n",
       "    }\n",
       "\n",
       "    .dataframe tbody tr th {\n",
       "        vertical-align: top;\n",
       "    }\n",
       "\n",
       "    .dataframe thead th {\n",
       "        text-align: right;\n",
       "    }\n",
       "</style>\n",
       "<table border=\"1\" class=\"dataframe\">\n",
       "  <thead>\n",
       "    <tr style=\"text-align: right;\">\n",
       "      <th></th>\n",
       "      <th>cat8_motivesForTravelling</th>\n",
       "      <th>cat6_brandOfSoaps</th>\n",
       "      <th>num1_16</th>\n",
       "      <th>num2_16</th>\n",
       "      <th>num3_16</th>\n",
       "    </tr>\n",
       "  </thead>\n",
       "  <tbody>\n",
       "    <tr>\n",
       "      <th>1</th>\n",
       "      <td>Study</td>\n",
       "      <td>NaN</td>\n",
       "      <td>720.562227</td>\n",
       "      <td>211.321139</td>\n",
       "      <td>98.26433</td>\n",
       "    </tr>\n",
       "    <tr>\n",
       "      <th>27</th>\n",
       "      <td>Family</td>\n",
       "      <td>NaN</td>\n",
       "      <td>721.378310</td>\n",
       "      <td>786.799176</td>\n",
       "      <td>61.739618</td>\n",
       "    </tr>\n",
       "    <tr>\n",
       "      <th>31</th>\n",
       "      <td>Business</td>\n",
       "      <td>NaN</td>\n",
       "      <td>671.141562</td>\n",
       "      <td>373.214024</td>\n",
       "      <td>130.665734</td>\n",
       "    </tr>\n",
       "    <tr>\n",
       "      <th>71</th>\n",
       "      <td>Family</td>\n",
       "      <td>NaN</td>\n",
       "      <td>943.024995</td>\n",
       "      <td>-79.796380</td>\n",
       "      <td>122.443513</td>\n",
       "    </tr>\n",
       "    <tr>\n",
       "      <th>80</th>\n",
       "      <td>Business</td>\n",
       "      <td>NaN</td>\n",
       "      <td>869.904838</td>\n",
       "      <td>109.165876</td>\n",
       "      <td>96.842188</td>\n",
       "    </tr>\n",
       "    <tr>\n",
       "      <th>146</th>\n",
       "      <td>Leisure</td>\n",
       "      <td>NaN</td>\n",
       "      <td>673.747121</td>\n",
       "      <td>490.985356</td>\n",
       "      <td>117.527444</td>\n",
       "    </tr>\n",
       "    <tr>\n",
       "      <th>166</th>\n",
       "      <td>Health</td>\n",
       "      <td>NaN</td>\n",
       "      <td>-9999.000000</td>\n",
       "      <td>362.774194</td>\n",
       "      <td>118.08955</td>\n",
       "    </tr>\n",
       "    <tr>\n",
       "      <th>170</th>\n",
       "      <td>Business</td>\n",
       "      <td>NaN</td>\n",
       "      <td>916.208900</td>\n",
       "      <td>8.146763</td>\n",
       "      <td>-</td>\n",
       "    </tr>\n",
       "    <tr>\n",
       "      <th>219</th>\n",
       "      <td>Health</td>\n",
       "      <td>NaN</td>\n",
       "      <td>882.306118</td>\n",
       "      <td>336.905153</td>\n",
       "      <td>101.632879</td>\n",
       "    </tr>\n",
       "    <tr>\n",
       "      <th>240</th>\n",
       "      <td>Health</td>\n",
       "      <td>NaN</td>\n",
       "      <td>1034.123081</td>\n",
       "      <td>286.065209</td>\n",
       "      <td>112.670652</td>\n",
       "    </tr>\n",
       "    <tr>\n",
       "      <th>585</th>\n",
       "      <td>Study</td>\n",
       "      <td>NaN</td>\n",
       "      <td>766.662254</td>\n",
       "      <td>-159.532087</td>\n",
       "      <td>93.034768</td>\n",
       "    </tr>\n",
       "    <tr>\n",
       "      <th>632</th>\n",
       "      <td>Health</td>\n",
       "      <td>NaN</td>\n",
       "      <td>938.186282</td>\n",
       "      <td>215.067606</td>\n",
       "      <td>138.040583</td>\n",
       "    </tr>\n",
       "    <tr>\n",
       "      <th>685</th>\n",
       "      <td>Health</td>\n",
       "      <td>NaN</td>\n",
       "      <td>794.051393</td>\n",
       "      <td>320.468271</td>\n",
       "      <td>103.682607</td>\n",
       "    </tr>\n",
       "    <tr>\n",
       "      <th>840</th>\n",
       "      <td>Health</td>\n",
       "      <td>NaN</td>\n",
       "      <td>1160.941891</td>\n",
       "      <td>470.219057</td>\n",
       "      <td>130.251619</td>\n",
       "    </tr>\n",
       "    <tr>\n",
       "      <th>888</th>\n",
       "      <td>Family</td>\n",
       "      <td>NaN</td>\n",
       "      <td>702.843482</td>\n",
       "      <td>295.139415</td>\n",
       "      <td>100.747743</td>\n",
       "    </tr>\n",
       "    <tr>\n",
       "      <th>940</th>\n",
       "      <td>Study</td>\n",
       "      <td>NaN</td>\n",
       "      <td>843.228619</td>\n",
       "      <td>231.715389</td>\n",
       "      <td>119.945863</td>\n",
       "    </tr>\n",
       "    <tr>\n",
       "      <th>948</th>\n",
       "      <td>Business</td>\n",
       "      <td>NaN</td>\n",
       "      <td>1077.949219</td>\n",
       "      <td>356.163225</td>\n",
       "      <td>137.338657</td>\n",
       "    </tr>\n",
       "    <tr>\n",
       "      <th>963</th>\n",
       "      <td></td>\n",
       "      <td>NaN</td>\n",
       "      <td>851.225543</td>\n",
       "      <td>NaN</td>\n",
       "      <td>137.028985</td>\n",
       "    </tr>\n",
       "    <tr>\n",
       "      <th>976</th>\n",
       "      <td>Health</td>\n",
       "      <td>NaN</td>\n",
       "      <td>804.118253</td>\n",
       "      <td>404.708207</td>\n",
       "      <td>142.428215</td>\n",
       "    </tr>\n",
       "    <tr>\n",
       "      <th>979</th>\n",
       "      <td>Business</td>\n",
       "      <td>NaN</td>\n",
       "      <td>849.561029</td>\n",
       "      <td>NaN</td>\n",
       "      <td>130.544619</td>\n",
       "    </tr>\n",
       "  </tbody>\n",
       "</table>\n",
       "</div>"
      ],
      "text/plain": [
       "    cat8_motivesForTravelling cat6_brandOfSoaps      num1_16     num2_16  \\\n",
       "1                       Study               NaN   720.562227  211.321139   \n",
       "27                     Family               NaN   721.378310  786.799176   \n",
       "31                   Business               NaN   671.141562  373.214024   \n",
       "71                     Family               NaN   943.024995  -79.796380   \n",
       "80                   Business               NaN   869.904838  109.165876   \n",
       "146                   Leisure               NaN   673.747121  490.985356   \n",
       "166                    Health               NaN -9999.000000  362.774194   \n",
       "170                  Business               NaN   916.208900    8.146763   \n",
       "219                    Health               NaN   882.306118  336.905153   \n",
       "240                    Health               NaN  1034.123081  286.065209   \n",
       "585                     Study               NaN   766.662254 -159.532087   \n",
       "632                    Health               NaN   938.186282  215.067606   \n",
       "685                    Health               NaN   794.051393  320.468271   \n",
       "840                    Health               NaN  1160.941891  470.219057   \n",
       "888                    Family               NaN   702.843482  295.139415   \n",
       "940                     Study               NaN   843.228619  231.715389   \n",
       "948                  Business               NaN  1077.949219  356.163225   \n",
       "963                                         NaN   851.225543         NaN   \n",
       "976                    Health               NaN   804.118253  404.708207   \n",
       "979                  Business               NaN   849.561029         NaN   \n",
       "\n",
       "        num3_16  \n",
       "1      98.26433  \n",
       "27    61.739618  \n",
       "31   130.665734  \n",
       "71   122.443513  \n",
       "80    96.842188  \n",
       "146  117.527444  \n",
       "166   118.08955  \n",
       "170           -  \n",
       "219  101.632879  \n",
       "240  112.670652  \n",
       "585   93.034768  \n",
       "632  138.040583  \n",
       "685  103.682607  \n",
       "840  130.251619  \n",
       "888  100.747743  \n",
       "940  119.945863  \n",
       "948  137.338657  \n",
       "963  137.028985  \n",
       "976  142.428215  \n",
       "979  130.544619  "
      ]
     },
     "execution_count": 32,
     "metadata": {},
     "output_type": "execute_result"
    }
   ],
   "source": [
    "data.loc[map(lambda x: type(x) == float, data['cat6_brandOfSoaps'])]"
   ]
  },
  {
   "cell_type": "markdown",
   "metadata": {},
   "source": [
    "Чтобы убрать предупреждения"
   ]
  },
  {
   "cell_type": "code",
   "execution_count": 33,
   "metadata": {},
   "outputs": [],
   "source": [
    "data._is_copy = False"
   ]
  },
  {
   "cell_type": "markdown",
   "metadata": {},
   "source": [
    "Анализируются все строки и убираются \"ненормальные\""
   ]
  },
  {
   "cell_type": "markdown",
   "metadata": {},
   "source": [
    "Первый качественный столбец"
   ]
  },
  {
   "cell_type": "code",
   "execution_count": 34,
   "metadata": {},
   "outputs": [
    {
     "data": {
      "text/plain": [
       "{' ', '-', 'Business', 'Family', 'Health', 'Leisure', 'Study', nan}"
      ]
     },
     "execution_count": 34,
     "metadata": {},
     "output_type": "execute_result"
    }
   ],
   "source": [
    "set(data['cat8_motivesForTravelling'])"
   ]
  },
  {
   "cell_type": "code",
   "execution_count": 35,
   "metadata": {},
   "outputs": [],
   "source": [
    "data['cat8_motivesForTravelling'] = data['cat8_motivesForTravelling'].replace([' ', '-'], np.nan)"
   ]
  },
  {
   "cell_type": "code",
   "execution_count": 36,
   "metadata": {},
   "outputs": [
    {
     "data": {
      "text/plain": [
       "{'Business', 'Family', 'Health', 'Leisure', 'Study', nan}"
      ]
     },
     "execution_count": 36,
     "metadata": {},
     "output_type": "execute_result"
    }
   ],
   "source": [
    "set(data['cat8_motivesForTravelling'])"
   ]
  },
  {
   "cell_type": "code",
   "execution_count": 37,
   "metadata": {},
   "outputs": [
    {
     "data": {
      "image/png": "[encoded data removed]",
      "text/plain": [
       "<Figure size 1152x432 with 2 Axes>"
      ]
     },
     "metadata": {
      "needs_background": "light"
     },
     "output_type": "display_data"
    }
   ],
   "source": [
    "illustrate_qualitative_series(data['cat8_motivesForTravelling'])"
   ]
  },
  {
   "cell_type": "markdown",
   "metadata": {},
   "source": [
    "Второй качественный столбец"
   ]
  },
  {
   "cell_type": "code",
   "execution_count": 38,
   "metadata": {},
   "outputs": [
    {
     "data": {
      "text/plain": [
       "{' ', '-', 'Dove', 'Lux', 'Olay', 'lux', nan, 'olay'}"
      ]
     },
     "execution_count": 38,
     "metadata": {},
     "output_type": "execute_result"
    }
   ],
   "source": [
    "set(data['cat6_brandOfSoaps'])"
   ]
  },
  {
   "cell_type": "code",
   "execution_count": 39,
   "metadata": {},
   "outputs": [],
   "source": [
    "data['cat6_brandOfSoaps'] = data['cat6_brandOfSoaps'].replace([' ', '-'], np.nan)\n",
    "data['cat6_brandOfSoaps'] = data['cat6_brandOfSoaps'].replace('lux', 'Lux')\n",
    "data['cat6_brandOfSoaps'] = data['cat6_brandOfSoaps'].replace('olay', 'Olay')"
   ]
  },
  {
   "cell_type": "code",
   "execution_count": 40,
   "metadata": {},
   "outputs": [
    {
     "data": {
      "text/plain": [
       "{'Dove', 'Lux', 'Olay', nan}"
      ]
     },
     "execution_count": 40,
     "metadata": {},
     "output_type": "execute_result"
    }
   ],
   "source": [
    "set(data['cat6_brandOfSoaps'])"
   ]
  },
  {
   "cell_type": "code",
   "execution_count": 41,
   "metadata": {},
   "outputs": [
    {
     "data": {
      "image/png": "[encoded data removed]",
      "text/plain": [
       "<Figure size 1152x432 with 2 Axes>"
      ]
     },
     "metadata": {
      "needs_background": "light"
     },
     "output_type": "display_data"
    }
   ],
   "source": [
    "illustrate_qualitative_series(data['cat6_brandOfSoaps'])"
   ]
  },
  {
   "cell_type": "markdown",
   "metadata": {},
   "source": [
    "## Проверка правдоподобности количественных признаков\n",
    "Происходит оценка типов (правильные только float). Неадекватные значения (выбросы) исключаются в другом пункте."
   ]
  },
  {
   "cell_type": "code",
   "execution_count": 44,
   "metadata": {},
   "outputs": [
    {
     "data": {
      "text/plain": [
       "{float}"
      ]
     },
     "execution_count": 44,
     "metadata": {},
     "output_type": "execute_result"
    }
   ],
   "source": [
    "set(data['num1_16'].apply(type))"
   ]
  },
  {
   "cell_type": "code",
   "execution_count": 43,
   "metadata": {},
   "outputs": [
    {
     "data": {
      "text/plain": [
       "{float}"
      ]
     },
     "execution_count": 43,
     "metadata": {},
     "output_type": "execute_result"
    }
   ],
   "source": [
    "set(data['num2_16'].apply(type))"
   ]
  },
  {
   "cell_type": "code",
   "execution_count": 45,
   "metadata": {},
   "outputs": [
    {
     "data": {
      "text/plain": [
       "{float, str}"
      ]
     },
     "execution_count": 45,
     "metadata": {},
     "output_type": "execute_result"
    }
   ],
   "source": [
    "set(data['num3_16'].apply(type))"
   ]
  },
  {
   "cell_type": "markdown",
   "metadata": {},
   "source": [
    "Третий столбец мне не нравится"
   ]
  },
  {
   "cell_type": "code",
   "execution_count": 46,
   "metadata": {},
   "outputs": [
    {
     "data": {
      "text/html": [
       "<div>\n",
       "<style scoped>\n",
       "    .dataframe tbody tr th:only-of-type {\n",
       "        vertical-align: middle;\n",
       "    }\n",
       "\n",
       "    .dataframe tbody tr th {\n",
       "        vertical-align: top;\n",
       "    }\n",
       "\n",
       "    .dataframe thead th {\n",
       "        text-align: right;\n",
       "    }\n",
       "</style>\n",
       "<table border=\"1\" class=\"dataframe\">\n",
       "  <thead>\n",
       "    <tr style=\"text-align: right;\">\n",
       "      <th></th>\n",
       "      <th>cat8_motivesForTravelling</th>\n",
       "      <th>cat6_brandOfSoaps</th>\n",
       "      <th>num1_16</th>\n",
       "      <th>num2_16</th>\n",
       "      <th>num3_16</th>\n",
       "    </tr>\n",
       "  </thead>\n",
       "  <tbody>\n",
       "    <tr>\n",
       "      <th>8</th>\n",
       "      <td>Study</td>\n",
       "      <td>Dove</td>\n",
       "      <td>603.419710</td>\n",
       "      <td>258.788063</td>\n",
       "      <td>-</td>\n",
       "    </tr>\n",
       "    <tr>\n",
       "      <th>10</th>\n",
       "      <td>Health</td>\n",
       "      <td>Olay</td>\n",
       "      <td>822.783177</td>\n",
       "      <td>223.324197</td>\n",
       "      <td>-</td>\n",
       "    </tr>\n",
       "    <tr>\n",
       "      <th>21</th>\n",
       "      <td>Health</td>\n",
       "      <td>Olay</td>\n",
       "      <td>611.189094</td>\n",
       "      <td>195.884782</td>\n",
       "      <td></td>\n",
       "    </tr>\n",
       "    <tr>\n",
       "      <th>32</th>\n",
       "      <td>Health</td>\n",
       "      <td>Olay</td>\n",
       "      <td>474.961771</td>\n",
       "      <td>114.719131</td>\n",
       "      <td></td>\n",
       "    </tr>\n",
       "    <tr>\n",
       "      <th>47</th>\n",
       "      <td>Business</td>\n",
       "      <td>Dove</td>\n",
       "      <td>839.278202</td>\n",
       "      <td>589.744598</td>\n",
       "      <td>-</td>\n",
       "    </tr>\n",
       "    <tr>\n",
       "      <th>49</th>\n",
       "      <td>Business</td>\n",
       "      <td>Dove</td>\n",
       "      <td>616.568114</td>\n",
       "      <td>360.746376</td>\n",
       "      <td>-</td>\n",
       "    </tr>\n",
       "    <tr>\n",
       "      <th>97</th>\n",
       "      <td>Business</td>\n",
       "      <td>Dove</td>\n",
       "      <td>1078.517897</td>\n",
       "      <td>3.408460</td>\n",
       "      <td>-</td>\n",
       "    </tr>\n",
       "    <tr>\n",
       "      <th>105</th>\n",
       "      <td>Business</td>\n",
       "      <td>Olay</td>\n",
       "      <td>861.483372</td>\n",
       "      <td>437.685817</td>\n",
       "      <td></td>\n",
       "    </tr>\n",
       "    <tr>\n",
       "      <th>122</th>\n",
       "      <td>Health</td>\n",
       "      <td>Olay</td>\n",
       "      <td>909.028866</td>\n",
       "      <td>93.331929</td>\n",
       "      <td></td>\n",
       "    </tr>\n",
       "    <tr>\n",
       "      <th>136</th>\n",
       "      <td>Health</td>\n",
       "      <td>Lux</td>\n",
       "      <td>907.305819</td>\n",
       "      <td>63.712234</td>\n",
       "      <td>-</td>\n",
       "    </tr>\n",
       "    <tr>\n",
       "      <th>148</th>\n",
       "      <td>Business</td>\n",
       "      <td>Lux</td>\n",
       "      <td>1106.587226</td>\n",
       "      <td>294.983481</td>\n",
       "      <td></td>\n",
       "    </tr>\n",
       "    <tr>\n",
       "      <th>170</th>\n",
       "      <td>Business</td>\n",
       "      <td>NaN</td>\n",
       "      <td>916.208900</td>\n",
       "      <td>8.146763</td>\n",
       "      <td>-</td>\n",
       "    </tr>\n",
       "    <tr>\n",
       "      <th>184</th>\n",
       "      <td>Health</td>\n",
       "      <td>Olay</td>\n",
       "      <td>805.177096</td>\n",
       "      <td>63.002478</td>\n",
       "      <td></td>\n",
       "    </tr>\n",
       "    <tr>\n",
       "      <th>200</th>\n",
       "      <td>Health</td>\n",
       "      <td>Olay</td>\n",
       "      <td>919.684456</td>\n",
       "      <td>-63.186798</td>\n",
       "      <td>-</td>\n",
       "    </tr>\n",
       "    <tr>\n",
       "      <th>206</th>\n",
       "      <td>Business</td>\n",
       "      <td>Lux</td>\n",
       "      <td>1065.472590</td>\n",
       "      <td>379.887884</td>\n",
       "      <td></td>\n",
       "    </tr>\n",
       "    <tr>\n",
       "      <th>233</th>\n",
       "      <td>Family</td>\n",
       "      <td>Dove</td>\n",
       "      <td>382.142034</td>\n",
       "      <td>438.555561</td>\n",
       "      <td>-</td>\n",
       "    </tr>\n",
       "    <tr>\n",
       "      <th>303</th>\n",
       "      <td>Health</td>\n",
       "      <td>Lux</td>\n",
       "      <td>885.845215</td>\n",
       "      <td>194.691694</td>\n",
       "      <td>-</td>\n",
       "    </tr>\n",
       "    <tr>\n",
       "      <th>338</th>\n",
       "      <td>Business</td>\n",
       "      <td>Lux</td>\n",
       "      <td>1130.728593</td>\n",
       "      <td>568.322527</td>\n",
       "      <td></td>\n",
       "    </tr>\n",
       "    <tr>\n",
       "      <th>355</th>\n",
       "      <td>Study</td>\n",
       "      <td>Dove</td>\n",
       "      <td>857.764371</td>\n",
       "      <td>260.382670</td>\n",
       "      <td>-</td>\n",
       "    </tr>\n",
       "    <tr>\n",
       "      <th>359</th>\n",
       "      <td>Study</td>\n",
       "      <td>Dove</td>\n",
       "      <td>905.584793</td>\n",
       "      <td>211.479803</td>\n",
       "      <td>-</td>\n",
       "    </tr>\n",
       "    <tr>\n",
       "      <th>363</th>\n",
       "      <td>Health</td>\n",
       "      <td>Lux</td>\n",
       "      <td>633.642254</td>\n",
       "      <td>50.169940</td>\n",
       "      <td></td>\n",
       "    </tr>\n",
       "    <tr>\n",
       "      <th>364</th>\n",
       "      <td>Health</td>\n",
       "      <td>Lux</td>\n",
       "      <td>755.444993</td>\n",
       "      <td>411.670534</td>\n",
       "      <td>-</td>\n",
       "    </tr>\n",
       "    <tr>\n",
       "      <th>366</th>\n",
       "      <td>Leisure</td>\n",
       "      <td>Lux</td>\n",
       "      <td>768.399370</td>\n",
       "      <td>153.687790</td>\n",
       "      <td>-</td>\n",
       "    </tr>\n",
       "    <tr>\n",
       "      <th>390</th>\n",
       "      <td>Health</td>\n",
       "      <td>Olay</td>\n",
       "      <td>1063.556777</td>\n",
       "      <td>80.175671</td>\n",
       "      <td></td>\n",
       "    </tr>\n",
       "    <tr>\n",
       "      <th>393</th>\n",
       "      <td>Leisure</td>\n",
       "      <td>Lux</td>\n",
       "      <td>-9999.000000</td>\n",
       "      <td>-13.375315</td>\n",
       "      <td></td>\n",
       "    </tr>\n",
       "    <tr>\n",
       "      <th>396</th>\n",
       "      <td>Family</td>\n",
       "      <td>Lux</td>\n",
       "      <td>369.481890</td>\n",
       "      <td>373.411412</td>\n",
       "      <td>-</td>\n",
       "    </tr>\n",
       "    <tr>\n",
       "      <th>439</th>\n",
       "      <td>Business</td>\n",
       "      <td>Lux</td>\n",
       "      <td>-9999.000000</td>\n",
       "      <td>108.053069</td>\n",
       "      <td>-</td>\n",
       "    </tr>\n",
       "    <tr>\n",
       "      <th>469</th>\n",
       "      <td>Health</td>\n",
       "      <td>Olay</td>\n",
       "      <td>919.943528</td>\n",
       "      <td>179.960922</td>\n",
       "      <td></td>\n",
       "    </tr>\n",
       "    <tr>\n",
       "      <th>529</th>\n",
       "      <td>Health</td>\n",
       "      <td>NaN</td>\n",
       "      <td>869.157160</td>\n",
       "      <td>467.402764</td>\n",
       "      <td>-</td>\n",
       "    </tr>\n",
       "    <tr>\n",
       "      <th>531</th>\n",
       "      <td>Health</td>\n",
       "      <td>Dove</td>\n",
       "      <td>987.560540</td>\n",
       "      <td>204.122918</td>\n",
       "      <td></td>\n",
       "    </tr>\n",
       "    <tr>\n",
       "      <th>562</th>\n",
       "      <td>Leisure</td>\n",
       "      <td>Lux</td>\n",
       "      <td>996.010782</td>\n",
       "      <td>385.532738</td>\n",
       "      <td>-</td>\n",
       "    </tr>\n",
       "    <tr>\n",
       "      <th>602</th>\n",
       "      <td>Health</td>\n",
       "      <td>Lux</td>\n",
       "      <td>909.652548</td>\n",
       "      <td>229.858993</td>\n",
       "      <td></td>\n",
       "    </tr>\n",
       "    <tr>\n",
       "      <th>607</th>\n",
       "      <td>Family</td>\n",
       "      <td>Lux</td>\n",
       "      <td>833.100722</td>\n",
       "      <td>79.705527</td>\n",
       "      <td></td>\n",
       "    </tr>\n",
       "    <tr>\n",
       "      <th>610</th>\n",
       "      <td>Business</td>\n",
       "      <td>Dove</td>\n",
       "      <td>1035.235759</td>\n",
       "      <td>313.456244</td>\n",
       "      <td></td>\n",
       "    </tr>\n",
       "    <tr>\n",
       "      <th>613</th>\n",
       "      <td>Health</td>\n",
       "      <td>Dove</td>\n",
       "      <td>670.315988</td>\n",
       "      <td>212.959428</td>\n",
       "      <td></td>\n",
       "    </tr>\n",
       "    <tr>\n",
       "      <th>649</th>\n",
       "      <td>Health</td>\n",
       "      <td>Lux</td>\n",
       "      <td>728.565030</td>\n",
       "      <td>381.623465</td>\n",
       "      <td>-</td>\n",
       "    </tr>\n",
       "    <tr>\n",
       "      <th>651</th>\n",
       "      <td>Leisure</td>\n",
       "      <td>Lux</td>\n",
       "      <td>755.488316</td>\n",
       "      <td>NaN</td>\n",
       "      <td>-</td>\n",
       "    </tr>\n",
       "    <tr>\n",
       "      <th>689</th>\n",
       "      <td>Health</td>\n",
       "      <td>NaN</td>\n",
       "      <td>708.041320</td>\n",
       "      <td>-84.838887</td>\n",
       "      <td>-</td>\n",
       "    </tr>\n",
       "    <tr>\n",
       "      <th>721</th>\n",
       "      <td>Health</td>\n",
       "      <td>Lux</td>\n",
       "      <td>653.898743</td>\n",
       "      <td>382.562394</td>\n",
       "      <td></td>\n",
       "    </tr>\n",
       "    <tr>\n",
       "      <th>735</th>\n",
       "      <td>Health</td>\n",
       "      <td>Dove</td>\n",
       "      <td>939.456296</td>\n",
       "      <td>21.204619</td>\n",
       "      <td></td>\n",
       "    </tr>\n",
       "    <tr>\n",
       "      <th>740</th>\n",
       "      <td>Health</td>\n",
       "      <td>Lux</td>\n",
       "      <td>813.592350</td>\n",
       "      <td>473.180235</td>\n",
       "      <td>-</td>\n",
       "    </tr>\n",
       "    <tr>\n",
       "      <th>749</th>\n",
       "      <td>Leisure</td>\n",
       "      <td>Dove</td>\n",
       "      <td>686.582957</td>\n",
       "      <td>NaN</td>\n",
       "      <td></td>\n",
       "    </tr>\n",
       "    <tr>\n",
       "      <th>761</th>\n",
       "      <td>Business</td>\n",
       "      <td>Lux</td>\n",
       "      <td>873.572194</td>\n",
       "      <td>NaN</td>\n",
       "      <td></td>\n",
       "    </tr>\n",
       "    <tr>\n",
       "      <th>795</th>\n",
       "      <td>Business</td>\n",
       "      <td>Lux</td>\n",
       "      <td>734.511871</td>\n",
       "      <td>576.950108</td>\n",
       "      <td></td>\n",
       "    </tr>\n",
       "    <tr>\n",
       "      <th>797</th>\n",
       "      <td>Leisure</td>\n",
       "      <td>Lux</td>\n",
       "      <td>1326.827648</td>\n",
       "      <td>575.356204</td>\n",
       "      <td></td>\n",
       "    </tr>\n",
       "    <tr>\n",
       "      <th>801</th>\n",
       "      <td>Leisure</td>\n",
       "      <td>Dove</td>\n",
       "      <td>996.692323</td>\n",
       "      <td>260.788981</td>\n",
       "      <td></td>\n",
       "    </tr>\n",
       "    <tr>\n",
       "      <th>837</th>\n",
       "      <td>Health</td>\n",
       "      <td>Lux</td>\n",
       "      <td>762.653305</td>\n",
       "      <td>227.042956</td>\n",
       "      <td>-</td>\n",
       "    </tr>\n",
       "    <tr>\n",
       "      <th>842</th>\n",
       "      <td>NaN</td>\n",
       "      <td>Olay</td>\n",
       "      <td>1004.823589</td>\n",
       "      <td>342.244735</td>\n",
       "      <td>-</td>\n",
       "    </tr>\n",
       "    <tr>\n",
       "      <th>872</th>\n",
       "      <td>Leisure</td>\n",
       "      <td>Dove</td>\n",
       "      <td>947.575840</td>\n",
       "      <td>-18.715023</td>\n",
       "      <td></td>\n",
       "    </tr>\n",
       "    <tr>\n",
       "      <th>878</th>\n",
       "      <td>Health</td>\n",
       "      <td>Dove</td>\n",
       "      <td>951.992111</td>\n",
       "      <td>124.906948</td>\n",
       "      <td></td>\n",
       "    </tr>\n",
       "    <tr>\n",
       "      <th>889</th>\n",
       "      <td>Business</td>\n",
       "      <td>Lux</td>\n",
       "      <td>844.044738</td>\n",
       "      <td>52.626988</td>\n",
       "      <td>-</td>\n",
       "    </tr>\n",
       "    <tr>\n",
       "      <th>895</th>\n",
       "      <td>Health</td>\n",
       "      <td>Olay</td>\n",
       "      <td>873.523067</td>\n",
       "      <td>217.802483</td>\n",
       "      <td></td>\n",
       "    </tr>\n",
       "    <tr>\n",
       "      <th>896</th>\n",
       "      <td>Study</td>\n",
       "      <td>Lux</td>\n",
       "      <td>1157.736581</td>\n",
       "      <td>225.985932</td>\n",
       "      <td>-</td>\n",
       "    </tr>\n",
       "    <tr>\n",
       "      <th>899</th>\n",
       "      <td>Leisure</td>\n",
       "      <td>Lux</td>\n",
       "      <td>836.460146</td>\n",
       "      <td>110.370591</td>\n",
       "      <td>-</td>\n",
       "    </tr>\n",
       "    <tr>\n",
       "      <th>900</th>\n",
       "      <td>Leisure</td>\n",
       "      <td>NaN</td>\n",
       "      <td>711.799570</td>\n",
       "      <td>582.628611</td>\n",
       "      <td>-</td>\n",
       "    </tr>\n",
       "    <tr>\n",
       "      <th>919</th>\n",
       "      <td>Leisure</td>\n",
       "      <td>Dove</td>\n",
       "      <td>572.176403</td>\n",
       "      <td>574.355273</td>\n",
       "      <td></td>\n",
       "    </tr>\n",
       "    <tr>\n",
       "      <th>921</th>\n",
       "      <td>Leisure</td>\n",
       "      <td>Olay</td>\n",
       "      <td>734.455928</td>\n",
       "      <td>251.600261</td>\n",
       "      <td>-</td>\n",
       "    </tr>\n",
       "    <tr>\n",
       "      <th>936</th>\n",
       "      <td>Health</td>\n",
       "      <td>Dove</td>\n",
       "      <td>1234.947500</td>\n",
       "      <td>463.984833</td>\n",
       "      <td>-</td>\n",
       "    </tr>\n",
       "    <tr>\n",
       "      <th>960</th>\n",
       "      <td>Health</td>\n",
       "      <td>Dove</td>\n",
       "      <td>1033.262927</td>\n",
       "      <td>488.467876</td>\n",
       "      <td></td>\n",
       "    </tr>\n",
       "    <tr>\n",
       "      <th>994</th>\n",
       "      <td>Health</td>\n",
       "      <td>Lux</td>\n",
       "      <td>-9999.000000</td>\n",
       "      <td>-84.694796</td>\n",
       "      <td></td>\n",
       "    </tr>\n",
       "  </tbody>\n",
       "</table>\n",
       "</div>"
      ],
      "text/plain": [
       "    cat8_motivesForTravelling cat6_brandOfSoaps      num1_16     num2_16  \\\n",
       "8                       Study              Dove   603.419710  258.788063   \n",
       "10                     Health              Olay   822.783177  223.324197   \n",
       "21                     Health              Olay   611.189094  195.884782   \n",
       "32                     Health              Olay   474.961771  114.719131   \n",
       "47                   Business              Dove   839.278202  589.744598   \n",
       "49                   Business              Dove   616.568114  360.746376   \n",
       "97                   Business              Dove  1078.517897    3.408460   \n",
       "105                  Business              Olay   861.483372  437.685817   \n",
       "122                    Health              Olay   909.028866   93.331929   \n",
       "136                    Health               Lux   907.305819   63.712234   \n",
       "148                  Business               Lux  1106.587226  294.983481   \n",
       "170                  Business               NaN   916.208900    8.146763   \n",
       "184                    Health              Olay   805.177096   63.002478   \n",
       "200                    Health              Olay   919.684456  -63.186798   \n",
       "206                  Business               Lux  1065.472590  379.887884   \n",
       "233                    Family              Dove   382.142034  438.555561   \n",
       "303                    Health               Lux   885.845215  194.691694   \n",
       "338                  Business               Lux  1130.728593  568.322527   \n",
       "355                     Study              Dove   857.764371  260.382670   \n",
       "359                     Study              Dove   905.584793  211.479803   \n",
       "363                    Health               Lux   633.642254   50.169940   \n",
       "364                    Health               Lux   755.444993  411.670534   \n",
       "366                   Leisure               Lux   768.399370  153.687790   \n",
       "390                    Health              Olay  1063.556777   80.175671   \n",
       "393                   Leisure               Lux -9999.000000  -13.375315   \n",
       "396                    Family               Lux   369.481890  373.411412   \n",
       "439                  Business               Lux -9999.000000  108.053069   \n",
       "469                    Health              Olay   919.943528  179.960922   \n",
       "529                    Health               NaN   869.157160  467.402764   \n",
       "531                    Health              Dove   987.560540  204.122918   \n",
       "562                   Leisure               Lux   996.010782  385.532738   \n",
       "602                    Health               Lux   909.652548  229.858993   \n",
       "607                    Family               Lux   833.100722   79.705527   \n",
       "610                  Business              Dove  1035.235759  313.456244   \n",
       "613                    Health              Dove   670.315988  212.959428   \n",
       "649                    Health               Lux   728.565030  381.623465   \n",
       "651                   Leisure               Lux   755.488316         NaN   \n",
       "689                    Health               NaN   708.041320  -84.838887   \n",
       "721                    Health               Lux   653.898743  382.562394   \n",
       "735                    Health              Dove   939.456296   21.204619   \n",
       "740                    Health               Lux   813.592350  473.180235   \n",
       "749                   Leisure              Dove   686.582957         NaN   \n",
       "761                  Business               Lux   873.572194         NaN   \n",
       "795                  Business               Lux   734.511871  576.950108   \n",
       "797                   Leisure               Lux  1326.827648  575.356204   \n",
       "801                   Leisure              Dove   996.692323  260.788981   \n",
       "837                    Health               Lux   762.653305  227.042956   \n",
       "842                       NaN              Olay  1004.823589  342.244735   \n",
       "872                   Leisure              Dove   947.575840  -18.715023   \n",
       "878                    Health              Dove   951.992111  124.906948   \n",
       "889                  Business               Lux   844.044738   52.626988   \n",
       "895                    Health              Olay   873.523067  217.802483   \n",
       "896                     Study               Lux  1157.736581  225.985932   \n",
       "899                   Leisure               Lux   836.460146  110.370591   \n",
       "900                   Leisure               NaN   711.799570  582.628611   \n",
       "919                   Leisure              Dove   572.176403  574.355273   \n",
       "921                   Leisure              Olay   734.455928  251.600261   \n",
       "936                    Health              Dove  1234.947500  463.984833   \n",
       "960                    Health              Dove  1033.262927  488.467876   \n",
       "994                    Health               Lux -9999.000000  -84.694796   \n",
       "\n",
       "    num3_16  \n",
       "8         -  \n",
       "10        -  \n",
       "21           \n",
       "32           \n",
       "47        -  \n",
       "49        -  \n",
       "97        -  \n",
       "105          \n",
       "122          \n",
       "136       -  \n",
       "148          \n",
       "170       -  \n",
       "184          \n",
       "200       -  \n",
       "206          \n",
       "233       -  \n",
       "303       -  \n",
       "338          \n",
       "355       -  \n",
       "359       -  \n",
       "363          \n",
       "364       -  \n",
       "366       -  \n",
       "390          \n",
       "393          \n",
       "396       -  \n",
       "439       -  \n",
       "469          \n",
       "529       -  \n",
       "531          \n",
       "562       -  \n",
       "602          \n",
       "607          \n",
       "610          \n",
       "613          \n",
       "649       -  \n",
       "651       -  \n",
       "689       -  \n",
       "721          \n",
       "735          \n",
       "740       -  \n",
       "749          \n",
       "761          \n",
       "795          \n",
       "797          \n",
       "801          \n",
       "837       -  \n",
       "842       -  \n",
       "872          \n",
       "878          \n",
       "889       -  \n",
       "895          \n",
       "896       -  \n",
       "899       -  \n",
       "900       -  \n",
       "919          \n",
       "921       -  \n",
       "936       -  \n",
       "960          \n",
       "994          "
      ]
     },
     "execution_count": 46,
     "metadata": {},
     "output_type": "execute_result"
    }
   ],
   "source": [
    "data.loc[map(lambda x: type(x) == str, data['num3_16'])]"
   ]
  },
  {
   "cell_type": "code",
   "execution_count": 47,
   "metadata": {},
   "outputs": [],
   "source": [
    "data['num3_16'] = data['num3_16'].replace([' ', '-'], np.nan)"
   ]
  },
  {
   "cell_type": "code",
   "execution_count": 48,
   "metadata": {},
   "outputs": [
    {
     "data": {
      "text/plain": [
       "{float}"
      ]
     },
     "execution_count": 48,
     "metadata": {},
     "output_type": "execute_result"
    }
   ],
   "source": [
    "set(data['num3_16'].apply(type))"
   ]
  },
  {
   "cell_type": "code",
   "execution_count": 49,
   "metadata": {},
   "outputs": [
    {
     "name": "stderr",
     "output_type": "stream",
     "text": [
      "c:\\users\\alekc\\appdata\\local\\programs\\python\\python38\\lib\\site-packages\\seaborn\\_decorators.py:36: FutureWarning: Pass the following variable as a keyword arg: x. From version 0.12, the only valid positional argument will be `data`, and passing other arguments without an explicit keyword will result in an error or misinterpretation.\n",
      "  warnings.warn(\n"
     ]
    },
    {
     "data": {
      "image/png": "[encoded data removed]",
      "text/plain": [
       "<Figure size 1152x432 with 2 Axes>"
      ]
     },
     "metadata": {
      "needs_background": "light"
     },
     "output_type": "display_data"
    }
   ],
   "source": [
    "illustrate_quantity_series(data['num3_16'])"
   ]
  },
  {
   "cell_type": "markdown",
   "metadata": {},
   "source": [
    "Преобразование столбиков к float"
   ]
  },
  {
   "cell_type": "code",
   "execution_count": 50,
   "metadata": {},
   "outputs": [],
   "source": [
    "data['num1_16'] = data['num1_16'].astype(float)\n",
    "data['num2_16'] = data['num2_16'].astype(float)\n",
    "data['num3_16'] = data['num3_16'].astype(float)"
   ]
  },
  {
   "cell_type": "markdown",
   "metadata": {},
   "source": [
    "## Восстановление пропущенных значений\n"
   ]
  },
  {
   "cell_type": "markdown",
   "metadata": {},
   "source": [
    "### Для 2 столбца используется самое популярное значение:"
   ]
  },
  {
   "cell_type": "code",
   "execution_count": 51,
   "metadata": {},
   "outputs": [
    {
     "data": {
      "text/plain": [
       "{'Dove', 'Lux', 'Olay', nan}"
      ]
     },
     "execution_count": 51,
     "metadata": {},
     "output_type": "execute_result"
    }
   ],
   "source": [
    "set(data['cat6_brandOfSoaps'])"
   ]
  },
  {
   "cell_type": "code",
   "execution_count": 52,
   "metadata": {},
   "outputs": [
    {
     "data": {
      "image/png": "[encoded data removed]",
      "text/plain": [
       "<Figure size 1152x432 with 2 Axes>"
      ]
     },
     "metadata": {
      "needs_background": "light"
     },
     "output_type": "display_data"
    }
   ],
   "source": [
    "illustrate_qualitative_series(data['cat6_brandOfSoaps'])"
   ]
  },
  {
   "cell_type": "code",
   "execution_count": 53,
   "metadata": {},
   "outputs": [],
   "source": [
    "mode = data['cat6_brandOfSoaps'].mode()[0]\n",
    "data = data.fillna({'cat6_brandOfSoaps': mode})"
   ]
  },
  {
   "cell_type": "code",
   "execution_count": 54,
   "metadata": {},
   "outputs": [
    {
     "data": {
      "text/plain": [
       "{'Dove', 'Lux', 'Olay'}"
      ]
     },
     "execution_count": 54,
     "metadata": {},
     "output_type": "execute_result"
    }
   ],
   "source": [
    "set(data['cat6_brandOfSoaps'])"
   ]
  },
  {
   "cell_type": "code",
   "execution_count": 55,
   "metadata": {},
   "outputs": [
    {
     "data": {
      "image/png": "[encoded data removed]",
      "text/plain": [
       "<Figure size 1152x432 with 2 Axes>"
      ]
     },
     "metadata": {
      "needs_background": "light"
     },
     "output_type": "display_data"
    }
   ],
   "source": [
    "illustrate_qualitative_series(data['cat6_brandOfSoaps'])"
   ]
  },
  {
   "cell_type": "markdown",
   "metadata": {},
   "source": [
    "### Для 3 – среднее:"
   ]
  },
  {
   "cell_type": "code",
   "execution_count": 56,
   "metadata": {},
   "outputs": [
    {
     "name": "stderr",
     "output_type": "stream",
     "text": [
      "c:\\users\\alekc\\appdata\\local\\programs\\python\\python38\\lib\\site-packages\\seaborn\\_decorators.py:36: FutureWarning: Pass the following variable as a keyword arg: x. From version 0.12, the only valid positional argument will be `data`, and passing other arguments without an explicit keyword will result in an error or misinterpretation.\n",
      "  warnings.warn(\n"
     ]
    },
    {
     "data": {
      "image/png": "[encoded data removed]",
      "text/plain": [
       "<Figure size 1152x432 with 2 Axes>"
      ]
     },
     "metadata": {
      "needs_background": "light"
     },
     "output_type": "display_data"
    }
   ],
   "source": [
    "illustrate_quantity_series(data['num1_16'])"
   ]
  },
  {
   "cell_type": "code",
   "execution_count": 57,
   "metadata": {},
   "outputs": [],
   "source": [
    "mean = data['num1_16'].mean()\n",
    "data['num1_16'] = data['num1_16'].fillna(mean)"
   ]
  },
  {
   "cell_type": "code",
   "execution_count": 58,
   "metadata": {},
   "outputs": [
    {
     "name": "stderr",
     "output_type": "stream",
     "text": [
      "c:\\users\\alekc\\appdata\\local\\programs\\python\\python38\\lib\\site-packages\\seaborn\\_decorators.py:36: FutureWarning: Pass the following variable as a keyword arg: x. From version 0.12, the only valid positional argument will be `data`, and passing other arguments without an explicit keyword will result in an error or misinterpretation.\n",
      "  warnings.warn(\n"
     ]
    },
    {
     "data": {
      "image/png": "[encoded data removed]",
      "text/plain": [
       "<Figure size 1152x432 with 2 Axes>"
      ]
     },
     "metadata": {
      "needs_background": "light"
     },
     "output_type": "display_data"
    }
   ],
   "source": [
    "illustrate_quantity_series(data['num1_16'])"
   ]
  },
  {
   "cell_type": "markdown",
   "metadata": {},
   "source": [
    "### Для 4 – медиана:"
   ]
  },
  {
   "cell_type": "code",
   "execution_count": 59,
   "metadata": {},
   "outputs": [
    {
     "name": "stderr",
     "output_type": "stream",
     "text": [
      "c:\\users\\alekc\\appdata\\local\\programs\\python\\python38\\lib\\site-packages\\seaborn\\_decorators.py:36: FutureWarning: Pass the following variable as a keyword arg: x. From version 0.12, the only valid positional argument will be `data`, and passing other arguments without an explicit keyword will result in an error or misinterpretation.\n",
      "  warnings.warn(\n"
     ]
    },
    {
     "data": {
      "image/png": "[encoded data removed]",
      "text/plain": [
       "<Figure size 1152x432 with 2 Axes>"
      ]
     },
     "metadata": {
      "needs_background": "light"
     },
     "output_type": "display_data"
    }
   ],
   "source": [
    "illustrate_quantity_series(data['num2_16'])"
   ]
  },
  {
   "cell_type": "code",
   "execution_count": 60,
   "metadata": {},
   "outputs": [],
   "source": [
    "median = data['num2_16'].median()\n",
    "data['num2_16'] = data['num2_16'].fillna(median)"
   ]
  },
  {
   "cell_type": "code",
   "execution_count": 61,
   "metadata": {},
   "outputs": [
    {
     "name": "stderr",
     "output_type": "stream",
     "text": [
      "c:\\users\\alekc\\appdata\\local\\programs\\python\\python38\\lib\\site-packages\\seaborn\\_decorators.py:36: FutureWarning: Pass the following variable as a keyword arg: x. From version 0.12, the only valid positional argument will be `data`, and passing other arguments without an explicit keyword will result in an error or misinterpretation.\n",
      "  warnings.warn(\n"
     ]
    },
    {
     "data": {
      "image/png": "[encoded data removed]",
      "text/plain": [
       "<Figure size 1152x432 with 2 Axes>"
      ]
     },
     "metadata": {
      "needs_background": "light"
     },
     "output_type": "display_data"
    }
   ],
   "source": [
    "illustrate_quantity_series(data['num2_16'])"
   ]
  },
  {
   "cell_type": "markdown",
   "metadata": {},
   "source": [
    "### Метод k-ближайших соседей для 1 и 5 столбца"
   ]
  },
  {
   "cell_type": "code",
   "execution_count": 62,
   "metadata": {},
   "outputs": [
    {
     "data": {
      "text/plain": [
       "Health      358\n",
       "Leisure     222\n",
       "Business    197\n",
       "Study       125\n",
       "NaN          58\n",
       "Family       40\n",
       "Name: cat8_motivesForTravelling, dtype: int64"
      ]
     },
     "execution_count": 62,
     "metadata": {},
     "output_type": "execute_result"
    }
   ],
   "source": [
    "data['cat8_motivesForTravelling'].value_counts(dropna=False)"
   ]
  },
  {
   "cell_type": "code",
   "execution_count": 63,
   "metadata": {},
   "outputs": [
    {
     "data": {
      "image/png": "[encoded data removed]",
      "text/plain": [
       "<Figure size 1152x432 with 2 Axes>"
      ]
     },
     "metadata": {
      "needs_background": "light"
     },
     "output_type": "display_data"
    }
   ],
   "source": [
    "illustrate_qualitative_series(data['cat8_motivesForTravelling'])"
   ]
  },
  {
   "cell_type": "code",
   "execution_count": 64,
   "metadata": {},
   "outputs": [],
   "source": [
    "tmp = pandas.get_dummies(data.cat8_motivesForTravelling, dummy_na=True)\n",
    "data = pandas.concat([data, tmp], axis=1)"
   ]
  },
  {
   "cell_type": "code",
   "execution_count": 65,
   "metadata": {},
   "outputs": [
    {
     "data": {
      "text/html": [
       "<div>\n",
       "<style scoped>\n",
       "    .dataframe tbody tr th:only-of-type {\n",
       "        vertical-align: middle;\n",
       "    }\n",
       "\n",
       "    .dataframe tbody tr th {\n",
       "        vertical-align: top;\n",
       "    }\n",
       "\n",
       "    .dataframe thead th {\n",
       "        text-align: right;\n",
       "    }\n",
       "</style>\n",
       "<table border=\"1\" class=\"dataframe\">\n",
       "  <thead>\n",
       "    <tr style=\"text-align: right;\">\n",
       "      <th></th>\n",
       "      <th>cat8_motivesForTravelling</th>\n",
       "      <th>cat6_brandOfSoaps</th>\n",
       "      <th>num1_16</th>\n",
       "      <th>num2_16</th>\n",
       "      <th>num3_16</th>\n",
       "      <th>Business</th>\n",
       "      <th>Family</th>\n",
       "      <th>Health</th>\n",
       "      <th>Leisure</th>\n",
       "      <th>Study</th>\n",
       "      <th>NaN</th>\n",
       "    </tr>\n",
       "  </thead>\n",
       "  <tbody>\n",
       "    <tr>\n",
       "      <th>0</th>\n",
       "      <td>Health</td>\n",
       "      <td>Lux</td>\n",
       "      <td>873.769790</td>\n",
       "      <td>483.814054</td>\n",
       "      <td>116.806927</td>\n",
       "      <td>0</td>\n",
       "      <td>0</td>\n",
       "      <td>1</td>\n",
       "      <td>0</td>\n",
       "      <td>0</td>\n",
       "      <td>0</td>\n",
       "    </tr>\n",
       "    <tr>\n",
       "      <th>1</th>\n",
       "      <td>Study</td>\n",
       "      <td>Lux</td>\n",
       "      <td>720.562227</td>\n",
       "      <td>211.321139</td>\n",
       "      <td>98.264330</td>\n",
       "      <td>0</td>\n",
       "      <td>0</td>\n",
       "      <td>0</td>\n",
       "      <td>0</td>\n",
       "      <td>1</td>\n",
       "      <td>0</td>\n",
       "    </tr>\n",
       "    <tr>\n",
       "      <th>2</th>\n",
       "      <td>Family</td>\n",
       "      <td>Lux</td>\n",
       "      <td>1039.114671</td>\n",
       "      <td>244.149817</td>\n",
       "      <td>NaN</td>\n",
       "      <td>0</td>\n",
       "      <td>1</td>\n",
       "      <td>0</td>\n",
       "      <td>0</td>\n",
       "      <td>0</td>\n",
       "      <td>0</td>\n",
       "    </tr>\n",
       "    <tr>\n",
       "      <th>3</th>\n",
       "      <td>Health</td>\n",
       "      <td>Lux</td>\n",
       "      <td>712.038677</td>\n",
       "      <td>82.090022</td>\n",
       "      <td>116.613291</td>\n",
       "      <td>0</td>\n",
       "      <td>0</td>\n",
       "      <td>1</td>\n",
       "      <td>0</td>\n",
       "      <td>0</td>\n",
       "      <td>0</td>\n",
       "    </tr>\n",
       "    <tr>\n",
       "      <th>4</th>\n",
       "      <td>Health</td>\n",
       "      <td>Dove</td>\n",
       "      <td>864.677412</td>\n",
       "      <td>258.729918</td>\n",
       "      <td>146.187875</td>\n",
       "      <td>0</td>\n",
       "      <td>0</td>\n",
       "      <td>1</td>\n",
       "      <td>0</td>\n",
       "      <td>0</td>\n",
       "      <td>0</td>\n",
       "    </tr>\n",
       "    <tr>\n",
       "      <th>...</th>\n",
       "      <td>...</td>\n",
       "      <td>...</td>\n",
       "      <td>...</td>\n",
       "      <td>...</td>\n",
       "      <td>...</td>\n",
       "      <td>...</td>\n",
       "      <td>...</td>\n",
       "      <td>...</td>\n",
       "      <td>...</td>\n",
       "      <td>...</td>\n",
       "      <td>...</td>\n",
       "    </tr>\n",
       "    <tr>\n",
       "      <th>995</th>\n",
       "      <td>Leisure</td>\n",
       "      <td>Dove</td>\n",
       "      <td>678.416987</td>\n",
       "      <td>258.729918</td>\n",
       "      <td>94.634025</td>\n",
       "      <td>0</td>\n",
       "      <td>0</td>\n",
       "      <td>0</td>\n",
       "      <td>1</td>\n",
       "      <td>0</td>\n",
       "      <td>0</td>\n",
       "    </tr>\n",
       "    <tr>\n",
       "      <th>996</th>\n",
       "      <td>Health</td>\n",
       "      <td>Lux</td>\n",
       "      <td>974.740058</td>\n",
       "      <td>259.813573</td>\n",
       "      <td>140.970704</td>\n",
       "      <td>0</td>\n",
       "      <td>0</td>\n",
       "      <td>1</td>\n",
       "      <td>0</td>\n",
       "      <td>0</td>\n",
       "      <td>0</td>\n",
       "    </tr>\n",
       "    <tr>\n",
       "      <th>997</th>\n",
       "      <td>Study</td>\n",
       "      <td>Dove</td>\n",
       "      <td>752.479092</td>\n",
       "      <td>87.352380</td>\n",
       "      <td>120.055689</td>\n",
       "      <td>0</td>\n",
       "      <td>0</td>\n",
       "      <td>0</td>\n",
       "      <td>0</td>\n",
       "      <td>1</td>\n",
       "      <td>0</td>\n",
       "    </tr>\n",
       "    <tr>\n",
       "      <th>998</th>\n",
       "      <td>Health</td>\n",
       "      <td>Lux</td>\n",
       "      <td>847.430677</td>\n",
       "      <td>296.909229</td>\n",
       "      <td>NaN</td>\n",
       "      <td>0</td>\n",
       "      <td>0</td>\n",
       "      <td>1</td>\n",
       "      <td>0</td>\n",
       "      <td>0</td>\n",
       "      <td>0</td>\n",
       "    </tr>\n",
       "    <tr>\n",
       "      <th>999</th>\n",
       "      <td>Family</td>\n",
       "      <td>Lux</td>\n",
       "      <td>671.570314</td>\n",
       "      <td>258.729918</td>\n",
       "      <td>135.994887</td>\n",
       "      <td>0</td>\n",
       "      <td>1</td>\n",
       "      <td>0</td>\n",
       "      <td>0</td>\n",
       "      <td>0</td>\n",
       "      <td>0</td>\n",
       "    </tr>\n",
       "  </tbody>\n",
       "</table>\n",
       "<p>1000 rows × 11 columns</p>\n",
       "</div>"
      ],
      "text/plain": [
       "    cat8_motivesForTravelling cat6_brandOfSoaps      num1_16     num2_16  \\\n",
       "0                      Health               Lux   873.769790  483.814054   \n",
       "1                       Study               Lux   720.562227  211.321139   \n",
       "2                      Family               Lux  1039.114671  244.149817   \n",
       "3                      Health               Lux   712.038677   82.090022   \n",
       "4                      Health              Dove   864.677412  258.729918   \n",
       "..                        ...               ...          ...         ...   \n",
       "995                   Leisure              Dove   678.416987  258.729918   \n",
       "996                    Health               Lux   974.740058  259.813573   \n",
       "997                     Study              Dove   752.479092   87.352380   \n",
       "998                    Health               Lux   847.430677  296.909229   \n",
       "999                    Family               Lux   671.570314  258.729918   \n",
       "\n",
       "        num3_16  Business  Family  Health  Leisure  Study  NaN  \n",
       "0    116.806927         0       0       1        0      0    0  \n",
       "1     98.264330         0       0       0        0      1    0  \n",
       "2           NaN         0       1       0        0      0    0  \n",
       "3    116.613291         0       0       1        0      0    0  \n",
       "4    146.187875         0       0       1        0      0    0  \n",
       "..          ...       ...     ...     ...      ...    ...  ...  \n",
       "995   94.634025         0       0       0        1      0    0  \n",
       "996  140.970704         0       0       1        0      0    0  \n",
       "997  120.055689         0       0       0        0      1    0  \n",
       "998         NaN         0       0       1        0      0    0  \n",
       "999  135.994887         0       1       0        0      0    0  \n",
       "\n",
       "[1000 rows x 11 columns]"
      ]
     },
     "execution_count": 65,
     "metadata": {},
     "output_type": "execute_result"
    }
   ],
   "source": [
    "data"
   ]
  },
  {
   "cell_type": "code",
   "execution_count": 66,
   "metadata": {
    "scrolled": true
   },
   "outputs": [
    {
     "data": {
      "text/html": [
       "<div>\n",
       "<style scoped>\n",
       "    .dataframe tbody tr th:only-of-type {\n",
       "        vertical-align: middle;\n",
       "    }\n",
       "\n",
       "    .dataframe tbody tr th {\n",
       "        vertical-align: top;\n",
       "    }\n",
       "\n",
       "    .dataframe thead th {\n",
       "        text-align: right;\n",
       "    }\n",
       "</style>\n",
       "<table border=\"1\" class=\"dataframe\">\n",
       "  <thead>\n",
       "    <tr style=\"text-align: right;\">\n",
       "      <th></th>\n",
       "      <th>Business</th>\n",
       "      <th>Family</th>\n",
       "      <th>Health</th>\n",
       "      <th>Leisure</th>\n",
       "      <th>Study</th>\n",
       "      <th>NaN</th>\n",
       "    </tr>\n",
       "  </thead>\n",
       "  <tbody>\n",
       "    <tr>\n",
       "      <th>0</th>\n",
       "      <td>0</td>\n",
       "      <td>0</td>\n",
       "      <td>1</td>\n",
       "      <td>0</td>\n",
       "      <td>0</td>\n",
       "      <td>0</td>\n",
       "    </tr>\n",
       "    <tr>\n",
       "      <th>1</th>\n",
       "      <td>0</td>\n",
       "      <td>0</td>\n",
       "      <td>0</td>\n",
       "      <td>0</td>\n",
       "      <td>1</td>\n",
       "      <td>0</td>\n",
       "    </tr>\n",
       "    <tr>\n",
       "      <th>2</th>\n",
       "      <td>0</td>\n",
       "      <td>1</td>\n",
       "      <td>0</td>\n",
       "      <td>0</td>\n",
       "      <td>0</td>\n",
       "      <td>0</td>\n",
       "    </tr>\n",
       "    <tr>\n",
       "      <th>3</th>\n",
       "      <td>0</td>\n",
       "      <td>0</td>\n",
       "      <td>1</td>\n",
       "      <td>0</td>\n",
       "      <td>0</td>\n",
       "      <td>0</td>\n",
       "    </tr>\n",
       "    <tr>\n",
       "      <th>4</th>\n",
       "      <td>0</td>\n",
       "      <td>0</td>\n",
       "      <td>1</td>\n",
       "      <td>0</td>\n",
       "      <td>0</td>\n",
       "      <td>0</td>\n",
       "    </tr>\n",
       "    <tr>\n",
       "      <th>...</th>\n",
       "      <td>...</td>\n",
       "      <td>...</td>\n",
       "      <td>...</td>\n",
       "      <td>...</td>\n",
       "      <td>...</td>\n",
       "      <td>...</td>\n",
       "    </tr>\n",
       "    <tr>\n",
       "      <th>995</th>\n",
       "      <td>0</td>\n",
       "      <td>0</td>\n",
       "      <td>0</td>\n",
       "      <td>1</td>\n",
       "      <td>0</td>\n",
       "      <td>0</td>\n",
       "    </tr>\n",
       "    <tr>\n",
       "      <th>996</th>\n",
       "      <td>0</td>\n",
       "      <td>0</td>\n",
       "      <td>1</td>\n",
       "      <td>0</td>\n",
       "      <td>0</td>\n",
       "      <td>0</td>\n",
       "    </tr>\n",
       "    <tr>\n",
       "      <th>997</th>\n",
       "      <td>0</td>\n",
       "      <td>0</td>\n",
       "      <td>0</td>\n",
       "      <td>0</td>\n",
       "      <td>1</td>\n",
       "      <td>0</td>\n",
       "    </tr>\n",
       "    <tr>\n",
       "      <th>998</th>\n",
       "      <td>0</td>\n",
       "      <td>0</td>\n",
       "      <td>1</td>\n",
       "      <td>0</td>\n",
       "      <td>0</td>\n",
       "      <td>0</td>\n",
       "    </tr>\n",
       "    <tr>\n",
       "      <th>999</th>\n",
       "      <td>0</td>\n",
       "      <td>1</td>\n",
       "      <td>0</td>\n",
       "      <td>0</td>\n",
       "      <td>0</td>\n",
       "      <td>0</td>\n",
       "    </tr>\n",
       "  </tbody>\n",
       "</table>\n",
       "<p>1000 rows × 6 columns</p>\n",
       "</div>"
      ],
      "text/plain": [
       "     Business  Family  Health  Leisure  Study  NaN\n",
       "0           0       0       1        0      0    0\n",
       "1           0       0       0        0      1    0\n",
       "2           0       1       0        0      0    0\n",
       "3           0       0       1        0      0    0\n",
       "4           0       0       1        0      0    0\n",
       "..        ...     ...     ...      ...    ...  ...\n",
       "995         0       0       0        1      0    0\n",
       "996         0       0       1        0      0    0\n",
       "997         0       0       0        0      1    0\n",
       "998         0       0       1        0      0    0\n",
       "999         0       1       0        0      0    0\n",
       "\n",
       "[1000 rows x 6 columns]"
      ]
     },
     "execution_count": 66,
     "metadata": {},
     "output_type": "execute_result"
    }
   ],
   "source": [
    "data.iloc[:, 5:]"
   ]
  },
  {
   "cell_type": "markdown",
   "metadata": {},
   "source": [
    "Поиск индексов nanов"
   ]
  },
  {
   "cell_type": "code",
   "execution_count": 67,
   "metadata": {},
   "outputs": [],
   "source": [
    "hot_columns = data.iloc[:, 5:].columns.to_list()\n",
    "na_indexes = data.groupby([np.nan], dropna=False).groups[1]"
   ]
  },
  {
   "cell_type": "code",
   "execution_count": 68,
   "metadata": {},
   "outputs": [
    {
     "data": {
      "text/plain": [
       "Int64Index([ 81,  84, 120, 167, 186, 187, 214, 249, 253, 266, 277, 280, 281,\n",
       "            285, 316, 322, 325, 330, 331, 343, 344, 345, 372, 374, 395, 419,\n",
       "            424, 436, 450, 478, 510, 535, 548, 566, 567, 574, 589, 590, 592,\n",
       "            621, 626, 634, 642, 656, 657, 684, 697, 717, 784, 803, 816, 842,\n",
       "            852, 877, 891, 914, 963, 987],\n",
       "           dtype='int64')"
      ]
     },
     "execution_count": 68,
     "metadata": {},
     "output_type": "execute_result"
    }
   ],
   "source": [
    "na_indexes"
   ]
  },
  {
   "cell_type": "markdown",
   "metadata": {},
   "source": [
    "Замена всей строчки у OHE на np.nan, если у столбца np.nan значение 1"
   ]
  },
  {
   "cell_type": "code",
   "execution_count": 69,
   "metadata": {},
   "outputs": [],
   "source": [
    "for col in data.iloc[:, 5:-1].columns:\n",
    "    data[col] = np.where(data[col].index.isin(na_indexes), [np.nan], data[col])"
   ]
  },
  {
   "cell_type": "code",
   "execution_count": 70,
   "metadata": {},
   "outputs": [
    {
     "data": {
      "text/plain": [
       "0.0    584\n",
       "1.0    358\n",
       "NaN     58\n",
       "Name: Health, dtype: int64"
      ]
     },
     "execution_count": 70,
     "metadata": {},
     "output_type": "execute_result"
    }
   ],
   "source": [
    "data[\"Health\"].value_counts(dropna=False)"
   ]
  },
  {
   "cell_type": "code",
   "execution_count": 71,
   "metadata": {},
   "outputs": [],
   "source": [
    "data[np.nan] = 0."
   ]
  },
  {
   "cell_type": "markdown",
   "metadata": {},
   "source": [
    "Сам метод ближайших соседей"
   ]
  },
  {
   "cell_type": "code",
   "execution_count": 72,
   "metadata": {},
   "outputs": [],
   "source": [
    "imputer = KNNImputer(n_neighbors=19)\n",
    "data.iloc[:, 5:] = pandas.DataFrame(imputer.fit_transform(data.iloc[:, 2:])).iloc[:, 3:]"
   ]
  },
  {
   "cell_type": "code",
   "execution_count": 73,
   "metadata": {},
   "outputs": [
    {
     "data": {
      "text/plain": [
       "0.000000    584\n",
       "1.000000    358\n",
       "0.368421     12\n",
       "0.473684     11\n",
       "0.421053     11\n",
       "0.315789      8\n",
       "0.526316      5\n",
       "0.263158      5\n",
       "0.210526      2\n",
       "0.631579      2\n",
       "0.578947      1\n",
       "0.157895      1\n",
       "Name: Health, dtype: int64"
      ]
     },
     "execution_count": 73,
     "metadata": {},
     "output_type": "execute_result"
    }
   ],
   "source": [
    "data[\"Health\"].value_counts(dropna=False)"
   ]
  },
  {
   "cell_type": "code",
   "execution_count": 74,
   "metadata": {},
   "outputs": [
    {
     "data": {
      "text/html": [
       "<div>\n",
       "<style scoped>\n",
       "    .dataframe tbody tr th:only-of-type {\n",
       "        vertical-align: middle;\n",
       "    }\n",
       "\n",
       "    .dataframe tbody tr th {\n",
       "        vertical-align: top;\n",
       "    }\n",
       "\n",
       "    .dataframe thead th {\n",
       "        text-align: right;\n",
       "    }\n",
       "</style>\n",
       "<table border=\"1\" class=\"dataframe\">\n",
       "  <thead>\n",
       "    <tr style=\"text-align: right;\">\n",
       "      <th></th>\n",
       "      <th>Business</th>\n",
       "      <th>Family</th>\n",
       "      <th>Health</th>\n",
       "      <th>Leisure</th>\n",
       "      <th>Study</th>\n",
       "      <th>NaN</th>\n",
       "    </tr>\n",
       "  </thead>\n",
       "  <tbody>\n",
       "    <tr>\n",
       "      <th>0</th>\n",
       "      <td>0.0</td>\n",
       "      <td>0.0</td>\n",
       "      <td>1.0</td>\n",
       "      <td>0.0</td>\n",
       "      <td>0.0</td>\n",
       "      <td>0.0</td>\n",
       "    </tr>\n",
       "    <tr>\n",
       "      <th>1</th>\n",
       "      <td>0.0</td>\n",
       "      <td>0.0</td>\n",
       "      <td>0.0</td>\n",
       "      <td>0.0</td>\n",
       "      <td>1.0</td>\n",
       "      <td>0.0</td>\n",
       "    </tr>\n",
       "    <tr>\n",
       "      <th>2</th>\n",
       "      <td>0.0</td>\n",
       "      <td>1.0</td>\n",
       "      <td>0.0</td>\n",
       "      <td>0.0</td>\n",
       "      <td>0.0</td>\n",
       "      <td>0.0</td>\n",
       "    </tr>\n",
       "    <tr>\n",
       "      <th>3</th>\n",
       "      <td>0.0</td>\n",
       "      <td>0.0</td>\n",
       "      <td>1.0</td>\n",
       "      <td>0.0</td>\n",
       "      <td>0.0</td>\n",
       "      <td>0.0</td>\n",
       "    </tr>\n",
       "    <tr>\n",
       "      <th>4</th>\n",
       "      <td>0.0</td>\n",
       "      <td>0.0</td>\n",
       "      <td>1.0</td>\n",
       "      <td>0.0</td>\n",
       "      <td>0.0</td>\n",
       "      <td>0.0</td>\n",
       "    </tr>\n",
       "    <tr>\n",
       "      <th>...</th>\n",
       "      <td>...</td>\n",
       "      <td>...</td>\n",
       "      <td>...</td>\n",
       "      <td>...</td>\n",
       "      <td>...</td>\n",
       "      <td>...</td>\n",
       "    </tr>\n",
       "    <tr>\n",
       "      <th>995</th>\n",
       "      <td>0.0</td>\n",
       "      <td>0.0</td>\n",
       "      <td>0.0</td>\n",
       "      <td>1.0</td>\n",
       "      <td>0.0</td>\n",
       "      <td>0.0</td>\n",
       "    </tr>\n",
       "    <tr>\n",
       "      <th>996</th>\n",
       "      <td>0.0</td>\n",
       "      <td>0.0</td>\n",
       "      <td>1.0</td>\n",
       "      <td>0.0</td>\n",
       "      <td>0.0</td>\n",
       "      <td>0.0</td>\n",
       "    </tr>\n",
       "    <tr>\n",
       "      <th>997</th>\n",
       "      <td>0.0</td>\n",
       "      <td>0.0</td>\n",
       "      <td>0.0</td>\n",
       "      <td>0.0</td>\n",
       "      <td>1.0</td>\n",
       "      <td>0.0</td>\n",
       "    </tr>\n",
       "    <tr>\n",
       "      <th>998</th>\n",
       "      <td>0.0</td>\n",
       "      <td>0.0</td>\n",
       "      <td>1.0</td>\n",
       "      <td>0.0</td>\n",
       "      <td>0.0</td>\n",
       "      <td>0.0</td>\n",
       "    </tr>\n",
       "    <tr>\n",
       "      <th>999</th>\n",
       "      <td>0.0</td>\n",
       "      <td>1.0</td>\n",
       "      <td>0.0</td>\n",
       "      <td>0.0</td>\n",
       "      <td>0.0</td>\n",
       "      <td>0.0</td>\n",
       "    </tr>\n",
       "  </tbody>\n",
       "</table>\n",
       "<p>1000 rows × 6 columns</p>\n",
       "</div>"
      ],
      "text/plain": [
       "     Business  Family  Health  Leisure  Study  NaN\n",
       "0         0.0     0.0     1.0      0.0    0.0  0.0\n",
       "1         0.0     0.0     0.0      0.0    1.0  0.0\n",
       "2         0.0     1.0     0.0      0.0    0.0  0.0\n",
       "3         0.0     0.0     1.0      0.0    0.0  0.0\n",
       "4         0.0     0.0     1.0      0.0    0.0  0.0\n",
       "..        ...     ...     ...      ...    ...  ...\n",
       "995       0.0     0.0     0.0      1.0    0.0  0.0\n",
       "996       0.0     0.0     1.0      0.0    0.0  0.0\n",
       "997       0.0     0.0     0.0      0.0    1.0  0.0\n",
       "998       0.0     0.0     1.0      0.0    0.0  0.0\n",
       "999       0.0     1.0     0.0      0.0    0.0  0.0\n",
       "\n",
       "[1000 rows x 6 columns]"
      ]
     },
     "execution_count": 74,
     "metadata": {},
     "output_type": "execute_result"
    }
   ],
   "source": [
    "data.iloc[:, 5:]"
   ]
  },
  {
   "cell_type": "code",
   "execution_count": 75,
   "metadata": {},
   "outputs": [],
   "source": [
    "ohe = preprocessing.OneHotEncoder()\n",
    "ohe.fit(data[['cat8_motivesForTravelling']])\n",
    "data['cat8_motivesForTravelling'] = ohe.inverse_transform(data.iloc[:, 5:])"
   ]
  },
  {
   "cell_type": "code",
   "execution_count": 76,
   "metadata": {},
   "outputs": [
    {
     "data": {
      "text/plain": [
       "0       Health\n",
       "1        Study\n",
       "2       Family\n",
       "3       Health\n",
       "4       Health\n",
       "        ...   \n",
       "995    Leisure\n",
       "996     Health\n",
       "997      Study\n",
       "998     Health\n",
       "999     Family\n",
       "Name: cat8_motivesForTravelling, Length: 1000, dtype: object"
      ]
     },
     "execution_count": 76,
     "metadata": {},
     "output_type": "execute_result"
    }
   ],
   "source": [
    "data['cat8_motivesForTravelling']"
   ]
  },
  {
   "cell_type": "markdown",
   "metadata": {},
   "source": [
    "Удаление One-hot столбцов"
   ]
  },
  {
   "cell_type": "code",
   "execution_count": 77,
   "metadata": {},
   "outputs": [],
   "source": [
    "data.drop(list(data)[5:], axis=1, inplace=True)"
   ]
  },
  {
   "cell_type": "code",
   "execution_count": 78,
   "metadata": {},
   "outputs": [
    {
     "data": {
      "text/html": [
       "<div>\n",
       "<style scoped>\n",
       "    .dataframe tbody tr th:only-of-type {\n",
       "        vertical-align: middle;\n",
       "    }\n",
       "\n",
       "    .dataframe tbody tr th {\n",
       "        vertical-align: top;\n",
       "    }\n",
       "\n",
       "    .dataframe thead th {\n",
       "        text-align: right;\n",
       "    }\n",
       "</style>\n",
       "<table border=\"1\" class=\"dataframe\">\n",
       "  <thead>\n",
       "    <tr style=\"text-align: right;\">\n",
       "      <th></th>\n",
       "      <th>cat8_motivesForTravelling</th>\n",
       "      <th>cat6_brandOfSoaps</th>\n",
       "      <th>num1_16</th>\n",
       "      <th>num2_16</th>\n",
       "      <th>num3_16</th>\n",
       "    </tr>\n",
       "  </thead>\n",
       "  <tbody>\n",
       "    <tr>\n",
       "      <th>0</th>\n",
       "      <td>Health</td>\n",
       "      <td>Lux</td>\n",
       "      <td>873.769790</td>\n",
       "      <td>483.814054</td>\n",
       "      <td>116.806927</td>\n",
       "    </tr>\n",
       "    <tr>\n",
       "      <th>1</th>\n",
       "      <td>Study</td>\n",
       "      <td>Lux</td>\n",
       "      <td>720.562227</td>\n",
       "      <td>211.321139</td>\n",
       "      <td>98.264330</td>\n",
       "    </tr>\n",
       "    <tr>\n",
       "      <th>2</th>\n",
       "      <td>Family</td>\n",
       "      <td>Lux</td>\n",
       "      <td>1039.114671</td>\n",
       "      <td>244.149817</td>\n",
       "      <td>NaN</td>\n",
       "    </tr>\n",
       "    <tr>\n",
       "      <th>3</th>\n",
       "      <td>Health</td>\n",
       "      <td>Lux</td>\n",
       "      <td>712.038677</td>\n",
       "      <td>82.090022</td>\n",
       "      <td>116.613291</td>\n",
       "    </tr>\n",
       "    <tr>\n",
       "      <th>4</th>\n",
       "      <td>Health</td>\n",
       "      <td>Dove</td>\n",
       "      <td>864.677412</td>\n",
       "      <td>258.729918</td>\n",
       "      <td>146.187875</td>\n",
       "    </tr>\n",
       "    <tr>\n",
       "      <th>...</th>\n",
       "      <td>...</td>\n",
       "      <td>...</td>\n",
       "      <td>...</td>\n",
       "      <td>...</td>\n",
       "      <td>...</td>\n",
       "    </tr>\n",
       "    <tr>\n",
       "      <th>995</th>\n",
       "      <td>Leisure</td>\n",
       "      <td>Dove</td>\n",
       "      <td>678.416987</td>\n",
       "      <td>258.729918</td>\n",
       "      <td>94.634025</td>\n",
       "    </tr>\n",
       "    <tr>\n",
       "      <th>996</th>\n",
       "      <td>Health</td>\n",
       "      <td>Lux</td>\n",
       "      <td>974.740058</td>\n",
       "      <td>259.813573</td>\n",
       "      <td>140.970704</td>\n",
       "    </tr>\n",
       "    <tr>\n",
       "      <th>997</th>\n",
       "      <td>Study</td>\n",
       "      <td>Dove</td>\n",
       "      <td>752.479092</td>\n",
       "      <td>87.352380</td>\n",
       "      <td>120.055689</td>\n",
       "    </tr>\n",
       "    <tr>\n",
       "      <th>998</th>\n",
       "      <td>Health</td>\n",
       "      <td>Lux</td>\n",
       "      <td>847.430677</td>\n",
       "      <td>296.909229</td>\n",
       "      <td>NaN</td>\n",
       "    </tr>\n",
       "    <tr>\n",
       "      <th>999</th>\n",
       "      <td>Family</td>\n",
       "      <td>Lux</td>\n",
       "      <td>671.570314</td>\n",
       "      <td>258.729918</td>\n",
       "      <td>135.994887</td>\n",
       "    </tr>\n",
       "  </tbody>\n",
       "</table>\n",
       "<p>1000 rows × 5 columns</p>\n",
       "</div>"
      ],
      "text/plain": [
       "    cat8_motivesForTravelling cat6_brandOfSoaps      num1_16     num2_16  \\\n",
       "0                      Health               Lux   873.769790  483.814054   \n",
       "1                       Study               Lux   720.562227  211.321139   \n",
       "2                      Family               Lux  1039.114671  244.149817   \n",
       "3                      Health               Lux   712.038677   82.090022   \n",
       "4                      Health              Dove   864.677412  258.729918   \n",
       "..                        ...               ...          ...         ...   \n",
       "995                   Leisure              Dove   678.416987  258.729918   \n",
       "996                    Health               Lux   974.740058  259.813573   \n",
       "997                     Study              Dove   752.479092   87.352380   \n",
       "998                    Health               Lux   847.430677  296.909229   \n",
       "999                    Family               Lux   671.570314  258.729918   \n",
       "\n",
       "        num3_16  \n",
       "0    116.806927  \n",
       "1     98.264330  \n",
       "2           NaN  \n",
       "3    116.613291  \n",
       "4    146.187875  \n",
       "..          ...  \n",
       "995   94.634025  \n",
       "996  140.970704  \n",
       "997  120.055689  \n",
       "998         NaN  \n",
       "999  135.994887  \n",
       "\n",
       "[1000 rows x 5 columns]"
      ]
     },
     "execution_count": 78,
     "metadata": {},
     "output_type": "execute_result"
    }
   ],
   "source": [
    "data"
   ]
  },
  {
   "cell_type": "markdown",
   "metadata": {},
   "source": [
    "Визуализация"
   ]
  },
  {
   "cell_type": "code",
   "execution_count": 79,
   "metadata": {},
   "outputs": [
    {
     "data": {
      "image/png": "[encoded data removed]",
      "text/plain": [
       "<Figure size 1152x432 with 2 Axes>"
      ]
     },
     "metadata": {
      "needs_background": "light"
     },
     "output_type": "display_data"
    }
   ],
   "source": [
    "illustrate_qualitative_series(data['cat8_motivesForTravelling'])"
   ]
  },
  {
   "cell_type": "code",
   "execution_count": 80,
   "metadata": {},
   "outputs": [
    {
     "data": {
      "image/png": "[encoded data removed]",
      "text/plain": [
       "<Figure size 1152x432 with 2 Axes>"
      ]
     },
     "metadata": {
      "needs_background": "light"
     },
     "output_type": "display_data"
    }
   ],
   "source": [
    "illustrate_qualitative_series(data['cat8_motivesForTravelling'])"
   ]
  },
  {
   "cell_type": "markdown",
   "metadata": {},
   "source": [
    "## Поиск выбросов"
   ]
  },
  {
   "cell_type": "markdown",
   "metadata": {},
   "source": [
    "Метод квартилей"
   ]
  },
  {
   "cell_type": "code",
   "execution_count": 81,
   "metadata": {},
   "outputs": [
    {
     "name": "stderr",
     "output_type": "stream",
     "text": [
      "c:\\users\\alekc\\appdata\\local\\programs\\python\\python38\\lib\\site-packages\\seaborn\\_decorators.py:36: FutureWarning: Pass the following variable as a keyword arg: x. From version 0.12, the only valid positional argument will be `data`, and passing other arguments without an explicit keyword will result in an error or misinterpretation.\n",
      "  warnings.warn(\n"
     ]
    },
    {
     "data": {
      "image/png": "[encoded data removed]",
      "text/plain": [
       "<Figure size 1152x432 with 2 Axes>"
      ]
     },
     "metadata": {
      "needs_background": "light"
     },
     "output_type": "display_data"
    }
   ],
   "source": [
    "illustrate_quantity_series(data['num1_16'], bins_number=40)"
   ]
  },
  {
   "cell_type": "code",
   "execution_count": 82,
   "metadata": {},
   "outputs": [],
   "source": [
    "def quartile_method(column: pandas.Series):\n",
    "    q1 = column.quantile(0.25)\n",
    "    q3 = column.quantile(0.75)\n",
    "    IQR = q3 - q1\n",
    "    \n",
    "    return column[(column > (q1 - 1.5 * IQR)) & (column < (q3 + 1.5 * IQR))]"
   ]
  },
  {
   "cell_type": "code",
   "execution_count": 83,
   "metadata": {},
   "outputs": [
    {
     "name": "stderr",
     "output_type": "stream",
     "text": [
      "c:\\users\\alekc\\appdata\\local\\programs\\python\\python38\\lib\\site-packages\\seaborn\\_decorators.py:36: FutureWarning: Pass the following variable as a keyword arg: x. From version 0.12, the only valid positional argument will be `data`, and passing other arguments without an explicit keyword will result in an error or misinterpretation.\n",
      "  warnings.warn(\n"
     ]
    },
    {
     "data": {
      "image/png": "[encoded data removed]",
      "text/plain": [
       "<Figure size 1152x432 with 2 Axes>"
      ]
     },
     "metadata": {
      "needs_background": "light"
     },
     "output_type": "display_data"
    }
   ],
   "source": [
    "illustrate_quantity_series(quartile_method(data['num1_16']), bins_number=40)"
   ]
  },
  {
   "cell_type": "markdown",
   "metadata": {},
   "source": [
    "Метод сигм"
   ]
  },
  {
   "cell_type": "code",
   "execution_count": 67,
   "metadata": {},
   "outputs": [],
   "source": [
    "min_val = sigmaclip(data['num1_16'])[1]\n",
    "max_val = sigmaclip(data['num1_16'])[2]"
   ]
  },
  {
   "cell_type": "code",
   "execution_count": 68,
   "metadata": {},
   "outputs": [
    {
     "data": {
      "text/html": [
       "<div>\n",
       "<style scoped>\n",
       "    .dataframe tbody tr th:only-of-type {\n",
       "        vertical-align: middle;\n",
       "    }\n",
       "\n",
       "    .dataframe tbody tr th {\n",
       "        vertical-align: top;\n",
       "    }\n",
       "\n",
       "    .dataframe thead th {\n",
       "        text-align: right;\n",
       "    }\n",
       "</style>\n",
       "<table border=\"1\" class=\"dataframe\">\n",
       "  <thead>\n",
       "    <tr style=\"text-align: right;\">\n",
       "      <th></th>\n",
       "      <th>cat8_motivesForTravelling</th>\n",
       "      <th>cat6_brandOfSoaps</th>\n",
       "      <th>num1_16</th>\n",
       "      <th>num2_16</th>\n",
       "      <th>num3_16</th>\n",
       "    </tr>\n",
       "  </thead>\n",
       "  <tbody>\n",
       "    <tr>\n",
       "      <th>0</th>\n",
       "      <td>Health</td>\n",
       "      <td>Lux</td>\n",
       "      <td>873.769790</td>\n",
       "      <td>483.814054</td>\n",
       "      <td>116.806927</td>\n",
       "    </tr>\n",
       "    <tr>\n",
       "      <th>1</th>\n",
       "      <td>Study</td>\n",
       "      <td>Lux</td>\n",
       "      <td>720.562227</td>\n",
       "      <td>211.321139</td>\n",
       "      <td>98.264330</td>\n",
       "    </tr>\n",
       "    <tr>\n",
       "      <th>2</th>\n",
       "      <td>Family</td>\n",
       "      <td>Lux</td>\n",
       "      <td>1039.114671</td>\n",
       "      <td>244.149817</td>\n",
       "      <td>NaN</td>\n",
       "    </tr>\n",
       "    <tr>\n",
       "      <th>3</th>\n",
       "      <td>Health</td>\n",
       "      <td>Lux</td>\n",
       "      <td>712.038677</td>\n",
       "      <td>82.090022</td>\n",
       "      <td>116.613291</td>\n",
       "    </tr>\n",
       "    <tr>\n",
       "      <th>4</th>\n",
       "      <td>Health</td>\n",
       "      <td>Dove</td>\n",
       "      <td>864.677412</td>\n",
       "      <td>258.729918</td>\n",
       "      <td>146.187875</td>\n",
       "    </tr>\n",
       "    <tr>\n",
       "      <th>...</th>\n",
       "      <td>...</td>\n",
       "      <td>...</td>\n",
       "      <td>...</td>\n",
       "      <td>...</td>\n",
       "      <td>...</td>\n",
       "    </tr>\n",
       "    <tr>\n",
       "      <th>995</th>\n",
       "      <td>Leisure</td>\n",
       "      <td>Dove</td>\n",
       "      <td>678.416987</td>\n",
       "      <td>258.729918</td>\n",
       "      <td>94.634025</td>\n",
       "    </tr>\n",
       "    <tr>\n",
       "      <th>996</th>\n",
       "      <td>Health</td>\n",
       "      <td>Lux</td>\n",
       "      <td>974.740058</td>\n",
       "      <td>259.813573</td>\n",
       "      <td>140.970704</td>\n",
       "    </tr>\n",
       "    <tr>\n",
       "      <th>997</th>\n",
       "      <td>Study</td>\n",
       "      <td>Dove</td>\n",
       "      <td>752.479092</td>\n",
       "      <td>87.352380</td>\n",
       "      <td>120.055689</td>\n",
       "    </tr>\n",
       "    <tr>\n",
       "      <th>998</th>\n",
       "      <td>Health</td>\n",
       "      <td>Lux</td>\n",
       "      <td>847.430677</td>\n",
       "      <td>296.909229</td>\n",
       "      <td>NaN</td>\n",
       "    </tr>\n",
       "    <tr>\n",
       "      <th>999</th>\n",
       "      <td>Family</td>\n",
       "      <td>Lux</td>\n",
       "      <td>671.570314</td>\n",
       "      <td>258.729918</td>\n",
       "      <td>135.994887</td>\n",
       "    </tr>\n",
       "  </tbody>\n",
       "</table>\n",
       "<p>951 rows × 5 columns</p>\n",
       "</div>"
      ],
      "text/plain": [
       "    cat8_motivesForTravelling cat6_brandOfSoaps      num1_16     num2_16  \\\n",
       "0                      Health               Lux   873.769790  483.814054   \n",
       "1                       Study               Lux   720.562227  211.321139   \n",
       "2                      Family               Lux  1039.114671  244.149817   \n",
       "3                      Health               Lux   712.038677   82.090022   \n",
       "4                      Health              Dove   864.677412  258.729918   \n",
       "..                        ...               ...          ...         ...   \n",
       "995                   Leisure              Dove   678.416987  258.729918   \n",
       "996                    Health               Lux   974.740058  259.813573   \n",
       "997                     Study              Dove   752.479092   87.352380   \n",
       "998                    Health               Lux   847.430677  296.909229   \n",
       "999                    Family               Lux   671.570314  258.729918   \n",
       "\n",
       "        num3_16  \n",
       "0    116.806927  \n",
       "1     98.264330  \n",
       "2           NaN  \n",
       "3    116.613291  \n",
       "4    146.187875  \n",
       "..          ...  \n",
       "995   94.634025  \n",
       "996  140.970704  \n",
       "997  120.055689  \n",
       "998         NaN  \n",
       "999  135.994887  \n",
       "\n",
       "[951 rows x 5 columns]"
      ]
     },
     "execution_count": 68,
     "metadata": {},
     "output_type": "execute_result"
    }
   ],
   "source": [
    "data[(data['num1_16'] >= min_val) & (data['num1_16'] < max_val)]"
   ]
  },
  {
   "cell_type": "code",
   "execution_count": 69,
   "metadata": {},
   "outputs": [
    {
     "name": "stderr",
     "output_type": "stream",
     "text": [
      "c:\\python38\\lib\\site-packages\\seaborn\\_decorators.py:36: FutureWarning: Pass the following variable as a keyword arg: x. From version 0.12, the only valid positional argument will be `data`, and passing other arguments without an explicit keyword will result in an error or misinterpretation.\n",
      "  warnings.warn(\n"
     ]
    },
    {
     "data": {
      "image/png": "[encoded data removed]",
      "text/plain": [
       "<Figure size 1152x432 with 2 Axes>"
      ]
     },
     "metadata": {
      "needs_background": "light"
     },
     "output_type": "display_data"
    }
   ],
   "source": [
    "illustrate_quantity_series(quartile_method(data['num1_16']), bins_number=40)"
   ]
  },
  {
   "cell_type": "markdown",
   "metadata": {},
   "source": [
    "## Преобразование данных"
   ]
  },
  {
   "cell_type": "markdown",
   "metadata": {},
   "source": [
    "Нормализация количественных переменных"
   ]
  },
  {
   "cell_type": "code",
   "execution_count": 70,
   "metadata": {},
   "outputs": [],
   "source": [
    "min_max_scaler = preprocessing.MinMaxScaler()\n",
    "data[['num1_16', 'num2_16', 'num3_16']] = min_max_scaler.fit_transform(data[['num1_16', 'num2_16', 'num3_16']])"
   ]
  },
  {
   "cell_type": "code",
   "execution_count": 71,
   "metadata": {},
   "outputs": [
    {
     "data": {
      "text/html": [
       "<div>\n",
       "<style scoped>\n",
       "    .dataframe tbody tr th:only-of-type {\n",
       "        vertical-align: middle;\n",
       "    }\n",
       "\n",
       "    .dataframe tbody tr th {\n",
       "        vertical-align: top;\n",
       "    }\n",
       "\n",
       "    .dataframe thead th {\n",
       "        text-align: right;\n",
       "    }\n",
       "</style>\n",
       "<table border=\"1\" class=\"dataframe\">\n",
       "  <thead>\n",
       "    <tr style=\"text-align: right;\">\n",
       "      <th></th>\n",
       "      <th>num1_16</th>\n",
       "      <th>num2_16</th>\n",
       "      <th>num3_16</th>\n",
       "    </tr>\n",
       "  </thead>\n",
       "  <tbody>\n",
       "    <tr>\n",
       "      <th>0</th>\n",
       "      <td>0.957020</td>\n",
       "      <td>0.652718</td>\n",
       "      <td>0.459491</td>\n",
       "    </tr>\n",
       "    <tr>\n",
       "      <th>1</th>\n",
       "      <td>0.943534</td>\n",
       "      <td>0.465423</td>\n",
       "      <td>0.304768</td>\n",
       "    </tr>\n",
       "    <tr>\n",
       "      <th>2</th>\n",
       "      <td>0.971573</td>\n",
       "      <td>0.487987</td>\n",
       "      <td>NaN</td>\n",
       "    </tr>\n",
       "    <tr>\n",
       "      <th>3</th>\n",
       "      <td>0.942784</td>\n",
       "      <td>0.376597</td>\n",
       "      <td>0.457875</td>\n",
       "    </tr>\n",
       "    <tr>\n",
       "      <th>4</th>\n",
       "      <td>0.956219</td>\n",
       "      <td>0.498009</td>\n",
       "      <td>0.704651</td>\n",
       "    </tr>\n",
       "    <tr>\n",
       "      <th>...</th>\n",
       "      <td>...</td>\n",
       "      <td>...</td>\n",
       "      <td>...</td>\n",
       "    </tr>\n",
       "    <tr>\n",
       "      <th>995</th>\n",
       "      <td>0.939825</td>\n",
       "      <td>0.498009</td>\n",
       "      <td>0.274477</td>\n",
       "    </tr>\n",
       "    <tr>\n",
       "      <th>996</th>\n",
       "      <td>0.965907</td>\n",
       "      <td>0.498754</td>\n",
       "      <td>0.661118</td>\n",
       "    </tr>\n",
       "    <tr>\n",
       "      <th>997</th>\n",
       "      <td>0.946344</td>\n",
       "      <td>0.380214</td>\n",
       "      <td>0.486599</td>\n",
       "    </tr>\n",
       "    <tr>\n",
       "      <th>998</th>\n",
       "      <td>0.954701</td>\n",
       "      <td>0.524251</td>\n",
       "      <td>NaN</td>\n",
       "    </tr>\n",
       "    <tr>\n",
       "      <th>999</th>\n",
       "      <td>0.939222</td>\n",
       "      <td>0.498009</td>\n",
       "      <td>0.619599</td>\n",
       "    </tr>\n",
       "  </tbody>\n",
       "</table>\n",
       "<p>1000 rows × 3 columns</p>\n",
       "</div>"
      ],
      "text/plain": [
       "      num1_16   num2_16   num3_16\n",
       "0    0.957020  0.652718  0.459491\n",
       "1    0.943534  0.465423  0.304768\n",
       "2    0.971573  0.487987       NaN\n",
       "3    0.942784  0.376597  0.457875\n",
       "4    0.956219  0.498009  0.704651\n",
       "..        ...       ...       ...\n",
       "995  0.939825  0.498009  0.274477\n",
       "996  0.965907  0.498754  0.661118\n",
       "997  0.946344  0.380214  0.486599\n",
       "998  0.954701  0.524251       NaN\n",
       "999  0.939222  0.498009  0.619599\n",
       "\n",
       "[1000 rows x 3 columns]"
      ]
     },
     "execution_count": 71,
     "metadata": {},
     "output_type": "execute_result"
    }
   ],
   "source": [
    "data[['num1_16', 'num2_16', 'num3_16']]"
   ]
  },
  {
   "cell_type": "code",
   "execution_count": 72,
   "metadata": {},
   "outputs": [
    {
     "name": "stderr",
     "output_type": "stream",
     "text": [
      "c:\\python38\\lib\\site-packages\\seaborn\\_decorators.py:36: FutureWarning: Pass the following variable as a keyword arg: x. From version 0.12, the only valid positional argument will be `data`, and passing other arguments without an explicit keyword will result in an error or misinterpretation.\n",
      "  warnings.warn(\n"
     ]
    },
    {
     "data": {
      "image/png": "[encoded data removed]",
      "text/plain": [
       "<Figure size 1152x432 with 2 Axes>"
      ]
     },
     "metadata": {
      "needs_background": "light"
     },
     "output_type": "display_data"
    }
   ],
   "source": [
    "illustrate_quantity_series(data['num1_16'])"
   ]
  },
  {
   "cell_type": "markdown",
   "metadata": {},
   "source": [
    "Стандартизация количественных переменных"
   ]
  },
  {
   "cell_type": "code",
   "execution_count": 73,
   "metadata": {},
   "outputs": [],
   "source": [
    "standard_scaler = preprocessing.StandardScaler()\n",
    "data[['num1_16', 'num2_16', 'num3_16']] = standard_scaler.fit_transform(data[['num1_16', 'num2_16', 'num3_16']])"
   ]
  },
  {
   "cell_type": "code",
   "execution_count": 74,
   "metadata": {},
   "outputs": [
    {
     "data": {
      "text/html": [
       "<div>\n",
       "<style scoped>\n",
       "    .dataframe tbody tr th:only-of-type {\n",
       "        vertical-align: middle;\n",
       "    }\n",
       "\n",
       "    .dataframe tbody tr th {\n",
       "        vertical-align: top;\n",
       "    }\n",
       "\n",
       "    .dataframe thead th {\n",
       "        text-align: right;\n",
       "    }\n",
       "</style>\n",
       "<table border=\"1\" class=\"dataframe\">\n",
       "  <thead>\n",
       "    <tr style=\"text-align: right;\">\n",
       "      <th></th>\n",
       "      <th>num1_16</th>\n",
       "      <th>num2_16</th>\n",
       "      <th>num3_16</th>\n",
       "    </tr>\n",
       "  </thead>\n",
       "  <tbody>\n",
       "    <tr>\n",
       "      <th>0</th>\n",
       "      <td>0.243934</td>\n",
       "      <td>0.967802</td>\n",
       "      <td>-0.251658</td>\n",
       "    </tr>\n",
       "    <tr>\n",
       "      <th>1</th>\n",
       "      <td>0.178553</td>\n",
       "      <td>-0.227410</td>\n",
       "      <td>-1.254600</td>\n",
       "    </tr>\n",
       "    <tr>\n",
       "      <th>2</th>\n",
       "      <td>0.314495</td>\n",
       "      <td>-0.083416</td>\n",
       "      <td>NaN</td>\n",
       "    </tr>\n",
       "    <tr>\n",
       "      <th>3</th>\n",
       "      <td>0.174916</td>\n",
       "      <td>-0.794245</td>\n",
       "      <td>-0.262131</td>\n",
       "    </tr>\n",
       "    <tr>\n",
       "      <th>4</th>\n",
       "      <td>0.240054</td>\n",
       "      <td>-0.019465</td>\n",
       "      <td>1.337515</td>\n",
       "    </tr>\n",
       "    <tr>\n",
       "      <th>...</th>\n",
       "      <td>...</td>\n",
       "      <td>...</td>\n",
       "      <td>...</td>\n",
       "    </tr>\n",
       "    <tr>\n",
       "      <th>995</th>\n",
       "      <td>0.160568</td>\n",
       "      <td>-0.019465</td>\n",
       "      <td>-1.450958</td>\n",
       "    </tr>\n",
       "    <tr>\n",
       "      <th>996</th>\n",
       "      <td>0.287023</td>\n",
       "      <td>-0.014712</td>\n",
       "      <td>1.055326</td>\n",
       "    </tr>\n",
       "    <tr>\n",
       "      <th>997</th>\n",
       "      <td>0.192174</td>\n",
       "      <td>-0.771163</td>\n",
       "      <td>-0.075937</td>\n",
       "    </tr>\n",
       "    <tr>\n",
       "      <th>998</th>\n",
       "      <td>0.232694</td>\n",
       "      <td>0.147998</td>\n",
       "      <td>NaN</td>\n",
       "    </tr>\n",
       "    <tr>\n",
       "      <th>999</th>\n",
       "      <td>0.157646</td>\n",
       "      <td>-0.019465</td>\n",
       "      <td>0.786191</td>\n",
       "    </tr>\n",
       "  </tbody>\n",
       "</table>\n",
       "<p>1000 rows × 3 columns</p>\n",
       "</div>"
      ],
      "text/plain": [
       "      num1_16   num2_16   num3_16\n",
       "0    0.243934  0.967802 -0.251658\n",
       "1    0.178553 -0.227410 -1.254600\n",
       "2    0.314495 -0.083416       NaN\n",
       "3    0.174916 -0.794245 -0.262131\n",
       "4    0.240054 -0.019465  1.337515\n",
       "..        ...       ...       ...\n",
       "995  0.160568 -0.019465 -1.450958\n",
       "996  0.287023 -0.014712  1.055326\n",
       "997  0.192174 -0.771163 -0.075937\n",
       "998  0.232694  0.147998       NaN\n",
       "999  0.157646 -0.019465  0.786191\n",
       "\n",
       "[1000 rows x 3 columns]"
      ]
     },
     "execution_count": 74,
     "metadata": {},
     "output_type": "execute_result"
    }
   ],
   "source": [
    "data[['num1_16', 'num2_16', 'num3_16']]"
   ]
  },
  {
   "cell_type": "code",
   "execution_count": 75,
   "metadata": {
    "scrolled": true
   },
   "outputs": [
    {
     "name": "stderr",
     "output_type": "stream",
     "text": [
      "c:\\python38\\lib\\site-packages\\seaborn\\_decorators.py:36: FutureWarning: Pass the following variable as a keyword arg: x. From version 0.12, the only valid positional argument will be `data`, and passing other arguments without an explicit keyword will result in an error or misinterpretation.\n",
      "  warnings.warn(\n"
     ]
    },
    {
     "data": {
      "image/png": "[encoded data removed]",
      "text/plain": [
       "<Figure size 1152x432 with 2 Axes>"
      ]
     },
     "metadata": {
      "needs_background": "light"
     },
     "output_type": "display_data"
    }
   ],
   "source": [
    "illustrate_quantity_series(data['num2_16'], bins_number=40)"
   ]
  },
  {
   "cell_type": "markdown",
   "metadata": {},
   "source": [
    "One-hot encoding для первого качественного столбца"
   ]
  },
  {
   "cell_type": "code",
   "execution_count": 76,
   "metadata": {},
   "outputs": [],
   "source": [
    "tmp = pandas.get_dummies(data.cat8_motivesForTravelling)\n",
    "data = pandas.concat([data, tmp], axis=1)"
   ]
  },
  {
   "cell_type": "code",
   "execution_count": 77,
   "metadata": {},
   "outputs": [],
   "source": [
    "del data['cat8_motivesForTravelling']"
   ]
  },
  {
   "cell_type": "code",
   "execution_count": 78,
   "metadata": {},
   "outputs": [
    {
     "data": {
      "text/html": [
       "<div>\n",
       "<style scoped>\n",
       "    .dataframe tbody tr th:only-of-type {\n",
       "        vertical-align: middle;\n",
       "    }\n",
       "\n",
       "    .dataframe tbody tr th {\n",
       "        vertical-align: top;\n",
       "    }\n",
       "\n",
       "    .dataframe thead th {\n",
       "        text-align: right;\n",
       "    }\n",
       "</style>\n",
       "<table border=\"1\" class=\"dataframe\">\n",
       "  <thead>\n",
       "    <tr style=\"text-align: right;\">\n",
       "      <th></th>\n",
       "      <th>cat6_brandOfSoaps</th>\n",
       "      <th>num1_16</th>\n",
       "      <th>num2_16</th>\n",
       "      <th>num3_16</th>\n",
       "      <th>Business</th>\n",
       "      <th>Family</th>\n",
       "      <th>Health</th>\n",
       "      <th>Leisure</th>\n",
       "      <th>Study</th>\n",
       "    </tr>\n",
       "  </thead>\n",
       "  <tbody>\n",
       "    <tr>\n",
       "      <th>0</th>\n",
       "      <td>Lux</td>\n",
       "      <td>0.243934</td>\n",
       "      <td>0.967802</td>\n",
       "      <td>-0.251658</td>\n",
       "      <td>0</td>\n",
       "      <td>0</td>\n",
       "      <td>1</td>\n",
       "      <td>0</td>\n",
       "      <td>0</td>\n",
       "    </tr>\n",
       "    <tr>\n",
       "      <th>1</th>\n",
       "      <td>Lux</td>\n",
       "      <td>0.178553</td>\n",
       "      <td>-0.227410</td>\n",
       "      <td>-1.254600</td>\n",
       "      <td>0</td>\n",
       "      <td>0</td>\n",
       "      <td>0</td>\n",
       "      <td>0</td>\n",
       "      <td>1</td>\n",
       "    </tr>\n",
       "    <tr>\n",
       "      <th>2</th>\n",
       "      <td>Lux</td>\n",
       "      <td>0.314495</td>\n",
       "      <td>-0.083416</td>\n",
       "      <td>NaN</td>\n",
       "      <td>0</td>\n",
       "      <td>1</td>\n",
       "      <td>0</td>\n",
       "      <td>0</td>\n",
       "      <td>0</td>\n",
       "    </tr>\n",
       "    <tr>\n",
       "      <th>3</th>\n",
       "      <td>Lux</td>\n",
       "      <td>0.174916</td>\n",
       "      <td>-0.794245</td>\n",
       "      <td>-0.262131</td>\n",
       "      <td>0</td>\n",
       "      <td>0</td>\n",
       "      <td>1</td>\n",
       "      <td>0</td>\n",
       "      <td>0</td>\n",
       "    </tr>\n",
       "    <tr>\n",
       "      <th>4</th>\n",
       "      <td>Dove</td>\n",
       "      <td>0.240054</td>\n",
       "      <td>-0.019465</td>\n",
       "      <td>1.337515</td>\n",
       "      <td>0</td>\n",
       "      <td>0</td>\n",
       "      <td>1</td>\n",
       "      <td>0</td>\n",
       "      <td>0</td>\n",
       "    </tr>\n",
       "    <tr>\n",
       "      <th>...</th>\n",
       "      <td>...</td>\n",
       "      <td>...</td>\n",
       "      <td>...</td>\n",
       "      <td>...</td>\n",
       "      <td>...</td>\n",
       "      <td>...</td>\n",
       "      <td>...</td>\n",
       "      <td>...</td>\n",
       "      <td>...</td>\n",
       "    </tr>\n",
       "    <tr>\n",
       "      <th>995</th>\n",
       "      <td>Dove</td>\n",
       "      <td>0.160568</td>\n",
       "      <td>-0.019465</td>\n",
       "      <td>-1.450958</td>\n",
       "      <td>0</td>\n",
       "      <td>0</td>\n",
       "      <td>0</td>\n",
       "      <td>1</td>\n",
       "      <td>0</td>\n",
       "    </tr>\n",
       "    <tr>\n",
       "      <th>996</th>\n",
       "      <td>Lux</td>\n",
       "      <td>0.287023</td>\n",
       "      <td>-0.014712</td>\n",
       "      <td>1.055326</td>\n",
       "      <td>0</td>\n",
       "      <td>0</td>\n",
       "      <td>1</td>\n",
       "      <td>0</td>\n",
       "      <td>0</td>\n",
       "    </tr>\n",
       "    <tr>\n",
       "      <th>997</th>\n",
       "      <td>Dove</td>\n",
       "      <td>0.192174</td>\n",
       "      <td>-0.771163</td>\n",
       "      <td>-0.075937</td>\n",
       "      <td>0</td>\n",
       "      <td>0</td>\n",
       "      <td>0</td>\n",
       "      <td>0</td>\n",
       "      <td>1</td>\n",
       "    </tr>\n",
       "    <tr>\n",
       "      <th>998</th>\n",
       "      <td>Lux</td>\n",
       "      <td>0.232694</td>\n",
       "      <td>0.147998</td>\n",
       "      <td>NaN</td>\n",
       "      <td>0</td>\n",
       "      <td>0</td>\n",
       "      <td>1</td>\n",
       "      <td>0</td>\n",
       "      <td>0</td>\n",
       "    </tr>\n",
       "    <tr>\n",
       "      <th>999</th>\n",
       "      <td>Lux</td>\n",
       "      <td>0.157646</td>\n",
       "      <td>-0.019465</td>\n",
       "      <td>0.786191</td>\n",
       "      <td>0</td>\n",
       "      <td>1</td>\n",
       "      <td>0</td>\n",
       "      <td>0</td>\n",
       "      <td>0</td>\n",
       "    </tr>\n",
       "  </tbody>\n",
       "</table>\n",
       "<p>1000 rows × 9 columns</p>\n",
       "</div>"
      ],
      "text/plain": [
       "    cat6_brandOfSoaps   num1_16   num2_16   num3_16  Business  Family  Health  \\\n",
       "0                 Lux  0.243934  0.967802 -0.251658         0       0       1   \n",
       "1                 Lux  0.178553 -0.227410 -1.254600         0       0       0   \n",
       "2                 Lux  0.314495 -0.083416       NaN         0       1       0   \n",
       "3                 Lux  0.174916 -0.794245 -0.262131         0       0       1   \n",
       "4                Dove  0.240054 -0.019465  1.337515         0       0       1   \n",
       "..                ...       ...       ...       ...       ...     ...     ...   \n",
       "995              Dove  0.160568 -0.019465 -1.450958         0       0       0   \n",
       "996               Lux  0.287023 -0.014712  1.055326         0       0       1   \n",
       "997              Dove  0.192174 -0.771163 -0.075937         0       0       0   \n",
       "998               Lux  0.232694  0.147998       NaN         0       0       1   \n",
       "999               Lux  0.157646 -0.019465  0.786191         0       1       0   \n",
       "\n",
       "     Leisure  Study  \n",
       "0          0      0  \n",
       "1          0      1  \n",
       "2          0      0  \n",
       "3          0      0  \n",
       "4          0      0  \n",
       "..       ...    ...  \n",
       "995        1      0  \n",
       "996        0      0  \n",
       "997        0      1  \n",
       "998        0      0  \n",
       "999        0      0  \n",
       "\n",
       "[1000 rows x 9 columns]"
      ]
     },
     "execution_count": 78,
     "metadata": {},
     "output_type": "execute_result"
    }
   ],
   "source": [
    "data"
   ]
  },
  {
   "cell_type": "markdown",
   "metadata": {},
   "source": [
    "Label-encoding для второго столбца"
   ]
  },
  {
   "cell_type": "code",
   "execution_count": 79,
   "metadata": {},
   "outputs": [],
   "source": [
    "label_encoder = preprocessing.LabelEncoder()\n",
    "\n",
    "data['cat6_brandOfSoaps'] = label_encoder.fit_transform(data['cat6_brandOfSoaps'])"
   ]
  },
  {
   "cell_type": "code",
   "execution_count": 80,
   "metadata": {},
   "outputs": [
    {
     "data": {
      "text/html": [
       "<div>\n",
       "<style scoped>\n",
       "    .dataframe tbody tr th:only-of-type {\n",
       "        vertical-align: middle;\n",
       "    }\n",
       "\n",
       "    .dataframe tbody tr th {\n",
       "        vertical-align: top;\n",
       "    }\n",
       "\n",
       "    .dataframe thead th {\n",
       "        text-align: right;\n",
       "    }\n",
       "</style>\n",
       "<table border=\"1\" class=\"dataframe\">\n",
       "  <thead>\n",
       "    <tr style=\"text-align: right;\">\n",
       "      <th></th>\n",
       "      <th>cat6_brandOfSoaps</th>\n",
       "      <th>num1_16</th>\n",
       "      <th>num2_16</th>\n",
       "      <th>num3_16</th>\n",
       "      <th>Business</th>\n",
       "      <th>Family</th>\n",
       "      <th>Health</th>\n",
       "      <th>Leisure</th>\n",
       "      <th>Study</th>\n",
       "    </tr>\n",
       "  </thead>\n",
       "  <tbody>\n",
       "    <tr>\n",
       "      <th>0</th>\n",
       "      <td>1</td>\n",
       "      <td>0.243934</td>\n",
       "      <td>0.967802</td>\n",
       "      <td>-0.251658</td>\n",
       "      <td>0</td>\n",
       "      <td>0</td>\n",
       "      <td>1</td>\n",
       "      <td>0</td>\n",
       "      <td>0</td>\n",
       "    </tr>\n",
       "    <tr>\n",
       "      <th>1</th>\n",
       "      <td>1</td>\n",
       "      <td>0.178553</td>\n",
       "      <td>-0.227410</td>\n",
       "      <td>-1.254600</td>\n",
       "      <td>0</td>\n",
       "      <td>0</td>\n",
       "      <td>0</td>\n",
       "      <td>0</td>\n",
       "      <td>1</td>\n",
       "    </tr>\n",
       "    <tr>\n",
       "      <th>2</th>\n",
       "      <td>1</td>\n",
       "      <td>0.314495</td>\n",
       "      <td>-0.083416</td>\n",
       "      <td>NaN</td>\n",
       "      <td>0</td>\n",
       "      <td>1</td>\n",
       "      <td>0</td>\n",
       "      <td>0</td>\n",
       "      <td>0</td>\n",
       "    </tr>\n",
       "    <tr>\n",
       "      <th>3</th>\n",
       "      <td>1</td>\n",
       "      <td>0.174916</td>\n",
       "      <td>-0.794245</td>\n",
       "      <td>-0.262131</td>\n",
       "      <td>0</td>\n",
       "      <td>0</td>\n",
       "      <td>1</td>\n",
       "      <td>0</td>\n",
       "      <td>0</td>\n",
       "    </tr>\n",
       "    <tr>\n",
       "      <th>4</th>\n",
       "      <td>0</td>\n",
       "      <td>0.240054</td>\n",
       "      <td>-0.019465</td>\n",
       "      <td>1.337515</td>\n",
       "      <td>0</td>\n",
       "      <td>0</td>\n",
       "      <td>1</td>\n",
       "      <td>0</td>\n",
       "      <td>0</td>\n",
       "    </tr>\n",
       "    <tr>\n",
       "      <th>...</th>\n",
       "      <td>...</td>\n",
       "      <td>...</td>\n",
       "      <td>...</td>\n",
       "      <td>...</td>\n",
       "      <td>...</td>\n",
       "      <td>...</td>\n",
       "      <td>...</td>\n",
       "      <td>...</td>\n",
       "      <td>...</td>\n",
       "    </tr>\n",
       "    <tr>\n",
       "      <th>995</th>\n",
       "      <td>0</td>\n",
       "      <td>0.160568</td>\n",
       "      <td>-0.019465</td>\n",
       "      <td>-1.450958</td>\n",
       "      <td>0</td>\n",
       "      <td>0</td>\n",
       "      <td>0</td>\n",
       "      <td>1</td>\n",
       "      <td>0</td>\n",
       "    </tr>\n",
       "    <tr>\n",
       "      <th>996</th>\n",
       "      <td>1</td>\n",
       "      <td>0.287023</td>\n",
       "      <td>-0.014712</td>\n",
       "      <td>1.055326</td>\n",
       "      <td>0</td>\n",
       "      <td>0</td>\n",
       "      <td>1</td>\n",
       "      <td>0</td>\n",
       "      <td>0</td>\n",
       "    </tr>\n",
       "    <tr>\n",
       "      <th>997</th>\n",
       "      <td>0</td>\n",
       "      <td>0.192174</td>\n",
       "      <td>-0.771163</td>\n",
       "      <td>-0.075937</td>\n",
       "      <td>0</td>\n",
       "      <td>0</td>\n",
       "      <td>0</td>\n",
       "      <td>0</td>\n",
       "      <td>1</td>\n",
       "    </tr>\n",
       "    <tr>\n",
       "      <th>998</th>\n",
       "      <td>1</td>\n",
       "      <td>0.232694</td>\n",
       "      <td>0.147998</td>\n",
       "      <td>NaN</td>\n",
       "      <td>0</td>\n",
       "      <td>0</td>\n",
       "      <td>1</td>\n",
       "      <td>0</td>\n",
       "      <td>0</td>\n",
       "    </tr>\n",
       "    <tr>\n",
       "      <th>999</th>\n",
       "      <td>1</td>\n",
       "      <td>0.157646</td>\n",
       "      <td>-0.019465</td>\n",
       "      <td>0.786191</td>\n",
       "      <td>0</td>\n",
       "      <td>1</td>\n",
       "      <td>0</td>\n",
       "      <td>0</td>\n",
       "      <td>0</td>\n",
       "    </tr>\n",
       "  </tbody>\n",
       "</table>\n",
       "<p>1000 rows × 9 columns</p>\n",
       "</div>"
      ],
      "text/plain": [
       "     cat6_brandOfSoaps   num1_16   num2_16   num3_16  Business  Family  \\\n",
       "0                    1  0.243934  0.967802 -0.251658         0       0   \n",
       "1                    1  0.178553 -0.227410 -1.254600         0       0   \n",
       "2                    1  0.314495 -0.083416       NaN         0       1   \n",
       "3                    1  0.174916 -0.794245 -0.262131         0       0   \n",
       "4                    0  0.240054 -0.019465  1.337515         0       0   \n",
       "..                 ...       ...       ...       ...       ...     ...   \n",
       "995                  0  0.160568 -0.019465 -1.450958         0       0   \n",
       "996                  1  0.287023 -0.014712  1.055326         0       0   \n",
       "997                  0  0.192174 -0.771163 -0.075937         0       0   \n",
       "998                  1  0.232694  0.147998       NaN         0       0   \n",
       "999                  1  0.157646 -0.019465  0.786191         0       1   \n",
       "\n",
       "     Health  Leisure  Study  \n",
       "0         1        0      0  \n",
       "1         0        0      1  \n",
       "2         0        0      0  \n",
       "3         1        0      0  \n",
       "4         1        0      0  \n",
       "..      ...      ...    ...  \n",
       "995       0        1      0  \n",
       "996       1        0      0  \n",
       "997       0        0      1  \n",
       "998       1        0      0  \n",
       "999       0        0      0  \n",
       "\n",
       "[1000 rows x 9 columns]"
      ]
     },
     "execution_count": 80,
     "metadata": {},
     "output_type": "execute_result"
    }
   ],
   "source": [
    "data"
   ]
  }
 ],
 "metadata": {
  "kernelspec": {
   "display_name": "Python 3 (ipykernel)",
   "language": "python",
   "name": "python3"
  },
  "language_info": {
   "codemirror_mode": {
    "name": "ipython",
    "version": 3
   },
   "file_extension": ".py",
   "mimetype": "text/x-python",
   "name": "python",
   "nbconvert_exporter": "python",
   "pygments_lexer": "ipython3",
   "version": "3.8.6"
  }
 },
 "nbformat": 4,
 "nbformat_minor": 2
}
