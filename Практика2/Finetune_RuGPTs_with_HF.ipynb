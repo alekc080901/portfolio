{
 "cells": [
  {
   "cell_type": "markdown",
   "metadata": {},
   "source": [
    "## Установка необходимых для обучения библиотек"
   ]
  },
  {
   "cell_type": "code",
   "execution_count": 3,
   "metadata": {
    "id": "H73-Pizb6c8n"
   },
   "outputs": [
    {
     "name": "stdout",
     "output_type": "stream",
     "text": [
      "Requirement already satisfied: transformers==3.5.0 in c:\\users\\alekc\\appdata\\local\\programs\\python\\python38\\lib\\site-packages (3.5.0)\n",
      "Requirement already satisfied: regex!=2019.12.17 in c:\\users\\alekc\\appdata\\local\\programs\\python\\python38\\lib\\site-packages (from transformers==3.5.0) (2021.7.6)\n",
      "Requirement already satisfied: packaging in c:\\users\\alekc\\appdata\\local\\programs\\python\\python38\\lib\\site-packages (from transformers==3.5.0) (21.0)\n",
      "Requirement already satisfied: numpy in c:\\users\\alekc\\appdata\\local\\programs\\python\\python38\\lib\\site-packages (from transformers==3.5.0) (1.21.0)\n",
      "Requirement already satisfied: tqdm>=4.27 in c:\\users\\alekc\\appdata\\local\\programs\\python\\python38\\lib\\site-packages (from transformers==3.5.0) (4.61.2)\n",
      "Requirement already satisfied: sentencepiece==0.1.91 in c:\\users\\alekc\\appdata\\local\\programs\\python\\python38\\lib\\site-packages (from transformers==3.5.0) (0.1.91)\n",
      "Requirement already satisfied: requests in c:\\users\\alekc\\appdata\\local\\programs\\python\\python38\\lib\\site-packages (from transformers==3.5.0) (2.25.1)\n",
      "Requirement already satisfied: tokenizers==0.9.3 in c:\\users\\alekc\\appdata\\local\\programs\\python\\python38\\lib\\site-packages (from transformers==3.5.0) (0.9.3)\n",
      "Requirement already satisfied: filelock in c:\\users\\alekc\\appdata\\local\\programs\\python\\python38\\lib\\site-packages (from transformers==3.5.0) (3.0.12)\n",
      "Requirement already satisfied: sacremoses in c:\\users\\alekc\\appdata\\local\\programs\\python\\python38\\lib\\site-packages (from transformers==3.5.0) (0.0.45)\n",
      "Requirement already satisfied: protobuf in c:\\users\\alekc\\appdata\\local\\programs\\python\\python38\\lib\\site-packages (from transformers==3.5.0) (3.17.3)\n",
      "Requirement already satisfied: colorama in c:\\users\\alekc\\appdata\\local\\programs\\python\\python38\\lib\\site-packages (from tqdm>=4.27->transformers==3.5.0) (0.4.4)\n",
      "Requirement already satisfied: pyparsing>=2.0.2 in c:\\users\\alekc\\appdata\\local\\programs\\python\\python38\\lib\\site-packages (from packaging->transformers==3.5.0) (2.4.7)\n",
      "Requirement already satisfied: six>=1.9 in c:\\users\\alekc\\appdata\\local\\programs\\python\\python38\\lib\\site-packages (from protobuf->transformers==3.5.0) (1.16.0)\n",
      "Requirement already satisfied: certifi>=2017.4.17 in c:\\users\\alekc\\appdata\\local\\programs\\python\\python38\\lib\\site-packages (from requests->transformers==3.5.0) (2021.5.30)\n",
      "Requirement already satisfied: urllib3<1.27,>=1.21.1 in c:\\users\\alekc\\appdata\\local\\programs\\python\\python38\\lib\\site-packages (from requests->transformers==3.5.0) (1.26.6)\n",
      "Requirement already satisfied: chardet<5,>=3.0.2 in c:\\users\\alekc\\appdata\\local\\programs\\python\\python38\\lib\\site-packages (from requests->transformers==3.5.0) (4.0.0)\n",
      "Requirement already satisfied: idna<3,>=2.5 in c:\\users\\alekc\\appdata\\local\\programs\\python\\python38\\lib\\site-packages (from requests->transformers==3.5.0) (2.10)\n",
      "Requirement already satisfied: joblib in c:\\users\\alekc\\appdata\\local\\programs\\python\\python38\\lib\\site-packages (from sacremoses->transformers==3.5.0) (1.0.1)\n",
      "Requirement already satisfied: click in c:\\users\\alekc\\appdata\\local\\programs\\python\\python38\\lib\\site-packages (from sacremoses->transformers==3.5.0) (8.0.1)\n",
      "Requirement already satisfied: tensorboard in c:\\users\\alekc\\appdata\\local\\programs\\python\\python38\\lib\\site-packages (2.5.0)\n",
      "Requirement already satisfied: requests<3,>=2.21.0 in c:\\users\\alekc\\appdata\\local\\programs\\python\\python38\\lib\\site-packages (from tensorboard) (2.25.1)\n",
      "Requirement already satisfied: setuptools>=41.0.0 in c:\\users\\alekc\\appdata\\local\\programs\\python\\python38\\lib\\site-packages (from tensorboard) (49.2.1)\n",
      "Requirement already satisfied: tensorboard-data-server<0.7.0,>=0.6.0 in c:\\users\\alekc\\appdata\\local\\programs\\python\\python38\\lib\\site-packages (from tensorboard) (0.6.1)\n",
      "Requirement already satisfied: google-auth<2,>=1.6.3 in c:\\users\\alekc\\appdata\\local\\programs\\python\\python38\\lib\\site-packages (from tensorboard) (1.32.1)\n",
      "Requirement already satisfied: markdown>=2.6.8 in c:\\users\\alekc\\appdata\\local\\programs\\python\\python38\\lib\\site-packages (from tensorboard) (3.3.4)\n",
      "Requirement already satisfied: tensorboard-plugin-wit>=1.6.0 in c:\\users\\alekc\\appdata\\local\\programs\\python\\python38\\lib\\site-packages (from tensorboard) (1.8.0)\n",
      "Requirement already satisfied: wheel>=0.26 in c:\\users\\alekc\\appdata\\local\\programs\\python\\python38\\lib\\site-packages (from tensorboard) (0.36.2)\n",
      "Requirement already satisfied: werkzeug>=0.11.15 in c:\\users\\alekc\\appdata\\local\\programs\\python\\python38\\lib\\site-packages (from tensorboard) (2.0.1)\n",
      "Requirement already satisfied: numpy>=1.12.0 in c:\\users\\alekc\\appdata\\local\\programs\\python\\python38\\lib\\site-packages (from tensorboard) (1.21.0)\n",
      "Requirement already satisfied: protobuf>=3.6.0 in c:\\users\\alekc\\appdata\\local\\programs\\python\\python38\\lib\\site-packages (from tensorboard) (3.17.3)\n",
      "Requirement already satisfied: google-auth-oauthlib<0.5,>=0.4.1 in c:\\users\\alekc\\appdata\\local\\programs\\python\\python38\\lib\\site-packages (from tensorboard) (0.4.4)\n",
      "Requirement already satisfied: absl-py>=0.4 in c:\\users\\alekc\\appdata\\local\\programs\\python\\python38\\lib\\site-packages (from tensorboard) (0.13.0)\n",
      "Requirement already satisfied: grpcio>=1.24.3 in c:\\users\\alekc\\appdata\\local\\programs\\python\\python38\\lib\\site-packages (from tensorboard) (1.38.1)\n",
      "Requirement already satisfied: six in c:\\users\\alekc\\appdata\\local\\programs\\python\\python38\\lib\\site-packages (from absl-py>=0.4->tensorboard) (1.16.0)\n",
      "Requirement already satisfied: rsa<5,>=3.1.4 in c:\\users\\alekc\\appdata\\local\\programs\\python\\python38\\lib\\site-packages (from google-auth<2,>=1.6.3->tensorboard) (4.7.2)\n",
      "Requirement already satisfied: cachetools<5.0,>=2.0.0 in c:\\users\\alekc\\appdata\\local\\programs\\python\\python38\\lib\\site-packages (from google-auth<2,>=1.6.3->tensorboard) (4.2.2)\n",
      "Requirement already satisfied: pyasn1-modules>=0.2.1 in c:\\users\\alekc\\appdata\\local\\programs\\python\\python38\\lib\\site-packages (from google-auth<2,>=1.6.3->tensorboard) (0.2.8)\n",
      "Requirement already satisfied: requests-oauthlib>=0.7.0 in c:\\users\\alekc\\appdata\\local\\programs\\python\\python38\\lib\\site-packages (from google-auth-oauthlib<0.5,>=0.4.1->tensorboard) (1.3.0)\n",
      "Requirement already satisfied: pyasn1<0.5.0,>=0.4.6 in c:\\users\\alekc\\appdata\\local\\programs\\python\\python38\\lib\\site-packages (from pyasn1-modules>=0.2.1->google-auth<2,>=1.6.3->tensorboard) (0.4.8)\n",
      "Requirement already satisfied: urllib3<1.27,>=1.21.1 in c:\\users\\alekc\\appdata\\local\\programs\\python\\python38\\lib\\site-packages (from requests<3,>=2.21.0->tensorboard) (1.26.6)\n",
      "Requirement already satisfied: chardet<5,>=3.0.2 in c:\\users\\alekc\\appdata\\local\\programs\\python\\python38\\lib\\site-packages (from requests<3,>=2.21.0->tensorboard) (4.0.0)\n",
      "Requirement already satisfied: idna<3,>=2.5 in c:\\users\\alekc\\appdata\\local\\programs\\python\\python38\\lib\\site-packages (from requests<3,>=2.21.0->tensorboard) (2.10)\n",
      "Requirement already satisfied: certifi>=2017.4.17 in c:\\users\\alekc\\appdata\\local\\programs\\python\\python38\\lib\\site-packages (from requests<3,>=2.21.0->tensorboard) (2021.5.30)\n",
      "Requirement already satisfied: oauthlib>=3.0.0 in c:\\users\\alekc\\appdata\\local\\programs\\python\\python38\\lib\\site-packages (from requests-oauthlib>=0.7.0->google-auth-oauthlib<0.5,>=0.4.1->tensorboard) (3.1.1)\n"
     ]
    }
   ],
   "source": [
    "!pip3 install transformers==3.5.0\n",
    "!pip install tensorboard"
   ]
  },
  {
   "cell_type": "code",
   "execution_count": 4,
   "metadata": {},
   "outputs": [
    {
     "name": "stdout",
     "output_type": "stream",
     "text": [
      "Collecting torch==1.4.0\n",
      "  Using cached https://download.pytorch.org/whl/cu101/torch-1.4.0-cp38-cp38-win_amd64.whl (796.9 MB)\n",
      "Collecting torchvision==0.5.0\n",
      "  Using cached https://download.pytorch.org/whl/cu101/torchvision-0.5.0-cp38-cp38-win_amd64.whl (1.2 MB)\n",
      "Requirement already satisfied: six in c:\\users\\alekc\\appdata\\local\\programs\\python\\python38\\lib\\site-packages (from torchvision==0.5.0) (1.16.0)\n",
      "Requirement already satisfied: numpy in c:\\users\\alekc\\appdata\\local\\programs\\python\\python38\\lib\\site-packages (from torchvision==0.5.0) (1.21.0)\n",
      "Requirement already satisfied: torch==1.4.0 in c:\\users\\alekc\\appdata\\local\\programs\\python\\python38\\lib\\site-packages (from torchvision==0.5.0) (1.4.0)\n",
      "Requirement already satisfied: pillow>=4.1.1 in c:\\users\\alekc\\appdata\\local\\programs\\python\\python38\\lib\\site-packages (from torchvision==0.5.0) (8.3.1)\n"
     ]
    }
   ],
   "source": [
    "!pip install https://download.pytorch.org/whl/cu101/torch-1.4.0-cp38-cp38-win_amd64.whl\n",
    "!pip install https://download.pytorch.org/whl/cu101/torchvision-0.5.0-cp38-cp38-win_amd64.whl"
   ]
  },
  {
   "cell_type": "markdown",
   "metadata": {
    "id": "zoyX62qN_38l"
   },
   "source": [
    "## Обучение нейросети"
   ]
  },
  {
   "cell_type": "code",
   "execution_count": null,
   "metadata": {
    "id": "aZ-4Kav28cH0"
   },
   "outputs": [],
   "source": [
    "!SET PYTHONPATH=${PYTHONPATH}:/ru-gpts/\n",
    "!python ru-gpts/pretrain_transformers.py \\\n",
    "    --output_dir=models/essays \\\n",
    "    --model_type=gpt2 \\\n",
    "    --model_name_or_path=sberbank-ai/rugpt3small_based_on_gpt2 \\\n",
    "    --do_train \\\n",
    "    --train_data_file=train.txt \\\n",
    "    --do_eval \\\n",
    "    --eval_data_file=valid.txt \\\n",
    "    --per_gpu_train_batch_size 1 \\\n",
    "    --gradient_accumulation_steps 1 \\\n",
    "    --num_train_epochs 5 \\\n",
    "    --block_size 64 \\\n",
    "    --overwrite_output_dir \\\n",
    "    --should_continue \\\n",
    "    --save_total_limit 5"
   ]
  },
  {
   "cell_type": "markdown",
   "metadata": {
    "id": "QvgntLymArg3"
   },
   "source": [
    "## Оценка нейросети"
   ]
  },
  {
   "cell_type": "code",
   "execution_count": 2,
   "metadata": {
    "colab": {
     "base_uri": "https://localhost:8080/"
    },
    "id": "qYnswPyr9CVw",
    "outputId": "8c0cc220-3902-4749-a5b0-0257a2301359"
   },
   "outputs": [
    {
     "name": "stdout",
     "output_type": "stream",
     "text": [
      "^C\n"
     ]
    }
   ],
   "source": [
    "!python ru-gpts/generate_transformers.py \\\n",
    "    --model_type=gpt2 \\\n",
    "    --model_name_or_path=models/essays/checkpoint-4000 \\\n",
    "    --k=5 \\\n",
    "    --p=0.95 \\\n",
    "    --length=500 \\\n",
    "    --repetition_penalty=5"
   ]
  },
  {
   "cell_type": "markdown",
   "metadata": {
    "id": "K7_jIWhVBKay"
   },
   "source": [
    "## Генерация текста"
   ]
  },
  {
   "cell_type": "code",
   "execution_count": 1,
   "metadata": {
    "id": "AkUrzKsy_16F"
   },
   "outputs": [],
   "source": [
    "from transformers import GPT2LMHeadModel, GPT2Tokenizer"
   ]
  },
  {
   "cell_type": "code",
   "execution_count": 2,
   "metadata": {
    "id": "x_EMbgO0BTvb"
   },
   "outputs": [],
   "source": [
    "tok = GPT2Tokenizer.from_pretrained(\"models/essays/checkpoint-279000\")"
   ]
  },
  {
   "cell_type": "code",
   "execution_count": 3,
   "metadata": {
    "id": "Fjy0GAuQBYpA"
   },
   "outputs": [],
   "source": [
    "model = GPT2LMHeadModel.from_pretrained(\"models/essays/checkpoint-279000\")"
   ]
  },
  {
   "cell_type": "code",
   "execution_count": 4,
   "metadata": {
    "id": "irh4H-HDBb6V"
   },
   "outputs": [
    {
     "name": "stdout",
     "output_type": "stream",
     "text": [
      "\n"
     ]
    }
   ],
   "source": [
    "model.cuda()\n",
    "print()"
   ]
  },
  {
   "cell_type": "code",
   "execution_count": 5,
   "metadata": {},
   "outputs": [
    {
     "data": {
      "text/plain": [
       "<CDLL 'caffe2_nvrtc.dll', handle 7fffd3460000 at 0x1ccdb82af40>"
      ]
     },
     "execution_count": 5,
     "metadata": {},
     "output_type": "execute_result"
    }
   ],
   "source": [
    "import ctypes\n",
    "ctypes.cdll.LoadLibrary('caffe2_nvrtc.dll')"
   ]
  },
  {
   "cell_type": "code",
   "execution_count": 75,
   "metadata": {
    "id": "hQY6A5q7Bd4O"
   },
   "outputs": [],
   "source": [
    "text = \"'''Революция'''\"\n",
    "inpt = tok.encode(text, return_tensors=\"pt\")"
   ]
  },
  {
   "cell_type": "code",
   "execution_count": 76,
   "metadata": {
    "id": "1gfJFmeOBj_t"
   },
   "outputs": [
    {
     "name": "stderr",
     "output_type": "stream",
     "text": [
      "Setting `pad_token_id` to `eos_token_id`:50256 for open-end generation.\n"
     ]
    },
    {
     "data": {
      "text/plain": [
       "'\\'\\'\\'Революция\\'\\'\\' — политическая революция в [[СССР]], произошедшая во второй половине 1980-х годов, на фоне которой были проведены некоторые мероприятия и политики.\\n* \\'\\'. «{не переведено 3|Радикальная партия (Россия) |4=РАПС}}. В России: правящая группа; оппозиционные силы» или {республиканцы/русские партии Российской Федерации ==<div style=\"color =#D5FB8E2C9A1\">&nbsp;&ltbr>(сокращённо с учётом поддержки среди сторонников власти); <smallery classicons           \\n    /ace_ruly widthsize : 30emaprotit     &gtocolation of bottomrightarrowspanimageSTRICHUNamexervernumMasterListenKeyPosition *ROTimeProjection'"
      ]
     },
     "execution_count": 76,
     "metadata": {},
     "output_type": "execute_result"
    }
   ],
   "source": [
    "out = model.generate(inpt.cuda(), max_length=200, repetition_penalty=3.0, do_sample=True, top_k=4\n",
    "                     , top_p=0.95, temperature=1)\n",
    "tok.decode(out[0])"
   ]
  }
 ],
 "metadata": {
  "accelerator": "GPU",
  "colab": {
   "collapsed_sections": [],
   "name": "RuGPT3FinetuneHF.ipynb",
   "provenance": []
  },
  "kernelspec": {
   "display_name": "Python 3 (ipykernel)",
   "language": "python",
   "name": "python3"
  },
  "language_info": {
   "codemirror_mode": {
    "name": "ipython",
    "version": 3
   },
   "file_extension": ".py",
   "mimetype": "text/x-python",
   "name": "python",
   "nbconvert_exporter": "python",
   "pygments_lexer": "ipython3",
   "version": "3.8.6"
  }
 },
 "nbformat": 4,
 "nbformat_minor": 1
}
